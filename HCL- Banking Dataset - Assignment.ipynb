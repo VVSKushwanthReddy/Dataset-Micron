{
 "cells": [
  {
   "cell_type": "markdown",
   "metadata": {
    "toc": true
   },
   "source": [
    "<h1>Table of Contents<span class=\"tocSkip\"></span></h1>\n",
    "<div class=\"toc\"><ul class=\"toc-item\"><li><span><a href=\"#1.0----Bank-Marketing-DataSet---Target-Customer-Centric-Approach\" data-toc-modified-id=\"1.0----Bank-Marketing-DataSet---Target-Customer-Centric-Approach-0\">1.0    Bank Marketing DataSet - Target Customer Centric Approach</a></span></li><li><span><a href=\"#2.0-Marketing-Introduction\" data-toc-modified-id=\"2.0-Marketing-Introduction-1\">2.0 Marketing Introduction</a></span></li><li><span><a href=\"#2.1-Marketing-campaigns\" data-toc-modified-id=\"2.1-Marketing-campaigns-2\">2.1 Marketing campaigns</a></span></li><li><span><a href=\"#3.0-What-is-a-Term-Deposit?\" data-toc-modified-id=\"3.0-What-is-a-Term-Deposit?-3\">3.0 What is a Term Deposit?</a></span></li><li><span><a href=\"#4.0-Importing-Necessary-Library-Functions\" data-toc-modified-id=\"4.0-Importing-Necessary-Library-Functions-4\">4.0 Importing Necessary Library Functions</a></span></li><li><span><a href=\"#5.0-Dataset\" data-toc-modified-id=\"5.0-Dataset-5\">5.0 Dataset</a></span></li><li><span><a href=\"#6.0-Variables-Understanding\" data-toc-modified-id=\"6.0-Variables-Understanding-6\">6.0 Variables Understanding</a></span></li><li><span><a href=\"#6.1-Data-Touch-Points\" data-toc-modified-id=\"6.1-Data-Touch-Points-7\">6.1 Data Touch Points</a></span></li><li><span><a href=\"#6.2-Independent-Variables\" data-toc-modified-id=\"6.2-Independent-Variables-8\">6.2 Independent Variables</a></span></li><li><span><a href=\"#6.2.1-Customer-Attributes\" data-toc-modified-id=\"6.2.1-Customer-Attributes-9\">6.2.1 Customer Attributes</a></span></li><li><span><a href=\"#6.2.2-Campaign\" data-toc-modified-id=\"6.2.2-Campaign-10\">6.2.2 Campaign</a></span></li><li><span><a href=\"#6.2.3-Social-&amp;-Economic-Attributes\" data-toc-modified-id=\"6.2.3-Social-&amp;-Economic-Attributes-11\">6.2.3 Social &amp; Economic Attributes</a></span></li><li><span><a href=\"#6.3-Dependent-Variable\" data-toc-modified-id=\"6.3-Dependent-Variable-12\">6.3 Dependent Variable</a></span></li><li><span><a href=\"#7.0-Exploring-the-Basic-Statistical-Information-From-the-Data\" data-toc-modified-id=\"7.0-Exploring-the-Basic-Statistical-Information-From-the-Data-13\">7.0 Exploring the Basic Statistical Information From the Data</a></span></li><li><span><a href=\"#7.1-Summary\" data-toc-modified-id=\"7.1-Summary-14\">7.1 Summary</a></span></li><li><span><a href=\"#7.2-Data-Shape\" data-toc-modified-id=\"7.2-Data-Shape-15\">7.2 Data Shape</a></span></li><li><span><a href=\"#7.3-Data-Information\" data-toc-modified-id=\"7.3-Data-Information-16\">7.3 Data Information</a></span></li><li><span><a href=\"#7.4-NA-Check\" data-toc-modified-id=\"7.4-NA-Check-17\">7.4 NA Check</a></span></li><li><span><a href=\"#7.5-Handling-Unknown-Values\" data-toc-modified-id=\"7.5-Handling-Unknown-Values-18\">7.5 Handling Unknown Values</a></span></li><li><span><a href=\"#7.6-Binning-Numerical-Variables\" data-toc-modified-id=\"7.6-Binning-Numerical-Variables-19\">7.6 Binning Numerical Variables</a></span></li><li><span><a href=\"#8.0-Exploratory-Data-Analysis-&amp;-Visualization\" data-toc-modified-id=\"8.0-Exploratory-Data-Analysis-&amp;-Visualization-20\">8.0 Exploratory Data Analysis &amp; Visualization</a></span></li><li><span><a href=\"#8.1-Distribution-of-Numerical-Features\" data-toc-modified-id=\"8.1-Distribution-of-Numerical-Features-21\">8.1 Distribution of Numerical Features</a></span></li><li><span><a href=\"#8.2-Education-Distribution\" data-toc-modified-id=\"8.2-Education-Distribution-22\">8.2 Education Distribution</a></span></li><li><span><a href=\"#8.3-Generating-New-Features-Balance-using-cons.price.idx\" data-toc-modified-id=\"8.3-Generating-New-Features-Balance-using-cons.price.idx-23\">8.3 Generating New Features Balance using cons.price.idx</a></span></li><li><span><a href=\"#8.4-Term-Deposit-Analysis-Against-Education-&amp;-Balance\" data-toc-modified-id=\"8.4-Term-Deposit-Analysis-Against-Education-&amp;-Balance-24\">8.4 Term Deposit Analysis Against Education &amp; Balance</a></span></li><li><span><a href=\"#8.5-Analysis-of-Occupation\" data-toc-modified-id=\"8.5-Analysis-of-Occupation-25\">8.5 Analysis of Occupation</a></span></li><li><span><a href=\"#8.6-Analysis-of-Marital-Status-and-Term-Deposit\" data-toc-modified-id=\"8.6-Analysis-of-Marital-Status-and-Term-Deposit-26\">8.6 Analysis of Marital Status and Term Deposit</a></span></li><li><span><a href=\"#8.7-Analysis-of-Education-and-Term-Deposit\" data-toc-modified-id=\"8.7-Analysis-of-Education-and-Term-Deposit-27\">8.7 Analysis of Education and Term Deposit</a></span></li><li><span><a href=\"#8.8-Analysis-of-Day-of-Week-and-Term-Deposit\" data-toc-modified-id=\"8.8-Analysis-of-Day-of-Week-and-Term-Deposit-28\">8.8 Analysis of Day of Week and Term Deposit</a></span></li><li><span><a href=\"#8.9-Analysis-of-Month-and-Term-deposit\" data-toc-modified-id=\"8.9-Analysis-of-Month-and-Term-deposit-29\">8.9 Analysis of Month and Term deposit</a></span></li><li><span><a href=\"#8.10-Analysis-of-Age-and-Term-deposit\" data-toc-modified-id=\"8.10-Analysis-of-Age-and-Term-deposit-30\">8.10 Analysis of Age and Term deposit</a></span></li><li><span><a href=\"#8.11-Analysis-of-poutcome-and-Term-deposit\" data-toc-modified-id=\"8.11-Analysis-of-poutcome-and-Term-deposit-31\">8.11 Analysis of poutcome and Term deposit</a></span></li><li><span><a href=\"#8.12-Correlation-of-Numerical-variable\" data-toc-modified-id=\"8.12-Correlation-of-Numerical-variable-32\">8.12 Correlation of Numerical variable</a></span></li><li><span><a href=\"#8.13-Analyis-of-Default,Housing,loan-and-Term-Deposit\" data-toc-modified-id=\"8.13-Analyis-of-Default,Housing,loan-and-Term-Deposit-33\">8.13 Analyis of Default,Housing,loan and Term Deposit</a></span></li><li><span><a href=\"#8.14-Clustering-Analysis-for-Numerical-Variables\" data-toc-modified-id=\"8.14-Clustering-Analysis-for-Numerical-Variables-34\">8.14 Clustering Analysis for Numerical Variables</a></span></li><li><span><a href=\"#9.0-Base-Model-Building\" data-toc-modified-id=\"9.0-Base-Model-Building-35\">9.0 Base Model Building</a></span></li><li><span><a href=\"#9.1-Encoding\" data-toc-modified-id=\"9.1-Encoding-36\">9.1 Encoding</a></span></li><li><span><a href=\"#9.1.1-Pipelining\" data-toc-modified-id=\"9.1.1-Pipelining-37\">9.1.1 Pipelining</a></span></li><li><span><a href=\"#9.1.3-Cross-Validation\" data-toc-modified-id=\"9.1.3-Cross-Validation-38\">9.1.3 Cross Validation</a></span></li><li><span><a href=\"#9.1.4-Confusion-Matrix\" data-toc-modified-id=\"9.1.4-Confusion-Matrix-39\">9.1.4 Confusion Matrix</a></span></li><li><span><a href=\"#9.1.5-Precision-and-Recall\" data-toc-modified-id=\"9.1.5-Precision-and-Recall-40\">9.1.5 Precision and Recall</a></span></li><li><span><a href=\"#9.1.6-F1-Score\" data-toc-modified-id=\"9.1.6-F1-Score-41\">9.1.6 F1 Score</a></span></li><li><span><a href=\"#9.1.7-Precision-and-Recall-Curve\" data-toc-modified-id=\"9.1.7-Precision-and-Recall-Curve-42\">9.1.7 Precision and Recall Curve</a></span></li><li><span><a href=\"#9.1.8-ROC-Curve\" data-toc-modified-id=\"9.1.8-ROC-Curve-43\">9.1.8 ROC Curve</a></span></li><li><span><a href=\"#9.2-Feature-Importance\" data-toc-modified-id=\"9.2-Feature-Importance-44\">9.2 Feature Importance</a></span></li><li><span><a href=\"#10.0-Final-Model-For-Submission-with-the-Top-Feature\" data-toc-modified-id=\"10.0-Final-Model-For-Submission-with-the-Top-Feature-45\">10.0 Final Model For Submission with the Top Feature</a></span></li><li><span><a href=\"#11.0-Conclusion\" data-toc-modified-id=\"11.0-Conclusion-46\">11.0 Conclusion</a></span></li></ul></div>"
   ]
  },
  {
   "cell_type": "markdown",
   "metadata": {},
   "source": [
    "# 1.0    Bank Marketing DataSet - Target Customer Centric Approach"
   ]
  },
  {
   "cell_type": "markdown",
   "metadata": {},
   "source": [
    "In this note book we will implement the complete machine learning project, focusing all the major machine learning modeling techniques like logistic regression, random forest classifier, decision tree classifier and etc. we will go through the entire machine learning process from cleaning the data, exploring it to find the trends, training the model, predicting the model, hyper parameter tuning and evaluation which also includes of the interpretation of the model where the insights will be shared with the business and stake holders."
   ]
  },
  {
   "cell_type": "markdown",
   "metadata": {},
   "source": [
    "# 2.0 Marketing Introduction"
   ]
  },
  {
   "cell_type": "markdown",
   "metadata": {},
   "source": [
    "It is a philosophy whose main focus is providing customer satisfaction. Marketing is the activity, set of institutions, and process for creating, communicating, delivering, and exchanging offerings that have vlaue for customers, clients, partners and society at large. Also in simple terms all of the activities that help business reach their target market effectively"
   ]
  },
  {
   "cell_type": "markdown",
   "metadata": {},
   "source": [
    "# 2.1 Marketing campaigns"
   ]
  },
  {
   "cell_type": "markdown",
   "metadata": {},
   "source": [
    "Marketing campaigns are characterized by focusing on the customer needs and their overall satisfaction. Nevertheless, there are different variables that determine whether a marketing campaign will be successful or not. There are certain variables that we need to take into consideration when making a marketing campaign"
   ]
  },
  {
   "cell_type": "markdown",
   "metadata": {},
   "source": [
    "The 4 Ps:\n",
    "1) Segment of the Population: To which segment of the population is the marketing campaign going to address and why? This aspect of the marketing campaign is extremely important since it will tell to which part of the population should most likely receive the message of the marketing campaign.\n",
    "\n",
    "2) Distribution channel to reach the customer's place: Implementing the most effective strategy in order to get the most out of this marketing campaign. What segment of the population should we address? Which instrument should we use to get our message out? (Ex: Telephones, Radio, TV, Social Media Etc.)\n",
    "\n",
    "3) Price: What is the best price to offer to potential clients? (In the case of the bank's marketing campaign this is not necessary since the main interest for the bank is for potential clients to open deposit accounts in order to make the operative activities of the bank to keep on running.)\n",
    "\n",
    "4) Promotional Strategy: This is the way the strategy is going to be implemented and how are potential clients going to be address. This should be the last part of the marketing campaign analysis since there has to be an in depth analysis of previous campaigns (If possible) in order to learn from previous mistakes and to determine how to make the marketing campaign much more effective."
   ]
  },
  {
   "cell_type": "markdown",
   "metadata": {},
   "source": [
    "# 3.0 What is a Term Deposit?"
   ]
  },
  {
   "cell_type": "markdown",
   "metadata": {},
   "source": [
    "A Term deposit is a deposit that a bank or a financial institution offers with a fixed rate (often better than just opening deposit account) in which your money will be returned back at a specific maturity time. For more information with regards to Term Deposits please click on this link from Investopedia : https://www.investopedia.com/terms/t/termdeposit.asp"
   ]
  },
  {
   "cell_type": "markdown",
   "metadata": {},
   "source": [
    "# 4.0 Importing Necessary Library Functions"
   ]
  },
  {
   "cell_type": "code",
   "execution_count": 1,
   "metadata": {},
   "outputs": [
    {
     "data": {
      "text/html": [
       "        <script type=\"text/javascript\">\n",
       "        window.PlotlyConfig = {MathJaxConfig: 'local'};\n",
       "        if (window.MathJax) {MathJax.Hub.Config({SVG: {font: \"STIX-Web\"}});}\n",
       "        if (typeof require !== 'undefined') {\n",
       "        require.undef(\"plotly\");\n",
       "        requirejs.config({\n",
       "            paths: {\n",
       "                'plotly': ['https://cdn.plot.ly/plotly-latest.min']\n",
       "            }\n",
       "        });\n",
       "        require(['plotly'], function(Plotly) {\n",
       "            window._Plotly = Plotly;\n",
       "        });\n",
       "        }\n",
       "        </script>\n",
       "        "
      ]
     },
     "metadata": {},
     "output_type": "display_data"
    }
   ],
   "source": [
    "import numpy as np\n",
    "import pandas as pd\n",
    "import matplotlib.pyplot as plt\n",
    "import seaborn as sns\n",
    "from plotly import tools\n",
    "import chart_studio.plotly as py\n",
    "import plotly.figure_factory as ff\n",
    "import plotly.graph_objs as go\n",
    "from plotly.offline import download_plotlyjs, init_notebook_mode, plot, iplot\n",
    "init_notebook_mode(connected=True)"
   ]
  },
  {
   "cell_type": "markdown",
   "metadata": {},
   "source": [
    "# 5.0 Dataset"
   ]
  },
  {
   "cell_type": "markdown",
   "metadata": {},
   "source": [
    "Loading the data and viewing the top 5 records "
   ]
  },
  {
   "cell_type": "code",
   "execution_count": 2,
   "metadata": {},
   "outputs": [],
   "source": [
    "df = pd.read_excel('Bank Marketing Dataset.xlsx')"
   ]
  },
  {
   "cell_type": "code",
   "execution_count": 3,
   "metadata": {},
   "outputs": [],
   "source": [
    "term_deposits = df.copy()"
   ]
  },
  {
   "cell_type": "code",
   "execution_count": 4,
   "metadata": {},
   "outputs": [
    {
     "data": {
      "text/html": [
       "<div>\n",
       "<style scoped>\n",
       "    .dataframe tbody tr th:only-of-type {\n",
       "        vertical-align: middle;\n",
       "    }\n",
       "\n",
       "    .dataframe tbody tr th {\n",
       "        vertical-align: top;\n",
       "    }\n",
       "\n",
       "    .dataframe thead th {\n",
       "        text-align: right;\n",
       "    }\n",
       "</style>\n",
       "<table border=\"1\" class=\"dataframe\">\n",
       "  <thead>\n",
       "    <tr style=\"text-align: right;\">\n",
       "      <th></th>\n",
       "      <th>age</th>\n",
       "      <th>job</th>\n",
       "      <th>marital</th>\n",
       "      <th>education</th>\n",
       "      <th>default</th>\n",
       "      <th>housing</th>\n",
       "      <th>loan</th>\n",
       "      <th>contact</th>\n",
       "      <th>month</th>\n",
       "      <th>day_of_week</th>\n",
       "      <th>...</th>\n",
       "      <th>campaign</th>\n",
       "      <th>pdays</th>\n",
       "      <th>previous</th>\n",
       "      <th>poutcome</th>\n",
       "      <th>emp.var.rate</th>\n",
       "      <th>cons.price.idx</th>\n",
       "      <th>cons.conf.idx</th>\n",
       "      <th>euribor3m</th>\n",
       "      <th>nr.employed</th>\n",
       "      <th>y</th>\n",
       "    </tr>\n",
       "  </thead>\n",
       "  <tbody>\n",
       "    <tr>\n",
       "      <td>0</td>\n",
       "      <td>56</td>\n",
       "      <td>housemaid</td>\n",
       "      <td>married</td>\n",
       "      <td>basic.4y</td>\n",
       "      <td>no</td>\n",
       "      <td>no</td>\n",
       "      <td>no</td>\n",
       "      <td>telephone</td>\n",
       "      <td>may</td>\n",
       "      <td>mon</td>\n",
       "      <td>...</td>\n",
       "      <td>1</td>\n",
       "      <td>999</td>\n",
       "      <td>0</td>\n",
       "      <td>nonexistent</td>\n",
       "      <td>1.1</td>\n",
       "      <td>93.994</td>\n",
       "      <td>-36.4</td>\n",
       "      <td>4.857</td>\n",
       "      <td>5191.0</td>\n",
       "      <td>no</td>\n",
       "    </tr>\n",
       "    <tr>\n",
       "      <td>1</td>\n",
       "      <td>57</td>\n",
       "      <td>services</td>\n",
       "      <td>married</td>\n",
       "      <td>high.school</td>\n",
       "      <td>unknown</td>\n",
       "      <td>no</td>\n",
       "      <td>no</td>\n",
       "      <td>telephone</td>\n",
       "      <td>may</td>\n",
       "      <td>mon</td>\n",
       "      <td>...</td>\n",
       "      <td>1</td>\n",
       "      <td>999</td>\n",
       "      <td>0</td>\n",
       "      <td>nonexistent</td>\n",
       "      <td>1.1</td>\n",
       "      <td>93.994</td>\n",
       "      <td>-36.4</td>\n",
       "      <td>4.857</td>\n",
       "      <td>5191.0</td>\n",
       "      <td>no</td>\n",
       "    </tr>\n",
       "    <tr>\n",
       "      <td>2</td>\n",
       "      <td>37</td>\n",
       "      <td>services</td>\n",
       "      <td>married</td>\n",
       "      <td>high.school</td>\n",
       "      <td>no</td>\n",
       "      <td>yes</td>\n",
       "      <td>no</td>\n",
       "      <td>telephone</td>\n",
       "      <td>may</td>\n",
       "      <td>mon</td>\n",
       "      <td>...</td>\n",
       "      <td>1</td>\n",
       "      <td>999</td>\n",
       "      <td>0</td>\n",
       "      <td>nonexistent</td>\n",
       "      <td>1.1</td>\n",
       "      <td>93.994</td>\n",
       "      <td>-36.4</td>\n",
       "      <td>4.857</td>\n",
       "      <td>5191.0</td>\n",
       "      <td>no</td>\n",
       "    </tr>\n",
       "    <tr>\n",
       "      <td>3</td>\n",
       "      <td>40</td>\n",
       "      <td>admin.</td>\n",
       "      <td>married</td>\n",
       "      <td>basic.6y</td>\n",
       "      <td>no</td>\n",
       "      <td>no</td>\n",
       "      <td>no</td>\n",
       "      <td>telephone</td>\n",
       "      <td>may</td>\n",
       "      <td>mon</td>\n",
       "      <td>...</td>\n",
       "      <td>1</td>\n",
       "      <td>999</td>\n",
       "      <td>0</td>\n",
       "      <td>nonexistent</td>\n",
       "      <td>1.1</td>\n",
       "      <td>93.994</td>\n",
       "      <td>-36.4</td>\n",
       "      <td>4.857</td>\n",
       "      <td>5191.0</td>\n",
       "      <td>no</td>\n",
       "    </tr>\n",
       "    <tr>\n",
       "      <td>4</td>\n",
       "      <td>56</td>\n",
       "      <td>services</td>\n",
       "      <td>married</td>\n",
       "      <td>high.school</td>\n",
       "      <td>no</td>\n",
       "      <td>no</td>\n",
       "      <td>yes</td>\n",
       "      <td>telephone</td>\n",
       "      <td>may</td>\n",
       "      <td>mon</td>\n",
       "      <td>...</td>\n",
       "      <td>1</td>\n",
       "      <td>999</td>\n",
       "      <td>0</td>\n",
       "      <td>nonexistent</td>\n",
       "      <td>1.1</td>\n",
       "      <td>93.994</td>\n",
       "      <td>-36.4</td>\n",
       "      <td>4.857</td>\n",
       "      <td>5191.0</td>\n",
       "      <td>no</td>\n",
       "    </tr>\n",
       "  </tbody>\n",
       "</table>\n",
       "<p>5 rows × 21 columns</p>\n",
       "</div>"
      ],
      "text/plain": [
       "   age        job  marital    education  default housing loan    contact  \\\n",
       "0   56  housemaid  married     basic.4y       no      no   no  telephone   \n",
       "1   57   services  married  high.school  unknown      no   no  telephone   \n",
       "2   37   services  married  high.school       no     yes   no  telephone   \n",
       "3   40     admin.  married     basic.6y       no      no   no  telephone   \n",
       "4   56   services  married  high.school       no      no  yes  telephone   \n",
       "\n",
       "  month day_of_week  ...  campaign  pdays  previous     poutcome emp.var.rate  \\\n",
       "0   may         mon  ...         1    999         0  nonexistent          1.1   \n",
       "1   may         mon  ...         1    999         0  nonexistent          1.1   \n",
       "2   may         mon  ...         1    999         0  nonexistent          1.1   \n",
       "3   may         mon  ...         1    999         0  nonexistent          1.1   \n",
       "4   may         mon  ...         1    999         0  nonexistent          1.1   \n",
       "\n",
       "   cons.price.idx  cons.conf.idx  euribor3m  nr.employed   y  \n",
       "0          93.994          -36.4      4.857       5191.0  no  \n",
       "1          93.994          -36.4      4.857       5191.0  no  \n",
       "2          93.994          -36.4      4.857       5191.0  no  \n",
       "3          93.994          -36.4      4.857       5191.0  no  \n",
       "4          93.994          -36.4      4.857       5191.0  no  \n",
       "\n",
       "[5 rows x 21 columns]"
      ]
     },
     "execution_count": 4,
     "metadata": {},
     "output_type": "execute_result"
    }
   ],
   "source": [
    "df.head()"
   ]
  },
  {
   "cell_type": "markdown",
   "metadata": {},
   "source": [
    "# 6.0 Variables Understanding "
   ]
  },
  {
   "cell_type": "markdown",
   "metadata": {},
   "source": [
    "# 6.1 Data Touch Points "
   ]
  },
  {
   "cell_type": "markdown",
   "metadata": {},
   "source": [
    "# 6.2 Independent Variables"
   ]
  },
  {
   "cell_type": "markdown",
   "metadata": {},
   "source": [
    "# 6.2.1 Customer Attributes "
   ]
  },
  {
   "cell_type": "markdown",
   "metadata": {},
   "source": [
    "Age - Data Type is Numeric (age of the customer)"
   ]
  },
  {
   "cell_type": "markdown",
   "metadata": {},
   "source": [
    "Job - Data Type is Categorical (has job or not or unkown or even a student)"
   ]
  },
  {
   "cell_type": "markdown",
   "metadata": {},
   "source": [
    "Martial - Data Type is Categorical (married or not or unkown)    "
   ]
  },
  {
   "cell_type": "markdown",
   "metadata": {},
   "source": [
    "Education - Data Type is Categorical (educational level or unknown)    "
   ]
  },
  {
   "cell_type": "markdown",
   "metadata": {},
   "source": [
    "Default - Data Type is Categorical (credit defaulter or not or unknown)    "
   ]
  },
  {
   "cell_type": "markdown",
   "metadata": {},
   "source": [
    "Housing - Data Type is Categorical (has housing loan or not or unknown)    "
   ]
  },
  {
   "cell_type": "markdown",
   "metadata": {},
   "source": [
    "Loan - Data Type is Categorical (has personal loan or not or unknown)    "
   ]
  },
  {
   "cell_type": "markdown",
   "metadata": {},
   "source": [
    "# 6.2.2 Campaign "
   ]
  },
  {
   "cell_type": "markdown",
   "metadata": {},
   "source": [
    "Contact - Data Type is Categorical (contact type cell phone or telephone)    "
   ]
  },
  {
   "cell_type": "markdown",
   "metadata": {},
   "source": [
    "Month - Data Type is categorical (last contacted month like jan,feb,ect.)    "
   ]
  },
  {
   "cell_type": "markdown",
   "metadata": {},
   "source": [
    "Day_of_week - Data Type is categorical (last contacted day of the week like mon,etc)"
   ]
  },
  {
   "cell_type": "markdown",
   "metadata": {},
   "source": [
    "Duration - Data Type is Numeric (last contacted duration)"
   ]
  },
  {
   "cell_type": "markdown",
   "metadata": {},
   "source": [
    "Campaign - Data Type is Numeric (No of times contacted during this campaign)"
   ]
  },
  {
   "cell_type": "markdown",
   "metadata": {},
   "source": [
    "Pdays - Data Type is Numeric (No of days passed post previous campaign last contact)"
   ]
  },
  {
   "cell_type": "markdown",
   "metadata": {},
   "source": [
    "Previous - Data Type is Numeric (No of times contacted before this campaign)"
   ]
  },
  {
   "cell_type": "markdown",
   "metadata": {},
   "source": [
    "Outcome - Data Type is Categorical (Outcome of previous Campaign)"
   ]
  },
  {
   "cell_type": "markdown",
   "metadata": {},
   "source": [
    "# 6.2.3 Social & Economic Attributes"
   ]
  },
  {
   "cell_type": "markdown",
   "metadata": {},
   "source": [
    "EMP.Var.Rate - Data Type is Numeric (Employment variation rate)"
   ]
  },
  {
   "cell_type": "markdown",
   "metadata": {},
   "source": [
    "Cons.Price.Idx - Data type is numeric (Consumer price index)"
   ]
  },
  {
   "cell_type": "markdown",
   "metadata": {},
   "source": [
    "Cons.Conf.Idx - Data Type is Numeric (Consumer confidence index)"
   ]
  },
  {
   "cell_type": "markdown",
   "metadata": {},
   "source": [
    "Euribor3m - Data Type is Numeric (Euribor 3 Month Rate)"
   ]
  },
  {
   "cell_type": "markdown",
   "metadata": {},
   "source": [
    "Nr.Employed - Data Type is Numeric (No of employees)"
   ]
  },
  {
   "cell_type": "markdown",
   "metadata": {},
   "source": [
    "# 6.3 Dependent Variable "
   ]
  },
  {
   "cell_type": "markdown",
   "metadata": {},
   "source": [
    "Y - Target Variable (Whether the customer has subscribed a term deposit or not)"
   ]
  },
  {
   "cell_type": "markdown",
   "metadata": {},
   "source": [
    "# 7.0 Exploring the Basic Statistical Information From the Data"
   ]
  },
  {
   "cell_type": "markdown",
   "metadata": {},
   "source": [
    "# 7.1 Summary "
   ]
  },
  {
   "cell_type": "markdown",
   "metadata": {},
   "source": [
    "Mean Age is approximately 40 years old. (Minimum: 17 years old and Maximum: 98 years old)"
   ]
  },
  {
   "cell_type": "markdown",
   "metadata": {},
   "source": [
    "The average age of customers who bought the term deposit is higher than that of the customers who didn't."
   ]
  },
  {
   "cell_type": "markdown",
   "metadata": {},
   "source": [
    "The pdays (days since the customer was last contacted) is understandably lower for the customers who bought it. The lower the pdays, the better the memory of the last call and hence the better chances of a sale."
   ]
  },
  {
   "cell_type": "markdown",
   "metadata": {},
   "source": [
    "Surprisingly, campaigns (number of contacts or calls made during the current campaign) are lower for customers who bought the term deposit."
   ]
  },
  {
   "cell_type": "markdown",
   "metadata": {},
   "source": [
    "The mean cons.conf.idx is -40.50. However, the Standard Deviation (std) is a high number so we can understand through this that the cons.conf.idx is heavily distributed across the dataset."
   ]
  },
  {
   "cell_type": "markdown",
   "metadata": {},
   "source": [
    "As the data information said it will be better to drop the duration column since duration is highly correlated in whether a potential client will buy a term deposit. Also, duration is obtained after the call is made to the potential client so if the target client has never received calls this feature is not that useful. The reason why duration is highly correlated with opening a term deposit is because the more the bank talks to a target client the higher the probability the target client will open a term deposit since a higher duration means a higher interest (commitment) from the potential client."
   ]
  },
  {
   "cell_type": "markdown",
   "metadata": {},
   "source": [
    "Note: There are not that much insights we can gain from the descriptive dataset since most of our descriptive data is located not in the \"numeric\" columns but in the \"categorical columns\"."
   ]
  },
  {
   "cell_type": "code",
   "execution_count": 5,
   "metadata": {},
   "outputs": [
    {
     "data": {
      "text/html": [
       "<div>\n",
       "<style scoped>\n",
       "    .dataframe tbody tr th:only-of-type {\n",
       "        vertical-align: middle;\n",
       "    }\n",
       "\n",
       "    .dataframe tbody tr th {\n",
       "        vertical-align: top;\n",
       "    }\n",
       "\n",
       "    .dataframe thead th {\n",
       "        text-align: right;\n",
       "    }\n",
       "</style>\n",
       "<table border=\"1\" class=\"dataframe\">\n",
       "  <thead>\n",
       "    <tr style=\"text-align: right;\">\n",
       "      <th></th>\n",
       "      <th>age</th>\n",
       "      <th>duration</th>\n",
       "      <th>campaign</th>\n",
       "      <th>pdays</th>\n",
       "      <th>previous</th>\n",
       "      <th>emp.var.rate</th>\n",
       "      <th>cons.price.idx</th>\n",
       "      <th>cons.conf.idx</th>\n",
       "      <th>euribor3m</th>\n",
       "      <th>nr.employed</th>\n",
       "    </tr>\n",
       "  </thead>\n",
       "  <tbody>\n",
       "    <tr>\n",
       "      <td>count</td>\n",
       "      <td>41188.00000</td>\n",
       "      <td>41188.000000</td>\n",
       "      <td>41188.000000</td>\n",
       "      <td>41188.000000</td>\n",
       "      <td>41188.000000</td>\n",
       "      <td>41188.000000</td>\n",
       "      <td>41188.000000</td>\n",
       "      <td>41188.000000</td>\n",
       "      <td>41188.000000</td>\n",
       "      <td>41188.000000</td>\n",
       "    </tr>\n",
       "    <tr>\n",
       "      <td>mean</td>\n",
       "      <td>40.02406</td>\n",
       "      <td>258.285010</td>\n",
       "      <td>2.567593</td>\n",
       "      <td>962.475454</td>\n",
       "      <td>0.172963</td>\n",
       "      <td>0.081886</td>\n",
       "      <td>93.575664</td>\n",
       "      <td>-40.502600</td>\n",
       "      <td>3.621291</td>\n",
       "      <td>5167.035911</td>\n",
       "    </tr>\n",
       "    <tr>\n",
       "      <td>std</td>\n",
       "      <td>10.42125</td>\n",
       "      <td>259.279249</td>\n",
       "      <td>2.770014</td>\n",
       "      <td>186.910907</td>\n",
       "      <td>0.494901</td>\n",
       "      <td>1.570960</td>\n",
       "      <td>0.578840</td>\n",
       "      <td>4.628198</td>\n",
       "      <td>1.734447</td>\n",
       "      <td>72.251528</td>\n",
       "    </tr>\n",
       "    <tr>\n",
       "      <td>min</td>\n",
       "      <td>17.00000</td>\n",
       "      <td>0.000000</td>\n",
       "      <td>1.000000</td>\n",
       "      <td>0.000000</td>\n",
       "      <td>0.000000</td>\n",
       "      <td>-3.400000</td>\n",
       "      <td>92.201000</td>\n",
       "      <td>-50.800000</td>\n",
       "      <td>0.634000</td>\n",
       "      <td>4963.600000</td>\n",
       "    </tr>\n",
       "    <tr>\n",
       "      <td>25%</td>\n",
       "      <td>32.00000</td>\n",
       "      <td>102.000000</td>\n",
       "      <td>1.000000</td>\n",
       "      <td>999.000000</td>\n",
       "      <td>0.000000</td>\n",
       "      <td>-1.800000</td>\n",
       "      <td>93.075000</td>\n",
       "      <td>-42.700000</td>\n",
       "      <td>1.344000</td>\n",
       "      <td>5099.100000</td>\n",
       "    </tr>\n",
       "    <tr>\n",
       "      <td>50%</td>\n",
       "      <td>38.00000</td>\n",
       "      <td>180.000000</td>\n",
       "      <td>2.000000</td>\n",
       "      <td>999.000000</td>\n",
       "      <td>0.000000</td>\n",
       "      <td>1.100000</td>\n",
       "      <td>93.749000</td>\n",
       "      <td>-41.800000</td>\n",
       "      <td>4.857000</td>\n",
       "      <td>5191.000000</td>\n",
       "    </tr>\n",
       "    <tr>\n",
       "      <td>75%</td>\n",
       "      <td>47.00000</td>\n",
       "      <td>319.000000</td>\n",
       "      <td>3.000000</td>\n",
       "      <td>999.000000</td>\n",
       "      <td>0.000000</td>\n",
       "      <td>1.400000</td>\n",
       "      <td>93.994000</td>\n",
       "      <td>-36.400000</td>\n",
       "      <td>4.961000</td>\n",
       "      <td>5228.100000</td>\n",
       "    </tr>\n",
       "    <tr>\n",
       "      <td>max</td>\n",
       "      <td>98.00000</td>\n",
       "      <td>4918.000000</td>\n",
       "      <td>56.000000</td>\n",
       "      <td>999.000000</td>\n",
       "      <td>7.000000</td>\n",
       "      <td>1.400000</td>\n",
       "      <td>94.767000</td>\n",
       "      <td>-26.900000</td>\n",
       "      <td>5.045000</td>\n",
       "      <td>5228.100000</td>\n",
       "    </tr>\n",
       "  </tbody>\n",
       "</table>\n",
       "</div>"
      ],
      "text/plain": [
       "               age      duration      campaign         pdays      previous  \\\n",
       "count  41188.00000  41188.000000  41188.000000  41188.000000  41188.000000   \n",
       "mean      40.02406    258.285010      2.567593    962.475454      0.172963   \n",
       "std       10.42125    259.279249      2.770014    186.910907      0.494901   \n",
       "min       17.00000      0.000000      1.000000      0.000000      0.000000   \n",
       "25%       32.00000    102.000000      1.000000    999.000000      0.000000   \n",
       "50%       38.00000    180.000000      2.000000    999.000000      0.000000   \n",
       "75%       47.00000    319.000000      3.000000    999.000000      0.000000   \n",
       "max       98.00000   4918.000000     56.000000    999.000000      7.000000   \n",
       "\n",
       "       emp.var.rate  cons.price.idx  cons.conf.idx     euribor3m   nr.employed  \n",
       "count  41188.000000    41188.000000   41188.000000  41188.000000  41188.000000  \n",
       "mean       0.081886       93.575664     -40.502600      3.621291   5167.035911  \n",
       "std        1.570960        0.578840       4.628198      1.734447     72.251528  \n",
       "min       -3.400000       92.201000     -50.800000      0.634000   4963.600000  \n",
       "25%       -1.800000       93.075000     -42.700000      1.344000   5099.100000  \n",
       "50%        1.100000       93.749000     -41.800000      4.857000   5191.000000  \n",
       "75%        1.400000       93.994000     -36.400000      4.961000   5228.100000  \n",
       "max        1.400000       94.767000     -26.900000      5.045000   5228.100000  "
      ]
     },
     "execution_count": 5,
     "metadata": {},
     "output_type": "execute_result"
    }
   ],
   "source": [
    "df.describe()"
   ]
  },
  {
   "cell_type": "markdown",
   "metadata": {},
   "source": [
    "Calculating Group Mean"
   ]
  },
  {
   "cell_type": "code",
   "execution_count": 6,
   "metadata": {},
   "outputs": [
    {
     "data": {
      "text/html": [
       "<div>\n",
       "<style scoped>\n",
       "    .dataframe tbody tr th:only-of-type {\n",
       "        vertical-align: middle;\n",
       "    }\n",
       "\n",
       "    .dataframe tbody tr th {\n",
       "        vertical-align: top;\n",
       "    }\n",
       "\n",
       "    .dataframe thead th {\n",
       "        text-align: right;\n",
       "    }\n",
       "</style>\n",
       "<table border=\"1\" class=\"dataframe\">\n",
       "  <thead>\n",
       "    <tr style=\"text-align: right;\">\n",
       "      <th></th>\n",
       "      <th>age</th>\n",
       "      <th>duration</th>\n",
       "      <th>campaign</th>\n",
       "      <th>pdays</th>\n",
       "      <th>previous</th>\n",
       "      <th>emp.var.rate</th>\n",
       "      <th>cons.price.idx</th>\n",
       "      <th>cons.conf.idx</th>\n",
       "      <th>euribor3m</th>\n",
       "      <th>nr.employed</th>\n",
       "    </tr>\n",
       "    <tr>\n",
       "      <th>y</th>\n",
       "      <th></th>\n",
       "      <th></th>\n",
       "      <th></th>\n",
       "      <th></th>\n",
       "      <th></th>\n",
       "      <th></th>\n",
       "      <th></th>\n",
       "      <th></th>\n",
       "      <th></th>\n",
       "      <th></th>\n",
       "    </tr>\n",
       "  </thead>\n",
       "  <tbody>\n",
       "    <tr>\n",
       "      <td>no</td>\n",
       "      <td>39.911185</td>\n",
       "      <td>220.844807</td>\n",
       "      <td>2.633085</td>\n",
       "      <td>984.113878</td>\n",
       "      <td>0.132374</td>\n",
       "      <td>0.248875</td>\n",
       "      <td>93.603757</td>\n",
       "      <td>-40.593097</td>\n",
       "      <td>3.811491</td>\n",
       "      <td>5176.166600</td>\n",
       "    </tr>\n",
       "    <tr>\n",
       "      <td>yes</td>\n",
       "      <td>40.913147</td>\n",
       "      <td>553.191164</td>\n",
       "      <td>2.051724</td>\n",
       "      <td>792.035560</td>\n",
       "      <td>0.492672</td>\n",
       "      <td>-1.233448</td>\n",
       "      <td>93.354386</td>\n",
       "      <td>-39.789784</td>\n",
       "      <td>2.123135</td>\n",
       "      <td>5095.115991</td>\n",
       "    </tr>\n",
       "  </tbody>\n",
       "</table>\n",
       "</div>"
      ],
      "text/plain": [
       "           age    duration  campaign       pdays  previous  emp.var.rate  \\\n",
       "y                                                                          \n",
       "no   39.911185  220.844807  2.633085  984.113878  0.132374      0.248875   \n",
       "yes  40.913147  553.191164  2.051724  792.035560  0.492672     -1.233448   \n",
       "\n",
       "     cons.price.idx  cons.conf.idx  euribor3m  nr.employed  \n",
       "y                                                           \n",
       "no        93.603757     -40.593097   3.811491  5176.166600  \n",
       "yes       93.354386     -39.789784   2.123135  5095.115991  "
      ]
     },
     "execution_count": 6,
     "metadata": {},
     "output_type": "execute_result"
    }
   ],
   "source": [
    "df.groupby('y').mean()"
   ]
  },
  {
   "cell_type": "markdown",
   "metadata": {},
   "source": [
    "Categorical Data Stats"
   ]
  },
  {
   "cell_type": "code",
   "execution_count": 7,
   "metadata": {},
   "outputs": [
    {
     "data": {
      "text/html": [
       "<div>\n",
       "<style scoped>\n",
       "    .dataframe tbody tr th:only-of-type {\n",
       "        vertical-align: middle;\n",
       "    }\n",
       "\n",
       "    .dataframe tbody tr th {\n",
       "        vertical-align: top;\n",
       "    }\n",
       "\n",
       "    .dataframe thead th {\n",
       "        text-align: right;\n",
       "    }\n",
       "</style>\n",
       "<table border=\"1\" class=\"dataframe\">\n",
       "  <thead>\n",
       "    <tr style=\"text-align: right;\">\n",
       "      <th></th>\n",
       "      <th>job</th>\n",
       "      <th>marital</th>\n",
       "      <th>education</th>\n",
       "      <th>default</th>\n",
       "      <th>housing</th>\n",
       "      <th>loan</th>\n",
       "      <th>contact</th>\n",
       "      <th>month</th>\n",
       "      <th>day_of_week</th>\n",
       "      <th>poutcome</th>\n",
       "      <th>y</th>\n",
       "    </tr>\n",
       "  </thead>\n",
       "  <tbody>\n",
       "    <tr>\n",
       "      <td>count</td>\n",
       "      <td>41188</td>\n",
       "      <td>41188</td>\n",
       "      <td>41188</td>\n",
       "      <td>41188</td>\n",
       "      <td>41188</td>\n",
       "      <td>41188</td>\n",
       "      <td>41188</td>\n",
       "      <td>41188</td>\n",
       "      <td>41188</td>\n",
       "      <td>41188</td>\n",
       "      <td>41188</td>\n",
       "    </tr>\n",
       "    <tr>\n",
       "      <td>unique</td>\n",
       "      <td>12</td>\n",
       "      <td>4</td>\n",
       "      <td>8</td>\n",
       "      <td>3</td>\n",
       "      <td>3</td>\n",
       "      <td>3</td>\n",
       "      <td>2</td>\n",
       "      <td>10</td>\n",
       "      <td>5</td>\n",
       "      <td>3</td>\n",
       "      <td>2</td>\n",
       "    </tr>\n",
       "    <tr>\n",
       "      <td>top</td>\n",
       "      <td>admin.</td>\n",
       "      <td>married</td>\n",
       "      <td>university.degree</td>\n",
       "      <td>no</td>\n",
       "      <td>yes</td>\n",
       "      <td>no</td>\n",
       "      <td>cellular</td>\n",
       "      <td>may</td>\n",
       "      <td>thu</td>\n",
       "      <td>nonexistent</td>\n",
       "      <td>no</td>\n",
       "    </tr>\n",
       "    <tr>\n",
       "      <td>freq</td>\n",
       "      <td>10422</td>\n",
       "      <td>24928</td>\n",
       "      <td>12168</td>\n",
       "      <td>32588</td>\n",
       "      <td>21576</td>\n",
       "      <td>33950</td>\n",
       "      <td>26144</td>\n",
       "      <td>13769</td>\n",
       "      <td>8623</td>\n",
       "      <td>35563</td>\n",
       "      <td>36548</td>\n",
       "    </tr>\n",
       "  </tbody>\n",
       "</table>\n",
       "</div>"
      ],
      "text/plain": [
       "           job  marital          education default housing   loan   contact  \\\n",
       "count    41188    41188              41188   41188   41188  41188     41188   \n",
       "unique      12        4                  8       3       3      3         2   \n",
       "top     admin.  married  university.degree      no     yes     no  cellular   \n",
       "freq     10422    24928              12168   32588   21576  33950     26144   \n",
       "\n",
       "        month day_of_week     poutcome      y  \n",
       "count   41188       41188        41188  41188  \n",
       "unique     10           5            3      2  \n",
       "top       may         thu  nonexistent     no  \n",
       "freq    13769        8623        35563  36548  "
      ]
     },
     "execution_count": 7,
     "metadata": {},
     "output_type": "execute_result"
    }
   ],
   "source": [
    "df.describe(include='object')"
   ]
  },
  {
   "cell_type": "markdown",
   "metadata": {},
   "source": [
    "# 7.2 Data Shape "
   ]
  },
  {
   "cell_type": "markdown",
   "metadata": {},
   "source": [
    "Checking the shape of the Data i.e, how many rows and columns are there in the data set"
   ]
  },
  {
   "cell_type": "code",
   "execution_count": 8,
   "metadata": {},
   "outputs": [
    {
     "data": {
      "text/plain": [
       "(41188, 21)"
      ]
     },
     "execution_count": 8,
     "metadata": {},
     "output_type": "execute_result"
    }
   ],
   "source": [
    "df.shape"
   ]
  },
  {
   "cell_type": "markdown",
   "metadata": {},
   "source": [
    "# 7.3 Data Information"
   ]
  },
  {
   "cell_type": "markdown",
   "metadata": {},
   "source": [
    "Checking the Info about the data and its type "
   ]
  },
  {
   "cell_type": "code",
   "execution_count": 9,
   "metadata": {},
   "outputs": [
    {
     "name": "stdout",
     "output_type": "stream",
     "text": [
      "<class 'pandas.core.frame.DataFrame'>\n",
      "RangeIndex: 41188 entries, 0 to 41187\n",
      "Data columns (total 21 columns):\n",
      "age               41188 non-null int64\n",
      "job               41188 non-null object\n",
      "marital           41188 non-null object\n",
      "education         41188 non-null object\n",
      "default           41188 non-null object\n",
      "housing           41188 non-null object\n",
      "loan              41188 non-null object\n",
      "contact           41188 non-null object\n",
      "month             41188 non-null object\n",
      "day_of_week       41188 non-null object\n",
      "duration          41188 non-null int64\n",
      "campaign          41188 non-null int64\n",
      "pdays             41188 non-null int64\n",
      "previous          41188 non-null int64\n",
      "poutcome          41188 non-null object\n",
      "emp.var.rate      41188 non-null float64\n",
      "cons.price.idx    41188 non-null float64\n",
      "cons.conf.idx     41188 non-null float64\n",
      "euribor3m         41188 non-null float64\n",
      "nr.employed       41188 non-null float64\n",
      "y                 41188 non-null object\n",
      "dtypes: float64(5), int64(5), object(11)\n",
      "memory usage: 6.6+ MB\n"
     ]
    }
   ],
   "source": [
    "df.info()"
   ]
  },
  {
   "cell_type": "markdown",
   "metadata": {},
   "source": [
    "# 7.4 NA Check"
   ]
  },
  {
   "cell_type": "markdown",
   "metadata": {},
   "source": [
    "No Missing values"
   ]
  },
  {
   "cell_type": "code",
   "execution_count": 10,
   "metadata": {},
   "outputs": [
    {
     "data": {
      "text/plain": [
       "age               0\n",
       "job               0\n",
       "marital           0\n",
       "education         0\n",
       "default           0\n",
       "housing           0\n",
       "loan              0\n",
       "contact           0\n",
       "month             0\n",
       "day_of_week       0\n",
       "duration          0\n",
       "campaign          0\n",
       "pdays             0\n",
       "previous          0\n",
       "poutcome          0\n",
       "emp.var.rate      0\n",
       "cons.price.idx    0\n",
       "cons.conf.idx     0\n",
       "euribor3m         0\n",
       "nr.employed       0\n",
       "y                 0\n",
       "dtype: int64"
      ]
     },
     "execution_count": 10,
     "metadata": {},
     "output_type": "execute_result"
    }
   ],
   "source": [
    "df.isna().sum()"
   ]
  },
  {
   "cell_type": "markdown",
   "metadata": {},
   "source": [
    "# 7.5 Handling Unknown Values"
   ]
  },
  {
   "cell_type": "code",
   "execution_count": 11,
   "metadata": {},
   "outputs": [
    {
     "data": {
      "text/plain": [
       "Index(['age', 'job', 'marital', 'education', 'default', 'housing', 'loan',\n",
       "       'contact', 'month', 'day_of_week', 'duration', 'campaign', 'pdays',\n",
       "       'previous', 'poutcome', 'emp.var.rate', 'cons.price.idx',\n",
       "       'cons.conf.idx', 'euribor3m', 'nr.employed', 'y'],\n",
       "      dtype='object')"
      ]
     },
     "execution_count": 11,
     "metadata": {},
     "output_type": "execute_result"
    }
   ],
   "source": [
    "df.columns"
   ]
  },
  {
   "cell_type": "code",
   "execution_count": 12,
   "metadata": {},
   "outputs": [
    {
     "data": {
      "text/plain": [
       "array(['nonexistent', 'failure', 'success'], dtype=object)"
      ]
     },
     "execution_count": 12,
     "metadata": {},
     "output_type": "execute_result"
    }
   ],
   "source": [
    "df.poutcome.unique()"
   ]
  },
  {
   "cell_type": "code",
   "execution_count": 13,
   "metadata": {},
   "outputs": [],
   "source": [
    "df[\"poutcome\"] = df.poutcome.replace({'nonexistent':'unk'})"
   ]
  },
  {
   "cell_type": "code",
   "execution_count": 14,
   "metadata": {},
   "outputs": [
    {
     "data": {
      "text/plain": [
       "array(['no', 'yes', 'unknown'], dtype=object)"
      ]
     },
     "execution_count": 14,
     "metadata": {},
     "output_type": "execute_result"
    }
   ],
   "source": [
    "df.loan.unique()"
   ]
  },
  {
   "cell_type": "code",
   "execution_count": 15,
   "metadata": {},
   "outputs": [],
   "source": [
    "df[\"loan\"] = df.loan.replace({'unknown':'unk'})"
   ]
  },
  {
   "cell_type": "code",
   "execution_count": 16,
   "metadata": {},
   "outputs": [],
   "source": [
    "df['loan'].mask(df['loan'] == 'unk', 'no', inplace=True)"
   ]
  },
  {
   "cell_type": "code",
   "execution_count": 17,
   "metadata": {},
   "outputs": [
    {
     "data": {
      "text/plain": [
       "array(['no', 'yes', 'unknown'], dtype=object)"
      ]
     },
     "execution_count": 17,
     "metadata": {},
     "output_type": "execute_result"
    }
   ],
   "source": [
    "df.housing.unique()"
   ]
  },
  {
   "cell_type": "code",
   "execution_count": 18,
   "metadata": {},
   "outputs": [],
   "source": [
    "df[\"housing\"] = df.housing.replace({'unknown':'unk'})"
   ]
  },
  {
   "cell_type": "code",
   "execution_count": 19,
   "metadata": {},
   "outputs": [],
   "source": [
    "df['housing'].mask(df['housing'] == 'unk', 'yes', inplace=True)"
   ]
  },
  {
   "cell_type": "code",
   "execution_count": 20,
   "metadata": {},
   "outputs": [
    {
     "data": {
      "text/plain": [
       "array(['no', 'unknown', 'yes'], dtype=object)"
      ]
     },
     "execution_count": 20,
     "metadata": {},
     "output_type": "execute_result"
    }
   ],
   "source": [
    "df.default.unique()"
   ]
  },
  {
   "cell_type": "code",
   "execution_count": 21,
   "metadata": {},
   "outputs": [],
   "source": [
    "df[\"default\"] = df.default.replace({'unknown':'unk'})"
   ]
  },
  {
   "cell_type": "code",
   "execution_count": 22,
   "metadata": {},
   "outputs": [],
   "source": [
    "df['default'].mask(df['default'] == 'unk', 'no', inplace=True)"
   ]
  },
  {
   "cell_type": "code",
   "execution_count": 23,
   "metadata": {},
   "outputs": [
    {
     "data": {
      "text/plain": [
       "array(['housemaid', 'services', 'admin.', 'blue-collar', 'technician',\n",
       "       'retired', 'management', 'unemployed', 'self-employed', 'unknown',\n",
       "       'entrepreneur', 'student'], dtype=object)"
      ]
     },
     "execution_count": 23,
     "metadata": {},
     "output_type": "execute_result"
    }
   ],
   "source": [
    "df.job.unique()"
   ]
  },
  {
   "cell_type": "code",
   "execution_count": 24,
   "metadata": {},
   "outputs": [],
   "source": [
    "df[\"job\"] = df.job.replace({'unknown':'unk'})"
   ]
  },
  {
   "cell_type": "code",
   "execution_count": 25,
   "metadata": {},
   "outputs": [],
   "source": [
    "df['job'].mask(df['job'] == 'unk', 'admin.', inplace=True)"
   ]
  },
  {
   "cell_type": "code",
   "execution_count": 26,
   "metadata": {},
   "outputs": [
    {
     "data": {
      "text/plain": [
       "array(['married', 'single', 'divorced', 'unknown'], dtype=object)"
      ]
     },
     "execution_count": 26,
     "metadata": {},
     "output_type": "execute_result"
    }
   ],
   "source": [
    "df.marital.unique()"
   ]
  },
  {
   "cell_type": "code",
   "execution_count": 27,
   "metadata": {},
   "outputs": [],
   "source": [
    "df[\"marital\"] = df.marital.replace({'unknown':'unk'})"
   ]
  },
  {
   "cell_type": "code",
   "execution_count": 28,
   "metadata": {},
   "outputs": [],
   "source": [
    "df['marital'].mask(df['marital'] == 'unk', 'married', inplace=True)"
   ]
  },
  {
   "cell_type": "code",
   "execution_count": 29,
   "metadata": {},
   "outputs": [
    {
     "data": {
      "text/plain": [
       "array(['basic.4y', 'high.school', 'basic.6y', 'basic.9y',\n",
       "       'professional.course', 'unknown', 'university.degree',\n",
       "       'illiterate'], dtype=object)"
      ]
     },
     "execution_count": 29,
     "metadata": {},
     "output_type": "execute_result"
    }
   ],
   "source": [
    "df.education.unique()"
   ]
  },
  {
   "cell_type": "code",
   "execution_count": 30,
   "metadata": {},
   "outputs": [],
   "source": [
    "df[\"education\"] = df.education.replace({'basic.4y':'basic4-9y','high.school':'hr.sec','basic.6y':'basic4-9y','basic.9y':'basic4-9y','professional.course':'UG','university.degree':'UG','illiterate':'Uneducated','unknown':'unk'})"
   ]
  },
  {
   "cell_type": "code",
   "execution_count": 31,
   "metadata": {},
   "outputs": [],
   "source": [
    "df['education'].mask(df['education'] == 'unk', 'UG', inplace=True)"
   ]
  },
  {
   "cell_type": "markdown",
   "metadata": {},
   "source": [
    "# 7.6 Binning Numerical Variables "
   ]
  },
  {
   "cell_type": "code",
   "execution_count": 32,
   "metadata": {},
   "outputs": [
    {
     "data": {
      "text/html": [
       "<div>\n",
       "<style scoped>\n",
       "    .dataframe tbody tr th:only-of-type {\n",
       "        vertical-align: middle;\n",
       "    }\n",
       "\n",
       "    .dataframe tbody tr th {\n",
       "        vertical-align: top;\n",
       "    }\n",
       "\n",
       "    .dataframe thead th {\n",
       "        text-align: right;\n",
       "    }\n",
       "</style>\n",
       "<table border=\"1\" class=\"dataframe\">\n",
       "  <thead>\n",
       "    <tr style=\"text-align: right;\">\n",
       "      <th></th>\n",
       "      <th>age</th>\n",
       "      <th>duration</th>\n",
       "      <th>campaign</th>\n",
       "      <th>pdays</th>\n",
       "      <th>previous</th>\n",
       "      <th>emp.var.rate</th>\n",
       "      <th>cons.price.idx</th>\n",
       "      <th>cons.conf.idx</th>\n",
       "      <th>euribor3m</th>\n",
       "      <th>nr.employed</th>\n",
       "    </tr>\n",
       "  </thead>\n",
       "  <tbody>\n",
       "    <tr>\n",
       "      <td>count</td>\n",
       "      <td>41188.00000</td>\n",
       "      <td>41188.000000</td>\n",
       "      <td>41188.000000</td>\n",
       "      <td>41188.000000</td>\n",
       "      <td>41188.000000</td>\n",
       "      <td>41188.000000</td>\n",
       "      <td>41188.000000</td>\n",
       "      <td>41188.000000</td>\n",
       "      <td>41188.000000</td>\n",
       "      <td>41188.000000</td>\n",
       "    </tr>\n",
       "    <tr>\n",
       "      <td>mean</td>\n",
       "      <td>40.02406</td>\n",
       "      <td>258.285010</td>\n",
       "      <td>2.567593</td>\n",
       "      <td>962.475454</td>\n",
       "      <td>0.172963</td>\n",
       "      <td>0.081886</td>\n",
       "      <td>93.575664</td>\n",
       "      <td>-40.502600</td>\n",
       "      <td>3.621291</td>\n",
       "      <td>5167.035911</td>\n",
       "    </tr>\n",
       "    <tr>\n",
       "      <td>std</td>\n",
       "      <td>10.42125</td>\n",
       "      <td>259.279249</td>\n",
       "      <td>2.770014</td>\n",
       "      <td>186.910907</td>\n",
       "      <td>0.494901</td>\n",
       "      <td>1.570960</td>\n",
       "      <td>0.578840</td>\n",
       "      <td>4.628198</td>\n",
       "      <td>1.734447</td>\n",
       "      <td>72.251528</td>\n",
       "    </tr>\n",
       "    <tr>\n",
       "      <td>min</td>\n",
       "      <td>17.00000</td>\n",
       "      <td>0.000000</td>\n",
       "      <td>1.000000</td>\n",
       "      <td>0.000000</td>\n",
       "      <td>0.000000</td>\n",
       "      <td>-3.400000</td>\n",
       "      <td>92.201000</td>\n",
       "      <td>-50.800000</td>\n",
       "      <td>0.634000</td>\n",
       "      <td>4963.600000</td>\n",
       "    </tr>\n",
       "    <tr>\n",
       "      <td>25%</td>\n",
       "      <td>32.00000</td>\n",
       "      <td>102.000000</td>\n",
       "      <td>1.000000</td>\n",
       "      <td>999.000000</td>\n",
       "      <td>0.000000</td>\n",
       "      <td>-1.800000</td>\n",
       "      <td>93.075000</td>\n",
       "      <td>-42.700000</td>\n",
       "      <td>1.344000</td>\n",
       "      <td>5099.100000</td>\n",
       "    </tr>\n",
       "    <tr>\n",
       "      <td>50%</td>\n",
       "      <td>38.00000</td>\n",
       "      <td>180.000000</td>\n",
       "      <td>2.000000</td>\n",
       "      <td>999.000000</td>\n",
       "      <td>0.000000</td>\n",
       "      <td>1.100000</td>\n",
       "      <td>93.749000</td>\n",
       "      <td>-41.800000</td>\n",
       "      <td>4.857000</td>\n",
       "      <td>5191.000000</td>\n",
       "    </tr>\n",
       "    <tr>\n",
       "      <td>75%</td>\n",
       "      <td>47.00000</td>\n",
       "      <td>319.000000</td>\n",
       "      <td>3.000000</td>\n",
       "      <td>999.000000</td>\n",
       "      <td>0.000000</td>\n",
       "      <td>1.400000</td>\n",
       "      <td>93.994000</td>\n",
       "      <td>-36.400000</td>\n",
       "      <td>4.961000</td>\n",
       "      <td>5228.100000</td>\n",
       "    </tr>\n",
       "    <tr>\n",
       "      <td>max</td>\n",
       "      <td>98.00000</td>\n",
       "      <td>4918.000000</td>\n",
       "      <td>56.000000</td>\n",
       "      <td>999.000000</td>\n",
       "      <td>7.000000</td>\n",
       "      <td>1.400000</td>\n",
       "      <td>94.767000</td>\n",
       "      <td>-26.900000</td>\n",
       "      <td>5.045000</td>\n",
       "      <td>5228.100000</td>\n",
       "    </tr>\n",
       "  </tbody>\n",
       "</table>\n",
       "</div>"
      ],
      "text/plain": [
       "               age      duration      campaign         pdays      previous  \\\n",
       "count  41188.00000  41188.000000  41188.000000  41188.000000  41188.000000   \n",
       "mean      40.02406    258.285010      2.567593    962.475454      0.172963   \n",
       "std       10.42125    259.279249      2.770014    186.910907      0.494901   \n",
       "min       17.00000      0.000000      1.000000      0.000000      0.000000   \n",
       "25%       32.00000    102.000000      1.000000    999.000000      0.000000   \n",
       "50%       38.00000    180.000000      2.000000    999.000000      0.000000   \n",
       "75%       47.00000    319.000000      3.000000    999.000000      0.000000   \n",
       "max       98.00000   4918.000000     56.000000    999.000000      7.000000   \n",
       "\n",
       "       emp.var.rate  cons.price.idx  cons.conf.idx     euribor3m   nr.employed  \n",
       "count  41188.000000    41188.000000   41188.000000  41188.000000  41188.000000  \n",
       "mean       0.081886       93.575664     -40.502600      3.621291   5167.035911  \n",
       "std        1.570960        0.578840       4.628198      1.734447     72.251528  \n",
       "min       -3.400000       92.201000     -50.800000      0.634000   4963.600000  \n",
       "25%       -1.800000       93.075000     -42.700000      1.344000   5099.100000  \n",
       "50%        1.100000       93.749000     -41.800000      4.857000   5191.000000  \n",
       "75%        1.400000       93.994000     -36.400000      4.961000   5228.100000  \n",
       "max        1.400000       94.767000     -26.900000      5.045000   5228.100000  "
      ]
     },
     "execution_count": 32,
     "metadata": {},
     "output_type": "execute_result"
    }
   ],
   "source": [
    "df.describe()"
   ]
  },
  {
   "cell_type": "code",
   "execution_count": 33,
   "metadata": {},
   "outputs": [
    {
     "data": {
      "text/plain": [
       "array([56, 57, 37, 40, 45, 59, 41, 24, 25, 29, 35, 54, 46, 50, 39, 30, 55,\n",
       "       49, 34, 52, 58, 32, 38, 44, 42, 60, 53, 47, 51, 48, 33, 31, 43, 36,\n",
       "       28, 27, 26, 22, 23, 20, 21, 61, 19, 18, 70, 66, 76, 67, 73, 88, 95,\n",
       "       77, 68, 75, 63, 80, 62, 65, 72, 82, 64, 71, 69, 78, 85, 79, 83, 81,\n",
       "       74, 17, 87, 91, 86, 98, 94, 84, 92, 89], dtype=int64)"
      ]
     },
     "execution_count": 33,
     "metadata": {},
     "output_type": "execute_result"
    }
   ],
   "source": [
    "df.age.unique()"
   ]
  },
  {
   "cell_type": "code",
   "execution_count": 34,
   "metadata": {},
   "outputs": [],
   "source": [
    "df['age_bins'] = pd.cut(x=df['age'], bins=[0, 18, 30, 49, 60, 75, 100])"
   ]
  },
  {
   "cell_type": "code",
   "execution_count": 35,
   "metadata": {},
   "outputs": [
    {
     "data": {
      "text/plain": [
       "[(49, 60], (30, 49], (18, 30], (60, 75], (0, 18], (75, 100]]\n",
       "Categories (6, interval[int64]): [(0, 18] < (18, 30] < (30, 49] < (49, 60] < (60, 75] < (75, 100]]"
      ]
     },
     "execution_count": 35,
     "metadata": {},
     "output_type": "execute_result"
    }
   ],
   "source": [
    "df.age_bins.unique()"
   ]
  },
  {
   "cell_type": "markdown",
   "metadata": {},
   "source": [
    "# 8.0 Exploratory Data Analysis & Visualization"
   ]
  },
  {
   "cell_type": "markdown",
   "metadata": {},
   "source": [
    "# 8.1 Distribution of Numerical Features"
   ]
  },
  {
   "cell_type": "code",
   "execution_count": 36,
   "metadata": {
    "scrolled": true
   },
   "outputs": [
    {
     "data": {
      "image/png": "[encoded data removed]",
      "text/plain": [
       "<Figure size 1008x720 with 12 Axes>"
      ]
     },
     "metadata": {},
     "output_type": "display_data"
    }
   ],
   "source": [
    "import matplotlib.pyplot as plt\n",
    "plt.style.use('seaborn-whitegrid')\n",
    "\n",
    "df.hist(bins=20, figsize=(14,10), color='#9b59b6')\n",
    "plt.show()"
   ]
  },
  {
   "cell_type": "markdown",
   "metadata": {},
   "source": [
    "# 8.2 Education Distribution"
   ]
  },
  {
   "cell_type": "code",
   "execution_count": 37,
   "metadata": {},
   "outputs": [
    {
     "data": {
      "image/png": "[encoded data removed]",
      "text/plain": [
       "<Figure size 432x288 with 1 Axes>"
      ]
     },
     "metadata": {},
     "output_type": "display_data"
    }
   ],
   "source": [
    "sns.set(style=\"darkgrid\")\n",
    "ax = sns.countplot(x=\"education\", data=df,order = df['education'].value_counts().index)\n",
    "plt.show()"
   ]
  },
  {
   "cell_type": "markdown",
   "metadata": {},
   "source": [
    "# 8.3 Generating New Features Balance using cons.price.idx"
   ]
  },
  {
   "cell_type": "markdown",
   "metadata": {},
   "source": [
    "Taking the Median value of cons.price.idx to calculate Income as from the data every one used to spend 0.2% of their income on the consumer goods and services generally and so subtracting the value obtained with cons.price.idx and cons.conf.idx will give the balance in account approx"
   ]
  },
  {
   "cell_type": "code",
   "execution_count": 38,
   "metadata": {},
   "outputs": [],
   "source": [
    "x=(df['cons.price.idx'].median())*100 / .2"
   ]
  },
  {
   "cell_type": "code",
   "execution_count": 39,
   "metadata": {},
   "outputs": [],
   "source": [
    "y=(df['cons.conf.idx'].median())*100 / .2"
   ]
  },
  {
   "cell_type": "code",
   "execution_count": 40,
   "metadata": {},
   "outputs": [],
   "source": [
    "df['balance']=x-(df['cons.price.idx']-df['cons.conf.idx'])"
   ]
  },
  {
   "cell_type": "markdown",
   "metadata": {},
   "source": [
    "# 8.4 Term Deposit Analysis Against Education & Balance"
   ]
  },
  {
   "cell_type": "code",
   "execution_count": 41,
   "metadata": {},
   "outputs": [
    {
     "data": {
      "image/png": "[encoded data removed]",
      "text/plain": [
       "<Figure size 1152x576 with 2 Axes>"
      ]
     },
     "metadata": {},
     "output_type": "display_data"
    }
   ],
   "source": [
    "f, ax = plt.subplots(1,2, figsize=(16,8))\n",
    "colors = [\"#FA5858\", \"#64FE2E\"]\n",
    "labels =\"Did not Open Term Deposit\", \"Opened Term Deposit\"\n",
    "plt.suptitle('Information on Term Deposit', fontsize=30)\n",
    "df[\"y\"].value_counts().plot.pie(explode=[0,0.25], autopct='%1.2f%%', ax=ax[0], shadow=True, colors=colors, \n",
    "                                             labels=labels, fontsize=12, startangle=82)\n",
    "ax[0].set_ylabel('% of Condition of Term Deposit', fontsize=14)\n",
    "palette = [\"#FA5858\", \"#64FE2E\"]\n",
    "\n",
    "sns.barplot(x=\"education\", y=\"balance\", hue=\"y\", data=df, palette=palette, estimator=lambda x: len(x) / len(df) * 100)\n",
    "ax[1].set(ylabel=\"(%)\")\n",
    "ax[1].set_xticklabels(df[\"education\"].unique(), rotation=0, rotation_mode=\"anchor\")\n",
    "plt.show()"
   ]
  },
  {
   "cell_type": "markdown",
   "metadata": {},
   "source": [
    "Checking For Class Balance"
   ]
  },
  {
   "cell_type": "code",
   "execution_count": 42,
   "metadata": {},
   "outputs": [
    {
     "data": {
      "text/plain": [
       "no     0.887346\n",
       "yes    0.112654\n",
       "Name: y, dtype: float64"
      ]
     },
     "execution_count": 42,
     "metadata": {},
     "output_type": "execute_result"
    }
   ],
   "source": [
    "df.y.value_counts()/df.y.count()"
   ]
  },
  {
   "cell_type": "markdown",
   "metadata": {},
   "source": [
    "# 8.5 Analysis of Occupation"
   ]
  },
  {
   "cell_type": "markdown",
   "metadata": {},
   "source": [
    "Number of Occupations: Management is the occupation that is more prevalent in this dataset."
   ]
  },
  {
   "cell_type": "markdown",
   "metadata": {},
   "source": [
    "Age by Occupation: The blue colored are the ones who have the highest median age while student are the lowest."
   ]
  },
  {
   "cell_type": "markdown",
   "metadata": {},
   "source": [
    "Balance by Occupation: Entrepreneurs and Retirees are the ones who have the highest balance in their accounts."
   ]
  },
  {
   "cell_type": "markdown",
   "metadata": {},
   "source": [
    "The frequency of purchase of the deposit depends a great deal on the job title. Thus, the job title can be a good predictor of the outcome variable."
   ]
  },
  {
   "cell_type": "code",
   "execution_count": 43,
   "metadata": {},
   "outputs": [],
   "source": [
    "df = df.drop(df.loc[df[\"job\"] == \"unknown\"].index)\n",
    "# Admin and management are basically the same let's put it under the same categorical value\n",
    "lst = [df]\n",
    "for col in lst:\n",
    "    col.loc[col[\"job\"] == \"admin.\", \"job\"] = \"management\""
   ]
  },
  {
   "cell_type": "code",
   "execution_count": 44,
   "metadata": {},
   "outputs": [
    {
     "data": {
      "text/plain": [
       "Index(['age', 'job', 'marital', 'education', 'default', 'housing', 'loan',\n",
       "       'contact', 'month', 'day_of_week', 'duration', 'campaign', 'pdays',\n",
       "       'previous', 'poutcome', 'emp.var.rate', 'cons.price.idx',\n",
       "       'cons.conf.idx', 'euribor3m', 'nr.employed', 'y', 'age_bins',\n",
       "       'balance'],\n",
       "      dtype='object')"
      ]
     },
     "execution_count": 44,
     "metadata": {},
     "output_type": "execute_result"
    }
   ],
   "source": [
    "df.columns"
   ]
  },
  {
   "cell_type": "code",
   "execution_count": 45,
   "metadata": {},
   "outputs": [
    {
     "data": {
      "application/vnd.plotly.v1+json": {
       "config": {
        "linkText": "Export to plot.ly",
        "plotlyServerURL": "https://plot.ly",
        "showLink": false
       },
       "data": [
        {
         "mode": "text",
         "text": [
          "management",
          "blue-collar",
          "technician",
          "services",
          "retired",
          "entrepreneur",
          "self-employed",
          "housemaid",
          "unemployed",
          "student"
         ],
         "type": "scatter",
         "x": [
          27.83577741089638,
          27.83577741089638,
          77.83577741089638,
          77.83577741089638,
          65.00014890382207,
          65.00014890382207,
          87.16437149292568,
          80.88890027490574,
          93.72452878198006,
          87.16437149292572
         ],
         "y": [
          29.821194941125164,
          79.82119494112516,
          18.465877971300255,
          47.800963961003404,
          69.86149820664515,
          90.52641221694199,
          65.38981564270878,
          81.9170180376716,
          81.9170180376716,
          95.86228838466597
         ]
        }
       ],
       "layout": {
        "annotations": [
         {
          "showarrow": false,
          "text": "13676",
          "x": 27.83577741089638,
          "y": 29.821194941125164
         },
         {
          "showarrow": false,
          "text": "9254",
          "x": 27.83577741089638,
          "y": 79.82119494112516
         },
         {
          "showarrow": false,
          "text": "6743",
          "x": 77.83577741089638,
          "y": 18.465877971300255
         },
         {
          "showarrow": false,
          "text": "3969",
          "x": 77.83577741089638,
          "y": 47.800963961003404
         },
         {
          "showarrow": false,
          "text": "1720",
          "x": 65.00014890382207,
          "y": 69.86149820664515
         },
         {
          "showarrow": false,
          "text": "1456",
          "x": 65.00014890382207,
          "y": 90.52641221694199
         },
         {
          "showarrow": false,
          "text": "1421",
          "x": 87.16437149292568,
          "y": 65.38981564270878
         },
         {
          "showarrow": false,
          "text": "1060",
          "x": 80.88890027490574,
          "y": 81.9170180376716
         },
         {
          "showarrow": false,
          "text": "1014",
          "x": 93.72452878198006,
          "y": 81.9170180376716
         },
         {
          "showarrow": false,
          "text": "875",
          "x": 87.16437149292572,
          "y": 95.86228838466597
         }
        ],
        "height": 700,
        "hovermode": "closest",
        "shapes": [
         {
          "fillcolor": "rgb(200, 255, 144)",
          "line": {
           "width": 2
          },
          "type": "rect",
          "x0": 0,
          "x1": 55.67155482179276,
          "y0": 0,
          "y1": 59.64238988225033
         },
         {
          "fillcolor": "rgb(135, 206, 235)",
          "line": {
           "width": 2
          },
          "type": "rect",
          "x0": 0,
          "x1": 55.67155482179276,
          "y0": 59.64238988225033,
          "y1": 100
         },
         {
          "fillcolor": "rgb(235, 164, 135)",
          "line": {
           "width": 2
          },
          "type": "rect",
          "x0": 55.67155482179276,
          "x1": 100,
          "y0": 0,
          "y1": 36.93175594260051
         },
         {
          "fillcolor": "rgb(220, 208, 255)",
          "line": {
           "width": 2
          },
          "type": "rect",
          "x0": 55.67155482179276,
          "x1": 100,
          "y0": 36.93175594260051,
          "y1": 58.6701719794063
         },
         {
          "fillcolor": "rgb(253, 253, 150)",
          "line": {
           "width": 2
          },
          "type": "rect",
          "x0": 55.67155482179276,
          "x1": 74.32874298585136,
          "y0": 58.6701719794063,
          "y1": 81.052824433884
         },
         {
          "fillcolor": "rgb(255, 127, 80)",
          "line": {
           "width": 2
          },
          "type": "rect",
          "x0": 55.67155482179276,
          "x1": 74.32874298585136,
          "y0": 81.052824433884,
          "y1": 100
         },
         {
          "fillcolor": "rgb(218, 156, 133)",
          "line": {
           "width": 2
          },
          "type": "rect",
          "x0": 74.32874298585136,
          "x1": 100,
          "y0": 58.6701719794063,
          "y1": 72.10945930601126
         },
         {
          "fillcolor": "rgb(245, 92, 76)",
          "line": {
           "width": 2
          },
          "type": "rect",
          "x0": 74.32874298585136,
          "x1": 87.44905756396011,
          "y0": 72.10945930601126,
          "y1": 91.72457676933195
         },
         {
          "fillcolor": "rgb(252,64,68)",
          "line": {
           "width": 2
          },
          "type": "rect",
          "x0": 87.44905756396011,
          "x1": 99.99999999999999,
          "y0": 72.10945930601126,
          "y1": 91.72457676933195
         },
         {
          "fillcolor": "rgb(154,123,91)",
          "line": {
           "width": 2
          },
          "type": "rect",
          "x0": 74.32874298585136,
          "x1": 100.00000000000009,
          "y0": 91.72457676933195,
          "y1": 100
         }
        ],
        "template": {
         "data": {
          "bar": [
           {
            "error_x": {
             "color": "#2a3f5f"
            },
            "error_y": {
             "color": "#2a3f5f"
            },
            "marker": {
             "line": {
              "color": "#E5ECF6",
              "width": 0.5
             }
            },
            "type": "bar"
           }
          ],
          "barpolar": [
           {
            "marker": {
             "line": {
              "color": "#E5ECF6",
              "width": 0.5
             }
            },
            "type": "barpolar"
           }
          ],
          "carpet": [
           {
            "aaxis": {
             "endlinecolor": "#2a3f5f",
             "gridcolor": "white",
             "linecolor": "white",
             "minorgridcolor": "white",
             "startlinecolor": "#2a3f5f"
            },
            "baxis": {
             "endlinecolor": "#2a3f5f",
             "gridcolor": "white",
             "linecolor": "white",
             "minorgridcolor": "white",
             "startlinecolor": "#2a3f5f"
            },
            "type": "carpet"
           }
          ],
          "choropleth": [
           {
            "colorbar": {
             "outlinewidth": 0,
             "ticks": ""
            },
            "type": "choropleth"
           }
          ],
          "contour": [
           {
            "colorbar": {
             "outlinewidth": 0,
             "ticks": ""
            },
            "colorscale": [
             [
              0,
              "#0d0887"
             ],
             [
              0.1111111111111111,
              "#46039f"
             ],
             [
              0.2222222222222222,
              "#7201a8"
             ],
             [
              0.3333333333333333,
              "#9c179e"
             ],
             [
              0.4444444444444444,
              "#bd3786"
             ],
             [
              0.5555555555555556,
              "#d8576b"
             ],
             [
              0.6666666666666666,
              "#ed7953"
             ],
             [
              0.7777777777777778,
              "#fb9f3a"
             ],
             [
              0.8888888888888888,
              "#fdca26"
             ],
             [
              1,
              "#f0f921"
             ]
            ],
            "type": "contour"
           }
          ],
          "contourcarpet": [
           {
            "colorbar": {
             "outlinewidth": 0,
             "ticks": ""
            },
            "type": "contourcarpet"
           }
          ],
          "heatmap": [
           {
            "colorbar": {
             "outlinewidth": 0,
             "ticks": ""
            },
            "colorscale": [
             [
              0,
              "#0d0887"
             ],
             [
              0.1111111111111111,
              "#46039f"
             ],
             [
              0.2222222222222222,
              "#7201a8"
             ],
             [
              0.3333333333333333,
              "#9c179e"
             ],
             [
              0.4444444444444444,
              "#bd3786"
             ],
             [
              0.5555555555555556,
              "#d8576b"
             ],
             [
              0.6666666666666666,
              "#ed7953"
             ],
             [
              0.7777777777777778,
              "#fb9f3a"
             ],
             [
              0.8888888888888888,
              "#fdca26"
             ],
             [
              1,
              "#f0f921"
             ]
            ],
            "type": "heatmap"
           }
          ],
          "heatmapgl": [
           {
            "colorbar": {
             "outlinewidth": 0,
             "ticks": ""
            },
            "colorscale": [
             [
              0,
              "#0d0887"
             ],
             [
              0.1111111111111111,
              "#46039f"
             ],
             [
              0.2222222222222222,
              "#7201a8"
             ],
             [
              0.3333333333333333,
              "#9c179e"
             ],
             [
              0.4444444444444444,
              "#bd3786"
             ],
             [
              0.5555555555555556,
              "#d8576b"
             ],
             [
              0.6666666666666666,
              "#ed7953"
             ],
             [
              0.7777777777777778,
              "#fb9f3a"
             ],
             [
              0.8888888888888888,
              "#fdca26"
             ],
             [
              1,
              "#f0f921"
             ]
            ],
            "type": "heatmapgl"
           }
          ],
          "histogram": [
           {
            "marker": {
             "colorbar": {
              "outlinewidth": 0,
              "ticks": ""
             }
            },
            "type": "histogram"
           }
          ],
          "histogram2d": [
           {
            "colorbar": {
             "outlinewidth": 0,
             "ticks": ""
            },
            "colorscale": [
             [
              0,
              "#0d0887"
             ],
             [
              0.1111111111111111,
              "#46039f"
             ],
             [
              0.2222222222222222,
              "#7201a8"
             ],
             [
              0.3333333333333333,
              "#9c179e"
             ],
             [
              0.4444444444444444,
              "#bd3786"
             ],
             [
              0.5555555555555556,
              "#d8576b"
             ],
             [
              0.6666666666666666,
              "#ed7953"
             ],
             [
              0.7777777777777778,
              "#fb9f3a"
             ],
             [
              0.8888888888888888,
              "#fdca26"
             ],
             [
              1,
              "#f0f921"
             ]
            ],
            "type": "histogram2d"
           }
          ],
          "histogram2dcontour": [
           {
            "colorbar": {
             "outlinewidth": 0,
             "ticks": ""
            },
            "colorscale": [
             [
              0,
              "#0d0887"
             ],
             [
              0.1111111111111111,
              "#46039f"
             ],
             [
              0.2222222222222222,
              "#7201a8"
             ],
             [
              0.3333333333333333,
              "#9c179e"
             ],
             [
              0.4444444444444444,
              "#bd3786"
             ],
             [
              0.5555555555555556,
              "#d8576b"
             ],
             [
              0.6666666666666666,
              "#ed7953"
             ],
             [
              0.7777777777777778,
              "#fb9f3a"
             ],
             [
              0.8888888888888888,
              "#fdca26"
             ],
             [
              1,
              "#f0f921"
             ]
            ],
            "type": "histogram2dcontour"
           }
          ],
          "mesh3d": [
           {
            "colorbar": {
             "outlinewidth": 0,
             "ticks": ""
            },
            "type": "mesh3d"
           }
          ],
          "parcoords": [
           {
            "line": {
             "colorbar": {
              "outlinewidth": 0,
              "ticks": ""
             }
            },
            "type": "parcoords"
           }
          ],
          "pie": [
           {
            "automargin": true,
            "type": "pie"
           }
          ],
          "scatter": [
           {
            "marker": {
             "colorbar": {
              "outlinewidth": 0,
              "ticks": ""
             }
            },
            "type": "scatter"
           }
          ],
          "scatter3d": [
           {
            "line": {
             "colorbar": {
              "outlinewidth": 0,
              "ticks": ""
             }
            },
            "marker": {
             "colorbar": {
              "outlinewidth": 0,
              "ticks": ""
             }
            },
            "type": "scatter3d"
           }
          ],
          "scattercarpet": [
           {
            "marker": {
             "colorbar": {
              "outlinewidth": 0,
              "ticks": ""
             }
            },
            "type": "scattercarpet"
           }
          ],
          "scattergeo": [
           {
            "marker": {
             "colorbar": {
              "outlinewidth": 0,
              "ticks": ""
             }
            },
            "type": "scattergeo"
           }
          ],
          "scattergl": [
           {
            "marker": {
             "colorbar": {
              "outlinewidth": 0,
              "ticks": ""
             }
            },
            "type": "scattergl"
           }
          ],
          "scattermapbox": [
           {
            "marker": {
             "colorbar": {
              "outlinewidth": 0,
              "ticks": ""
             }
            },
            "type": "scattermapbox"
           }
          ],
          "scatterpolar": [
           {
            "marker": {
             "colorbar": {
              "outlinewidth": 0,
              "ticks": ""
             }
            },
            "type": "scatterpolar"
           }
          ],
          "scatterpolargl": [
           {
            "marker": {
             "colorbar": {
              "outlinewidth": 0,
              "ticks": ""
             }
            },
            "type": "scatterpolargl"
           }
          ],
          "scatterternary": [
           {
            "marker": {
             "colorbar": {
              "outlinewidth": 0,
              "ticks": ""
             }
            },
            "type": "scatterternary"
           }
          ],
          "surface": [
           {
            "colorbar": {
             "outlinewidth": 0,
             "ticks": ""
            },
            "colorscale": [
             [
              0,
              "#0d0887"
             ],
             [
              0.1111111111111111,
              "#46039f"
             ],
             [
              0.2222222222222222,
              "#7201a8"
             ],
             [
              0.3333333333333333,
              "#9c179e"
             ],
             [
              0.4444444444444444,
              "#bd3786"
             ],
             [
              0.5555555555555556,
              "#d8576b"
             ],
             [
              0.6666666666666666,
              "#ed7953"
             ],
             [
              0.7777777777777778,
              "#fb9f3a"
             ],
             [
              0.8888888888888888,
              "#fdca26"
             ],
             [
              1,
              "#f0f921"
             ]
            ],
            "type": "surface"
           }
          ],
          "table": [
           {
            "cells": {
             "fill": {
              "color": "#EBF0F8"
             },
             "line": {
              "color": "white"
             }
            },
            "header": {
             "fill": {
              "color": "#C8D4E3"
             },
             "line": {
              "color": "white"
             }
            },
            "type": "table"
           }
          ]
         },
         "layout": {
          "annotationdefaults": {
           "arrowcolor": "#2a3f5f",
           "arrowhead": 0,
           "arrowwidth": 1
          },
          "coloraxis": {
           "colorbar": {
            "outlinewidth": 0,
            "ticks": ""
           }
          },
          "colorscale": {
           "diverging": [
            [
             0,
             "#8e0152"
            ],
            [
             0.1,
             "#c51b7d"
            ],
            [
             0.2,
             "#de77ae"
            ],
            [
             0.3,
             "#f1b6da"
            ],
            [
             0.4,
             "#fde0ef"
            ],
            [
             0.5,
             "#f7f7f7"
            ],
            [
             0.6,
             "#e6f5d0"
            ],
            [
             0.7,
             "#b8e186"
            ],
            [
             0.8,
             "#7fbc41"
            ],
            [
             0.9,
             "#4d9221"
            ],
            [
             1,
             "#276419"
            ]
           ],
           "sequential": [
            [
             0,
             "#0d0887"
            ],
            [
             0.1111111111111111,
             "#46039f"
            ],
            [
             0.2222222222222222,
             "#7201a8"
            ],
            [
             0.3333333333333333,
             "#9c179e"
            ],
            [
             0.4444444444444444,
             "#bd3786"
            ],
            [
             0.5555555555555556,
             "#d8576b"
            ],
            [
             0.6666666666666666,
             "#ed7953"
            ],
            [
             0.7777777777777778,
             "#fb9f3a"
            ],
            [
             0.8888888888888888,
             "#fdca26"
            ],
            [
             1,
             "#f0f921"
            ]
           ],
           "sequentialminus": [
            [
             0,
             "#0d0887"
            ],
            [
             0.1111111111111111,
             "#46039f"
            ],
            [
             0.2222222222222222,
             "#7201a8"
            ],
            [
             0.3333333333333333,
             "#9c179e"
            ],
            [
             0.4444444444444444,
             "#bd3786"
            ],
            [
             0.5555555555555556,
             "#d8576b"
            ],
            [
             0.6666666666666666,
             "#ed7953"
            ],
            [
             0.7777777777777778,
             "#fb9f3a"
            ],
            [
             0.8888888888888888,
             "#fdca26"
            ],
            [
             1,
             "#f0f921"
            ]
           ]
          },
          "colorway": [
           "#636efa",
           "#EF553B",
           "#00cc96",
           "#ab63fa",
           "#FFA15A",
           "#19d3f3",
           "#FF6692",
           "#B6E880",
           "#FF97FF",
           "#FECB52"
          ],
          "font": {
           "color": "#2a3f5f"
          },
          "geo": {
           "bgcolor": "white",
           "lakecolor": "white",
           "landcolor": "#E5ECF6",
           "showlakes": true,
           "showland": true,
           "subunitcolor": "white"
          },
          "hoverlabel": {
           "align": "left"
          },
          "hovermode": "closest",
          "mapbox": {
           "style": "light"
          },
          "paper_bgcolor": "white",
          "plot_bgcolor": "#E5ECF6",
          "polar": {
           "angularaxis": {
            "gridcolor": "white",
            "linecolor": "white",
            "ticks": ""
           },
           "bgcolor": "#E5ECF6",
           "radialaxis": {
            "gridcolor": "white",
            "linecolor": "white",
            "ticks": ""
           }
          },
          "scene": {
           "xaxis": {
            "backgroundcolor": "#E5ECF6",
            "gridcolor": "white",
            "gridwidth": 2,
            "linecolor": "white",
            "showbackground": true,
            "ticks": "",
            "zerolinecolor": "white"
           },
           "yaxis": {
            "backgroundcolor": "#E5ECF6",
            "gridcolor": "white",
            "gridwidth": 2,
            "linecolor": "white",
            "showbackground": true,
            "ticks": "",
            "zerolinecolor": "white"
           },
           "zaxis": {
            "backgroundcolor": "#E5ECF6",
            "gridcolor": "white",
            "gridwidth": 2,
            "linecolor": "white",
            "showbackground": true,
            "ticks": "",
            "zerolinecolor": "white"
           }
          },
          "shapedefaults": {
           "line": {
            "color": "#2a3f5f"
           }
          },
          "ternary": {
           "aaxis": {
            "gridcolor": "white",
            "linecolor": "white",
            "ticks": ""
           },
           "baxis": {
            "gridcolor": "white",
            "linecolor": "white",
            "ticks": ""
           },
           "bgcolor": "#E5ECF6",
           "caxis": {
            "gridcolor": "white",
            "linecolor": "white",
            "ticks": ""
           }
          },
          "title": {
           "x": 0.05
          },
          "xaxis": {
           "automargin": true,
           "gridcolor": "white",
           "linecolor": "white",
           "ticks": "",
           "title": {
            "standoff": 15
           },
           "zerolinecolor": "white",
           "zerolinewidth": 2
          },
          "yaxis": {
           "automargin": true,
           "gridcolor": "white",
           "linecolor": "white",
           "ticks": "",
           "title": {
            "standoff": 15
           },
           "zerolinecolor": "white",
           "zerolinewidth": 2
          }
         }
        },
        "title": {
         "text": "Number of Occupations <br> <i>(From our Sample Population)</i>"
        },
        "width": 700,
        "xaxis": {
         "showgrid": false,
         "zeroline": false
        },
        "yaxis": {
         "showgrid": false,
         "zeroline": false
        }
       }
      },
      "text/html": [
       "<div>\n",
       "        \n",
       "        \n",
       "            <div id=\"871746aa-42e1-45c6-9734-c2b358916769\" class=\"plotly-graph-div\" style=\"height:700px; width:700px;\"></div>\n",
       "            <script type=\"text/javascript\">\n",
       "                require([\"plotly\"], function(Plotly) {\n",
       "                    window.PLOTLYENV=window.PLOTLYENV || {};\n",
       "                    \n",
       "                if (document.getElementById(\"871746aa-42e1-45c6-9734-c2b358916769\")) {\n",
       "                    Plotly.newPlot(\n",
       "                        '871746aa-42e1-45c6-9734-c2b358916769',\n",
       "                        [{\"mode\": \"text\", \"text\": [\"management\", \"blue-collar\", \"technician\", \"services\", \"retired\", \"entrepreneur\", \"self-employed\", \"housemaid\", \"unemployed\", \"student\"], \"type\": \"scatter\", \"x\": [27.83577741089638, 27.83577741089638, 77.83577741089638, 77.83577741089638, 65.00014890382207, 65.00014890382207, 87.16437149292568, 80.88890027490574, 93.72452878198006, 87.16437149292572], \"y\": [29.821194941125164, 79.82119494112516, 18.465877971300255, 47.800963961003404, 69.86149820664515, 90.52641221694199, 65.38981564270878, 81.9170180376716, 81.9170180376716, 95.86228838466597]}],\n",
       "                        {\"annotations\": [{\"showarrow\": false, \"text\": \"13676\", \"x\": 27.83577741089638, \"y\": 29.821194941125164}, {\"showarrow\": false, \"text\": \"9254\", \"x\": 27.83577741089638, \"y\": 79.82119494112516}, {\"showarrow\": false, \"text\": \"6743\", \"x\": 77.83577741089638, \"y\": 18.465877971300255}, {\"showarrow\": false, \"text\": \"3969\", \"x\": 77.83577741089638, \"y\": 47.800963961003404}, {\"showarrow\": false, \"text\": \"1720\", \"x\": 65.00014890382207, \"y\": 69.86149820664515}, {\"showarrow\": false, \"text\": \"1456\", \"x\": 65.00014890382207, \"y\": 90.52641221694199}, {\"showarrow\": false, \"text\": \"1421\", \"x\": 87.16437149292568, \"y\": 65.38981564270878}, {\"showarrow\": false, \"text\": \"1060\", \"x\": 80.88890027490574, \"y\": 81.9170180376716}, {\"showarrow\": false, \"text\": \"1014\", \"x\": 93.72452878198006, \"y\": 81.9170180376716}, {\"showarrow\": false, \"text\": \"875\", \"x\": 87.16437149292572, \"y\": 95.86228838466597}], \"height\": 700, \"hovermode\": \"closest\", \"shapes\": [{\"fillcolor\": \"rgb(200, 255, 144)\", \"line\": {\"width\": 2}, \"type\": \"rect\", \"x0\": 0, \"x1\": 55.67155482179276, \"y0\": 0, \"y1\": 59.64238988225033}, {\"fillcolor\": \"rgb(135, 206, 235)\", \"line\": {\"width\": 2}, \"type\": \"rect\", \"x0\": 0, \"x1\": 55.67155482179276, \"y0\": 59.64238988225033, \"y1\": 100.0}, {\"fillcolor\": \"rgb(235, 164, 135)\", \"line\": {\"width\": 2}, \"type\": \"rect\", \"x0\": 55.67155482179276, \"x1\": 100.0, \"y0\": 0, \"y1\": 36.93175594260051}, {\"fillcolor\": \"rgb(220, 208, 255)\", \"line\": {\"width\": 2}, \"type\": \"rect\", \"x0\": 55.67155482179276, \"x1\": 100.0, \"y0\": 36.93175594260051, \"y1\": 58.6701719794063}, {\"fillcolor\": \"rgb(253, 253, 150)\", \"line\": {\"width\": 2}, \"type\": \"rect\", \"x0\": 55.67155482179276, \"x1\": 74.32874298585136, \"y0\": 58.6701719794063, \"y1\": 81.052824433884}, {\"fillcolor\": \"rgb(255, 127, 80)\", \"line\": {\"width\": 2}, \"type\": \"rect\", \"x0\": 55.67155482179276, \"x1\": 74.32874298585136, \"y0\": 81.052824433884, \"y1\": 100.0}, {\"fillcolor\": \"rgb(218, 156, 133)\", \"line\": {\"width\": 2}, \"type\": \"rect\", \"x0\": 74.32874298585136, \"x1\": 100.0, \"y0\": 58.6701719794063, \"y1\": 72.10945930601126}, {\"fillcolor\": \"rgb(245, 92, 76)\", \"line\": {\"width\": 2}, \"type\": \"rect\", \"x0\": 74.32874298585136, \"x1\": 87.44905756396011, \"y0\": 72.10945930601126, \"y1\": 91.72457676933195}, {\"fillcolor\": \"rgb(252,64,68)\", \"line\": {\"width\": 2}, \"type\": \"rect\", \"x0\": 87.44905756396011, \"x1\": 99.99999999999999, \"y0\": 72.10945930601126, \"y1\": 91.72457676933195}, {\"fillcolor\": \"rgb(154,123,91)\", \"line\": {\"width\": 2}, \"type\": \"rect\", \"x0\": 74.32874298585136, \"x1\": 100.00000000000009, \"y0\": 91.72457676933195, \"y1\": 100.0}], \"template\": {\"data\": {\"bar\": [{\"error_x\": {\"color\": \"#2a3f5f\"}, \"error_y\": {\"color\": \"#2a3f5f\"}, \"marker\": {\"line\": {\"color\": \"#E5ECF6\", \"width\": 0.5}}, \"type\": \"bar\"}], \"barpolar\": [{\"marker\": {\"line\": {\"color\": \"#E5ECF6\", \"width\": 0.5}}, \"type\": \"barpolar\"}], \"carpet\": [{\"aaxis\": {\"endlinecolor\": \"#2a3f5f\", \"gridcolor\": \"white\", \"linecolor\": \"white\", \"minorgridcolor\": \"white\", \"startlinecolor\": \"#2a3f5f\"}, \"baxis\": {\"endlinecolor\": \"#2a3f5f\", \"gridcolor\": \"white\", \"linecolor\": \"white\", \"minorgridcolor\": \"white\", \"startlinecolor\": \"#2a3f5f\"}, \"type\": \"carpet\"}], \"choropleth\": [{\"colorbar\": {\"outlinewidth\": 0, \"ticks\": \"\"}, \"type\": \"choropleth\"}], \"contour\": [{\"colorbar\": {\"outlinewidth\": 0, \"ticks\": \"\"}, \"colorscale\": [[0.0, \"#0d0887\"], [0.1111111111111111, \"#46039f\"], [0.2222222222222222, \"#7201a8\"], [0.3333333333333333, \"#9c179e\"], [0.4444444444444444, \"#bd3786\"], [0.5555555555555556, \"#d8576b\"], [0.6666666666666666, \"#ed7953\"], [0.7777777777777778, \"#fb9f3a\"], [0.8888888888888888, \"#fdca26\"], [1.0, \"#f0f921\"]], \"type\": \"contour\"}], \"contourcarpet\": [{\"colorbar\": {\"outlinewidth\": 0, \"ticks\": \"\"}, \"type\": \"contourcarpet\"}], \"heatmap\": [{\"colorbar\": {\"outlinewidth\": 0, \"ticks\": \"\"}, \"colorscale\": [[0.0, \"#0d0887\"], [0.1111111111111111, \"#46039f\"], [0.2222222222222222, \"#7201a8\"], [0.3333333333333333, \"#9c179e\"], [0.4444444444444444, \"#bd3786\"], [0.5555555555555556, \"#d8576b\"], [0.6666666666666666, \"#ed7953\"], [0.7777777777777778, \"#fb9f3a\"], [0.8888888888888888, \"#fdca26\"], [1.0, \"#f0f921\"]], \"type\": \"heatmap\"}], \"heatmapgl\": [{\"colorbar\": {\"outlinewidth\": 0, \"ticks\": \"\"}, \"colorscale\": [[0.0, \"#0d0887\"], [0.1111111111111111, \"#46039f\"], [0.2222222222222222, \"#7201a8\"], [0.3333333333333333, \"#9c179e\"], [0.4444444444444444, \"#bd3786\"], [0.5555555555555556, \"#d8576b\"], [0.6666666666666666, \"#ed7953\"], [0.7777777777777778, \"#fb9f3a\"], [0.8888888888888888, \"#fdca26\"], [1.0, \"#f0f921\"]], \"type\": \"heatmapgl\"}], \"histogram\": [{\"marker\": {\"colorbar\": {\"outlinewidth\": 0, \"ticks\": \"\"}}, \"type\": \"histogram\"}], \"histogram2d\": [{\"colorbar\": {\"outlinewidth\": 0, \"ticks\": \"\"}, \"colorscale\": [[0.0, \"#0d0887\"], [0.1111111111111111, \"#46039f\"], [0.2222222222222222, \"#7201a8\"], [0.3333333333333333, \"#9c179e\"], [0.4444444444444444, \"#bd3786\"], [0.5555555555555556, \"#d8576b\"], [0.6666666666666666, \"#ed7953\"], [0.7777777777777778, \"#fb9f3a\"], [0.8888888888888888, \"#fdca26\"], [1.0, \"#f0f921\"]], \"type\": \"histogram2d\"}], \"histogram2dcontour\": [{\"colorbar\": {\"outlinewidth\": 0, \"ticks\": \"\"}, \"colorscale\": [[0.0, \"#0d0887\"], [0.1111111111111111, \"#46039f\"], [0.2222222222222222, \"#7201a8\"], [0.3333333333333333, \"#9c179e\"], [0.4444444444444444, \"#bd3786\"], [0.5555555555555556, \"#d8576b\"], [0.6666666666666666, \"#ed7953\"], [0.7777777777777778, \"#fb9f3a\"], [0.8888888888888888, \"#fdca26\"], [1.0, \"#f0f921\"]], \"type\": \"histogram2dcontour\"}], \"mesh3d\": [{\"colorbar\": {\"outlinewidth\": 0, \"ticks\": \"\"}, \"type\": \"mesh3d\"}], \"parcoords\": [{\"line\": {\"colorbar\": {\"outlinewidth\": 0, \"ticks\": \"\"}}, \"type\": \"parcoords\"}], \"pie\": [{\"automargin\": true, \"type\": \"pie\"}], \"scatter\": [{\"marker\": {\"colorbar\": {\"outlinewidth\": 0, \"ticks\": \"\"}}, \"type\": \"scatter\"}], \"scatter3d\": [{\"line\": {\"colorbar\": {\"outlinewidth\": 0, \"ticks\": \"\"}}, \"marker\": {\"colorbar\": {\"outlinewidth\": 0, \"ticks\": \"\"}}, \"type\": \"scatter3d\"}], \"scattercarpet\": [{\"marker\": {\"colorbar\": {\"outlinewidth\": 0, \"ticks\": \"\"}}, \"type\": \"scattercarpet\"}], \"scattergeo\": [{\"marker\": {\"colorbar\": {\"outlinewidth\": 0, \"ticks\": \"\"}}, \"type\": \"scattergeo\"}], \"scattergl\": [{\"marker\": {\"colorbar\": {\"outlinewidth\": 0, \"ticks\": \"\"}}, \"type\": \"scattergl\"}], \"scattermapbox\": [{\"marker\": {\"colorbar\": {\"outlinewidth\": 0, \"ticks\": \"\"}}, \"type\": \"scattermapbox\"}], \"scatterpolar\": [{\"marker\": {\"colorbar\": {\"outlinewidth\": 0, \"ticks\": \"\"}}, \"type\": \"scatterpolar\"}], \"scatterpolargl\": [{\"marker\": {\"colorbar\": {\"outlinewidth\": 0, \"ticks\": \"\"}}, \"type\": \"scatterpolargl\"}], \"scatterternary\": [{\"marker\": {\"colorbar\": {\"outlinewidth\": 0, \"ticks\": \"\"}}, \"type\": \"scatterternary\"}], \"surface\": [{\"colorbar\": {\"outlinewidth\": 0, \"ticks\": \"\"}, \"colorscale\": [[0.0, \"#0d0887\"], [0.1111111111111111, \"#46039f\"], [0.2222222222222222, \"#7201a8\"], [0.3333333333333333, \"#9c179e\"], [0.4444444444444444, \"#bd3786\"], [0.5555555555555556, \"#d8576b\"], [0.6666666666666666, \"#ed7953\"], [0.7777777777777778, \"#fb9f3a\"], [0.8888888888888888, \"#fdca26\"], [1.0, \"#f0f921\"]], \"type\": \"surface\"}], \"table\": [{\"cells\": {\"fill\": {\"color\": \"#EBF0F8\"}, \"line\": {\"color\": \"white\"}}, \"header\": {\"fill\": {\"color\": \"#C8D4E3\"}, \"line\": {\"color\": \"white\"}}, \"type\": \"table\"}]}, \"layout\": {\"annotationdefaults\": {\"arrowcolor\": \"#2a3f5f\", \"arrowhead\": 0, \"arrowwidth\": 1}, \"coloraxis\": {\"colorbar\": {\"outlinewidth\": 0, \"ticks\": \"\"}}, \"colorscale\": {\"diverging\": [[0, \"#8e0152\"], [0.1, \"#c51b7d\"], [0.2, \"#de77ae\"], [0.3, \"#f1b6da\"], [0.4, \"#fde0ef\"], [0.5, \"#f7f7f7\"], [0.6, \"#e6f5d0\"], [0.7, \"#b8e186\"], [0.8, \"#7fbc41\"], [0.9, \"#4d9221\"], [1, \"#276419\"]], \"sequential\": [[0.0, \"#0d0887\"], [0.1111111111111111, \"#46039f\"], [0.2222222222222222, \"#7201a8\"], [0.3333333333333333, \"#9c179e\"], [0.4444444444444444, \"#bd3786\"], [0.5555555555555556, \"#d8576b\"], [0.6666666666666666, \"#ed7953\"], [0.7777777777777778, \"#fb9f3a\"], [0.8888888888888888, \"#fdca26\"], [1.0, \"#f0f921\"]], \"sequentialminus\": [[0.0, \"#0d0887\"], [0.1111111111111111, \"#46039f\"], [0.2222222222222222, \"#7201a8\"], [0.3333333333333333, \"#9c179e\"], [0.4444444444444444, \"#bd3786\"], [0.5555555555555556, \"#d8576b\"], [0.6666666666666666, \"#ed7953\"], [0.7777777777777778, \"#fb9f3a\"], [0.8888888888888888, \"#fdca26\"], [1.0, \"#f0f921\"]]}, \"colorway\": [\"#636efa\", \"#EF553B\", \"#00cc96\", \"#ab63fa\", \"#FFA15A\", \"#19d3f3\", \"#FF6692\", \"#B6E880\", \"#FF97FF\", \"#FECB52\"], \"font\": {\"color\": \"#2a3f5f\"}, \"geo\": {\"bgcolor\": \"white\", \"lakecolor\": \"white\", \"landcolor\": \"#E5ECF6\", \"showlakes\": true, \"showland\": true, \"subunitcolor\": \"white\"}, \"hoverlabel\": {\"align\": \"left\"}, \"hovermode\": \"closest\", \"mapbox\": {\"style\": \"light\"}, \"paper_bgcolor\": \"white\", \"plot_bgcolor\": \"#E5ECF6\", \"polar\": {\"angularaxis\": {\"gridcolor\": \"white\", \"linecolor\": \"white\", \"ticks\": \"\"}, \"bgcolor\": \"#E5ECF6\", \"radialaxis\": {\"gridcolor\": \"white\", \"linecolor\": \"white\", \"ticks\": \"\"}}, \"scene\": {\"xaxis\": {\"backgroundcolor\": \"#E5ECF6\", \"gridcolor\": \"white\", \"gridwidth\": 2, \"linecolor\": \"white\", \"showbackground\": true, \"ticks\": \"\", \"zerolinecolor\": \"white\"}, \"yaxis\": {\"backgroundcolor\": \"#E5ECF6\", \"gridcolor\": \"white\", \"gridwidth\": 2, \"linecolor\": \"white\", \"showbackground\": true, \"ticks\": \"\", \"zerolinecolor\": \"white\"}, \"zaxis\": {\"backgroundcolor\": \"#E5ECF6\", \"gridcolor\": \"white\", \"gridwidth\": 2, \"linecolor\": \"white\", \"showbackground\": true, \"ticks\": \"\", \"zerolinecolor\": \"white\"}}, \"shapedefaults\": {\"line\": {\"color\": \"#2a3f5f\"}}, \"ternary\": {\"aaxis\": {\"gridcolor\": \"white\", \"linecolor\": \"white\", \"ticks\": \"\"}, \"baxis\": {\"gridcolor\": \"white\", \"linecolor\": \"white\", \"ticks\": \"\"}, \"bgcolor\": \"#E5ECF6\", \"caxis\": {\"gridcolor\": \"white\", \"linecolor\": \"white\", \"ticks\": \"\"}}, \"title\": {\"x\": 0.05}, \"xaxis\": {\"automargin\": true, \"gridcolor\": \"white\", \"linecolor\": \"white\", \"ticks\": \"\", \"title\": {\"standoff\": 15}, \"zerolinecolor\": \"white\", \"zerolinewidth\": 2}, \"yaxis\": {\"automargin\": true, \"gridcolor\": \"white\", \"linecolor\": \"white\", \"ticks\": \"\", \"title\": {\"standoff\": 15}, \"zerolinecolor\": \"white\", \"zerolinewidth\": 2}}}, \"title\": {\"text\": \"Number of Occupations <br> <i>(From our Sample Population)</i>\"}, \"width\": 700, \"xaxis\": {\"showgrid\": false, \"zeroline\": false}, \"yaxis\": {\"showgrid\": false, \"zeroline\": false}},\n",
       "                        {\"responsive\": true}\n",
       "                    ).then(function(){\n",
       "                            \n",
       "var gd = document.getElementById('871746aa-42e1-45c6-9734-c2b358916769');\n",
       "var x = new MutationObserver(function (mutations, observer) {{\n",
       "        var display = window.getComputedStyle(gd).display;\n",
       "        if (!display || display === 'none') {{\n",
       "            console.log([gd, 'removed!']);\n",
       "            Plotly.purge(gd);\n",
       "            observer.disconnect();\n",
       "        }}\n",
       "}});\n",
       "\n",
       "// Listen for the removal of the full notebook cells\n",
       "var notebookContainer = gd.closest('#notebook-container');\n",
       "if (notebookContainer) {{\n",
       "    x.observe(notebookContainer, {childList: true});\n",
       "}}\n",
       "\n",
       "// Listen for the clearing of the current output cell\n",
       "var outputEl = gd.closest('.output');\n",
       "if (outputEl) {{\n",
       "    x.observe(outputEl, {childList: true});\n",
       "}}\n",
       "\n",
       "                        })\n",
       "                };\n",
       "                });\n",
       "            </script>\n",
       "        </div>"
      ]
     },
     "metadata": {},
     "output_type": "display_data"
    }
   ],
   "source": [
    "import squarify\n",
    "df = df.drop(df.loc[df[\"balance\"] == 0].index)\n",
    "x = 0\n",
    "y = 0\n",
    "width = 100\n",
    "height = 100\n",
    "\n",
    "job_names = df['job'].value_counts().index\n",
    "values = df['job'].value_counts().tolist()\n",
    "\n",
    "normed = squarify.normalize_sizes(values, width, height)\n",
    "rects = squarify.squarify(normed, x, y, width, height)\n",
    "\n",
    "colors = ['rgb(200, 255, 144)','rgb(135, 206, 235)',\n",
    "          'rgb(235, 164, 135)','rgb(220, 208, 255)',\n",
    "          'rgb(253, 253, 150)','rgb(255, 127, 80)', \n",
    "         'rgb(218, 156, 133)', 'rgb(245, 92, 76)',\n",
    "         'rgb(252,64,68)', 'rgb(154,123,91)']\n",
    "\n",
    "shapes = []\n",
    "annotations = []\n",
    "counter = 0\n",
    "\n",
    "for r in rects:\n",
    "    shapes.append(\n",
    "        dict(\n",
    "            type = 'rect',\n",
    "            x0 = r['x'],\n",
    "            y0 = r['y'],\n",
    "            x1 = r['x'] + r['dx'],\n",
    "            y1 = r['y'] + r['dy'],\n",
    "            line = dict(width=2),\n",
    "            fillcolor = colors[counter]\n",
    "        )\n",
    "    )\n",
    "    annotations.append(\n",
    "        dict(\n",
    "            x = r['x']+(r['dx']/2),\n",
    "            y = r['y']+(r['dy']/2),\n",
    "            text = values[counter],\n",
    "            showarrow = False\n",
    "        )\n",
    "    )\n",
    "    counter = counter + 1\n",
    "    if counter >= len(colors):\n",
    "        counter = 0\n",
    "    \n",
    "# For hover text\n",
    "trace0 = go.Scatter(\n",
    "    x = [ r['x']+(r['dx']/2) for r in rects],\n",
    "    y = [ r['y']+(r['dy']/2) for r in rects],\n",
    "    text = [ str(v) for v in job_names],\n",
    "    mode='text',\n",
    ")\n",
    "\n",
    "layout = dict(\n",
    "    title='Number of Occupations <br> <i>(From our Sample Population)</i>',\n",
    "    height=700, \n",
    "    width=700,\n",
    "    xaxis=dict(showgrid=False,zeroline=False),\n",
    "    yaxis=dict(showgrid=False,zeroline=False),\n",
    "    shapes=shapes,\n",
    "    annotations=annotations,\n",
    "    hovermode='closest'\n",
    ")\n",
    "\n",
    "# With hovertext\n",
    "figure = dict(data=[trace0], layout=layout)\n",
    "\n",
    "iplot(figure, filename='squarify-treemap')\n"
   ]
  },
  {
   "cell_type": "code",
   "execution_count": 46,
   "metadata": {},
   "outputs": [
    {
     "data": {
      "application/vnd.plotly.v1+json": {
       "config": {
        "linkText": "Export to plot.ly",
        "plotlyServerURL": "https://plot.ly",
        "showLink": false
       },
       "data": [
        {
         "boxpoints": "all",
         "fillcolor": "rgba(93, 164, 214, 0.5)",
         "jitter": 0.5,
         "line": {
          "width": 1
         },
         "marker": {
          "size": 2
         },
         "name": "housemaid",
         "type": "box",
         "whiskerwidth": 0.2,
         "y": [
          28,
          42,
          31,
          54,
          54,
          32,
          38,
          32,
          43,
          59,
          39,
          41,
          32,
          33,
          38,
          35,
          51,
          36,
          51,
          27,
          45,
          30,
          51,
          30,
          35,
          44,
          49,
          26,
          37,
          46,
          47,
          42,
          42,
          45,
          30,
          36,
          45,
          30,
          58,
          32,
          58,
          44,
          58,
          39,
          24,
          47,
          39,
          52,
          52,
          40,
          33,
          41,
          30,
          39,
          31,
          40,
          37,
          36,
          37,
          42,
          30,
          27,
          32,
          40,
          46,
          60,
          45,
          56,
          48,
          38,
          24,
          37,
          26,
          39,
          38,
          35,
          34,
          32,
          25,
          41,
          59,
          38,
          35,
          47,
          55,
          29,
          34,
          36,
          29,
          34,
          37,
          32,
          48,
          28,
          44,
          25,
          41,
          37,
          39,
          38,
          37,
          29,
          28,
          38,
          28,
          60,
          47,
          38,
          31,
          45,
          46,
          43,
          43,
          35,
          40,
          39,
          51,
          42,
          34,
          52,
          40,
          31,
          47,
          37,
          55,
          42,
          39,
          48,
          35,
          29,
          29,
          36,
          27,
          50,
          34,
          27,
          26,
          53,
          36,
          31,
          51,
          44,
          34,
          27,
          35,
          57,
          28,
          31,
          55,
          31,
          25,
          32,
          35,
          33,
          35,
          53,
          26,
          31,
          23,
          36,
          35,
          54,
          26,
          50,
          34,
          39,
          48,
          34,
          27,
          45,
          45,
          34,
          29,
          35,
          34,
          23,
          32,
          23,
          29,
          26,
          27,
          31,
          35,
          29,
          29,
          33,
          33,
          46,
          30,
          57,
          43,
          40,
          27,
          32,
          44,
          31,
          39,
          29,
          29,
          41,
          39,
          37,
          30,
          27,
          31,
          39,
          28,
          28,
          36,
          30,
          23,
          31,
          51,
          45,
          48,
          30,
          55,
          51,
          37,
          27,
          44,
          39,
          56,
          39,
          50,
          55,
          59,
          46,
          40,
          59,
          37,
          52,
          43,
          50,
          36,
          33,
          57,
          35,
          32,
          52,
          37,
          35,
          43,
          32,
          32,
          36,
          38,
          24,
          32,
          28,
          28,
          42,
          52,
          43,
          58,
          52,
          43,
          41,
          42,
          43,
          40,
          32,
          34,
          48,
          37,
          31,
          31,
          37,
          37,
          43,
          46,
          38,
          48,
          41,
          32,
          39,
          32,
          30,
          30,
          29,
          44,
          30,
          38,
          36,
          50,
          45,
          46,
          50,
          34,
          32,
          53,
          31,
          48,
          53,
          35,
          36,
          32,
          45,
          32,
          32,
          43,
          57,
          50,
          44,
          57,
          46,
          40,
          34,
          54,
          36,
          39,
          34,
          45,
          30,
          47,
          30,
          35,
          47,
          49,
          35,
          58,
          45,
          31,
          39,
          29,
          56,
          29,
          30,
          41,
          36,
          29,
          34,
          51,
          37,
          29,
          49,
          33,
          33,
          33,
          29,
          29,
          35,
          35,
          35,
          47,
          40,
          55,
          49,
          50,
          39,
          51,
          47,
          41,
          37,
          44,
          38,
          30,
          42,
          56,
          48,
          30,
          44,
          59,
          32,
          48,
          37,
          38,
          46,
          31,
          26,
          31,
          34,
          27,
          30,
          42,
          45,
          25,
          39,
          41,
          29,
          36,
          58,
          42,
          37,
          34,
          48,
          40,
          42,
          46,
          45,
          55,
          40,
          52,
          30,
          52,
          57,
          35,
          31,
          58,
          35,
          35,
          36,
          43,
          43,
          35,
          31,
          29,
          43,
          35,
          37,
          35,
          36,
          57,
          48,
          52,
          36,
          43,
          45,
          40,
          30,
          46,
          42,
          30,
          44,
          34,
          57,
          37,
          29,
          53,
          34,
          32,
          39,
          38,
          30,
          34,
          33,
          34,
          35,
          48,
          54,
          34,
          35,
          35,
          40,
          57,
          58,
          42,
          45,
          34,
          57,
          48,
          35,
          39,
          56,
          29,
          44,
          30,
          38,
          35,
          30,
          26,
          26,
          48,
          28,
          34,
          35,
          36,
          23,
          33,
          32,
          32,
          32,
          39,
          37,
          32,
          26,
          26,
          33,
          33,
          34,
          60,
          24,
          32,
          36,
          31,
          54,
          54,
          31,
          31,
          46,
          50,
          28,
          28,
          33,
          28,
          35,
          36,
          28,
          28,
          28,
          25,
          25,
          28,
          32,
          28,
          32,
          32,
          32,
          62,
          80,
          49,
          33,
          30,
          30,
          30,
          41,
          50,
          41,
          34,
          55,
          29,
          25,
          35,
          40,
          29,
          29,
          36,
          43,
          45,
          34,
          34,
          34,
          30,
          30,
          30,
          30,
          57,
          28,
          43,
          47,
          49,
          26,
          37,
          33,
          33,
          26,
          31,
          30,
          36,
          30,
          29,
          32,
          47,
          29,
          24,
          37,
          56,
          29,
          32,
          42,
          37,
          27,
          43,
          35,
          33,
          38,
          41,
          27,
          22,
          55,
          28,
          45,
          39,
          48,
          43,
          40,
          26,
          26,
          34,
          26,
          24,
          34,
          24,
          54,
          25,
          35,
          31,
          28,
          54,
          54,
          54,
          34,
          53,
          23,
          23,
          23,
          23,
          29,
          29,
          39,
          25,
          55,
          57,
          25,
          34,
          61,
          44,
          50,
          43,
          50,
          64,
          38,
          27,
          27,
          38,
          23,
          38,
          33,
          33,
          27,
          60,
          28,
          26,
          30,
          30,
          53,
          60,
          40,
          60,
          49,
          53,
          46,
          41,
          29,
          31,
          40,
          45,
          30,
          34,
          30,
          41,
          38,
          32,
          35,
          29,
          30,
          30,
          60,
          37,
          46,
          49,
          37,
          28,
          36,
          60,
          55,
          28,
          35,
          38,
          41,
          36,
          45,
          49,
          30,
          30,
          38,
          24,
          32,
          33,
          29,
          31,
          64,
          30,
          25,
          39,
          36,
          60,
          30,
          31,
          39,
          39,
          65,
          28,
          31,
          57,
          42,
          53,
          31,
          42,
          58,
          30,
          40,
          39,
          59,
          60,
          49,
          58,
          30,
          34,
          36,
          52,
          34,
          36,
          57,
          35,
          32,
          28,
          45,
          38,
          29,
          26,
          32,
          29,
          54,
          28,
          42,
          35,
          34,
          38,
          35,
          42,
          35,
          35,
          27,
          58,
          33,
          25,
          33,
          32,
          26,
          48,
          46,
          47,
          32,
          48,
          45,
          37,
          48,
          28,
          48,
          36,
          32,
          39,
          28,
          31,
          24,
          31,
          53,
          31,
          36,
          30,
          29,
          52,
          26,
          26,
          33,
          33,
          57,
          33,
          25,
          27,
          40,
          29,
          31,
          29,
          27,
          34,
          59,
          37,
          58,
          30,
          29,
          43,
          35,
          39,
          48,
          31,
          51,
          43,
          29,
          50,
          30,
          41,
          36,
          28,
          44,
          33,
          31,
          37,
          33,
          29,
          45,
          44,
          37,
          46,
          29,
          37,
          58,
          52,
          45,
          45,
          27,
          57,
          30,
          37,
          36,
          54,
          56,
          46,
          34,
          54,
          25,
          36,
          50,
          35,
          30,
          31,
          58,
          33,
          31,
          36,
          25,
          25,
          31,
          34,
          50,
          29,
          33,
          32,
          38,
          38,
          24,
          60,
          29,
          32,
          27,
          29,
          52,
          28,
          33,
          37,
          49,
          36,
          29,
          49,
          32,
          67,
          33,
          26,
          40,
          32,
          31,
          33,
          32,
          32,
          25,
          26,
          32,
          32,
          32,
          28,
          59,
          33,
          24,
          24,
          24,
          24,
          30,
          44,
          40,
          47,
          30,
          31,
          33,
          43,
          28,
          30,
          33,
          28,
          40,
          28,
          29,
          29,
          29,
          48,
          30,
          36,
          29,
          50,
          30,
          61,
          52,
          33,
          35,
          45,
          29,
          26,
          42,
          24,
          30,
          36,
          36,
          30,
          31,
          32,
          28,
          35,
          32,
          28,
          30,
          30,
          30,
          32,
          28,
          32,
          24,
          59,
          51,
          48,
          30,
          34,
          45,
          53,
          30,
          32,
          27,
          47,
          36,
          29,
          25,
          50,
          28,
          41,
          46,
          30,
          29,
          57,
          29,
          29,
          21,
          35,
          55,
          29,
          53,
          49,
          40,
          50,
          39,
          64,
          50,
          55,
          51,
          61,
          45,
          45,
          50,
          60,
          46,
          50,
          46,
          56,
          29,
          48,
          30,
          33,
          31,
          37,
          53,
          33,
          46,
          27,
          33,
          40,
          31,
          42,
          32,
          26,
          32,
          27,
          51,
          54,
          27,
          38,
          44,
          42,
          47,
          52,
          51,
          59,
          59,
          37,
          46,
          54,
          35,
          44,
          29,
          25,
          33,
          28,
          29,
          31,
          33,
          43,
          36,
          38,
          36,
          36,
          33,
          31,
          52,
          31,
          33,
          52,
          52,
          30,
          57,
          35,
          26,
          44,
          59,
          59,
          34,
          49,
          27,
          36,
          42,
          49,
          27,
          56,
          27,
          28,
          56,
          38,
          28,
          29,
          39,
          46,
          40,
          57,
          36,
          61,
          42,
          54,
          35,
          31,
          62,
          25,
          25,
          28,
          44,
          28,
          41,
          36,
          34,
          26,
          47,
          37,
          50,
          56,
          35,
          37,
          33,
          55,
          34,
          33,
          37,
          34,
          32,
          24,
          51,
          54,
          54,
          62,
          36,
          39,
          51,
          43,
          27,
          59,
          51,
          46,
          50,
          31,
          33,
          72,
          53,
          38,
          31,
          33,
          54,
          37,
          26,
          32,
          44,
          40,
          59,
          76,
          50,
          59,
          59,
          45,
          45,
          41,
          30,
          49,
          66,
          30,
          78,
          46,
          27,
          27,
          56,
          42,
          25,
          42,
          34,
          49,
          43,
          28,
          31,
          36,
          34,
          47,
          70,
          29,
          27,
          27,
          70,
          24,
          38,
          36,
          52,
          30,
          56,
          35,
          50,
          37,
          35,
          56,
          50,
          35,
          60,
          48,
          48,
          54,
          37,
          42,
          42,
          42,
          36,
          42,
          32,
          30,
          30,
          32,
          28,
          34,
          33,
          33,
          37,
          25,
          33,
          26,
          49,
          33,
          28,
          49,
          36,
          36,
          33,
          57,
          31,
          24,
          39,
          44,
          38,
          38,
          36,
          32,
          44,
          36,
          71,
          30,
          24,
          61,
          64,
          64,
          29,
          34,
          26,
          33,
          26,
          42,
          72,
          42,
          31,
          32,
          40,
          33,
          31,
          53,
          34,
          67,
          32,
          37,
          34,
          30,
          52,
          56,
          32,
          36,
          47,
          54,
          32,
          54,
          54,
          53,
          26,
          26,
          57,
          25,
          81,
          41,
          81,
          38,
          28,
          61,
          61,
          41,
          33,
          38,
          41,
          52,
          33,
          30,
          28,
          52,
          63,
          28,
          36,
          29,
          33,
          38,
          43,
          25,
          25,
          29,
          38,
          34,
          34,
          34,
          56,
          38,
          29,
          26,
          29,
          32,
          32,
          53,
          39,
          41,
          25,
          50,
          26,
          25,
          47,
          35,
          48,
          53,
          43,
          43,
          26,
          27,
          57,
          48,
          44,
          60,
          58,
          48,
          50,
          46,
          36,
          43,
          54,
          32,
          26,
          65,
          65,
          37,
          55,
          46,
          43,
          31,
          50,
          57,
          41,
          41,
          41,
          45,
          37,
          53,
          35,
          32,
          34,
          39,
          31,
          31,
          33,
          24,
          37,
          36,
          36,
          53,
          34,
          41,
          41,
          41,
          41,
          29,
          36,
          34,
          34,
          34,
          34,
          34,
          34,
          34,
          34,
          26,
          34,
          55,
          28,
          46,
          29,
          33,
          31,
          29,
          31,
          52,
          28,
          38,
          43,
          34,
          39,
          27,
          29,
          27,
          27,
          27,
          27,
          57,
          59,
          27,
          27,
          56,
          56,
          27,
          33,
          41,
          35,
          32,
          35,
          33,
          27,
          61,
          53,
          54,
          48,
          35,
          26,
          49,
          36,
          48,
          48,
          48,
          35,
          37,
          41,
          45,
          43,
          41,
          47,
          46,
          38,
          39,
          37,
          30,
          44,
          52,
          52,
          28,
          33,
          52,
          50,
          38,
          35,
          52,
          33,
          38,
          35,
          39,
          52,
          52,
          29,
          52,
          52,
          52,
          37,
          44,
          59,
          58,
          50,
          61,
          60,
          58,
          31,
          28,
          29,
          40,
          40,
          60,
          29,
          52,
          30,
          65,
          52,
          33,
          71,
          33,
          46,
          31,
          58,
          46,
          41,
          34,
          36,
          36,
          28,
          28,
          36,
          38,
          61,
          30,
          33,
          31,
          29,
          29,
          22,
          48,
          34,
          47,
          29,
          34,
          33,
          29,
          37,
          50,
          36,
          35,
          29,
          56,
          29,
          29,
          28,
          28,
          28,
          65,
          30,
          36,
          36,
          32,
          36,
          36,
          37,
          27,
          51,
          51,
          53,
          34,
          36,
          27,
          27,
          26,
          27,
          26,
          26,
          60,
          37,
          38,
          33,
          55,
          35,
          48,
          41,
          41,
          46,
          46,
          29,
          46,
          55,
          33,
          35,
          34,
          29,
          37,
          58,
          25,
          34,
          46,
          39,
          39,
          27,
          24,
          29,
          29,
          29,
          45,
          29,
          35,
          50,
          30,
          35,
          47,
          31,
          44,
          60,
          51,
          29,
          22,
          29,
          52,
          64,
          45,
          40,
          30,
          60,
          59,
          42,
          42,
          26,
          26,
          63,
          65,
          32,
          52,
          52,
          76,
          34,
          51,
          34,
          37,
          35,
          40,
          37,
          40,
          27,
          28,
          40,
          48,
          47,
          59,
          34,
          48,
          47,
          30,
          41,
          48,
          41,
          48,
          47,
          37,
          25,
          45,
          41,
          27,
          41,
          41,
          77,
          27,
          24,
          64,
          26,
          26,
          53,
          55,
          58,
          50,
          31,
          31,
          55,
          61,
          35,
          66,
          41,
          52,
          33,
          27,
          33,
          33,
          30,
          31,
          31,
          30,
          27,
          37,
          60,
          59,
          37,
          45,
          55,
          39,
          47,
          32,
          57,
          31,
          30,
          22,
          33,
          35,
          32,
          34,
          26,
          36,
          36,
          26,
          42,
          44,
          67,
          28,
          29,
          60,
          33,
          37,
          34,
          27,
          57,
          39,
          34,
          34,
          31,
          53,
          52,
          36,
          52,
          37,
          31,
          23,
          24,
          56,
          41,
          33,
          33,
          33,
          58,
          42,
          33,
          58,
          31,
          31,
          32,
          29,
          42,
          34,
          42,
          41,
          57,
          28,
          51,
          47,
          27,
          49,
          35,
          54,
          50,
          37,
          37,
          24,
          44,
          29,
          47,
          31,
          37,
          33,
          29,
          37,
          45,
          28,
          33,
          33,
          62,
          60,
          62,
          30,
          30,
          31,
          48,
          37,
          51,
          31,
          59,
          33,
          60,
          61,
          61,
          31,
          31,
          33,
          37,
          43,
          26,
          41,
          35,
          33,
          54,
          32,
          31,
          37
         ]
        },
        {
         "boxpoints": "all",
         "fillcolor": "rgba(255, 144, 14, 0.5)",
         "jitter": 0.5,
         "line": {
          "width": 1
         },
         "marker": {
          "size": 2
         },
         "name": "services",
         "type": "box",
         "whiskerwidth": 0.2,
         "y": [
          49,
          41,
          42,
          43,
          50,
          38,
          30,
          45,
          41,
          36,
          53,
          35,
          45,
          57,
          33,
          55,
          55,
          35,
          32,
          49,
          38,
          50,
          39,
          29,
          54,
          53,
          40,
          38,
          30,
          50,
          29,
          48,
          55,
          39,
          26,
          45,
          28,
          31,
          31,
          36,
          38,
          42,
          41,
          55,
          46,
          36,
          31,
          35,
          41,
          37,
          29,
          50,
          29,
          31,
          56,
          53,
          31,
          50,
          35,
          25,
          34,
          42,
          31,
          31,
          34,
          32,
          26,
          48,
          31,
          31,
          32,
          43,
          26,
          42,
          38,
          26,
          34,
          34,
          32,
          26,
          39,
          26,
          24,
          31,
          37,
          33,
          36,
          39,
          41,
          28,
          28,
          37,
          38,
          30,
          59,
          33,
          27,
          46,
          60,
          47,
          48,
          48,
          48,
          28,
          39,
          54,
          52,
          39,
          42,
          31,
          34,
          51,
          32,
          32,
          37,
          44,
          30,
          34,
          33,
          30,
          31,
          35,
          57,
          40,
          37,
          41,
          29,
          38,
          33,
          38,
          30,
          36,
          36,
          32,
          38,
          31,
          32,
          37,
          33,
          35,
          43,
          33,
          32,
          32,
          31,
          32,
          41,
          32,
          33,
          33,
          32,
          33,
          35,
          33,
          39,
          34,
          31,
          34,
          35,
          50,
          30,
          35,
          35,
          41,
          54,
          31,
          42,
          29,
          30,
          33,
          54,
          35,
          31,
          48,
          35,
          32,
          30,
          36,
          39,
          38,
          33,
          40,
          31,
          51,
          44,
          55,
          30,
          47,
          30,
          29,
          37,
          39,
          30,
          36,
          39,
          29,
          45,
          33,
          56,
          31,
          32,
          29,
          35,
          31,
          50,
          30,
          39,
          36,
          35,
          32,
          34,
          34,
          38,
          30,
          53,
          34,
          53,
          32,
          47,
          45,
          29,
          33,
          37,
          50,
          46,
          29,
          34,
          39,
          29,
          28,
          66,
          38,
          38,
          38,
          38,
          38,
          38,
          34,
          34,
          38,
          38,
          34,
          34,
          34,
          38,
          55,
          38,
          38,
          38,
          29,
          28,
          29,
          32,
          32,
          41,
          31,
          34,
          29,
          32,
          27,
          46,
          33,
          33,
          33,
          41,
          57,
          46,
          29,
          57,
          33,
          33,
          33,
          36,
          38,
          33,
          34,
          49,
          26,
          38,
          34,
          59,
          30,
          29,
          31,
          31,
          31,
          54,
          60,
          35,
          42,
          38,
          31,
          39,
          34,
          40,
          39,
          41,
          36,
          44,
          35,
          51,
          46,
          51,
          51,
          51,
          36,
          39,
          48,
          51,
          39,
          48,
          30,
          51,
          40,
          41,
          41,
          24,
          49,
          41,
          49,
          53,
          41,
          36,
          39,
          20,
          61,
          56,
          53,
          24,
          50,
          34,
          32,
          36,
          28,
          39,
          33,
          28,
          28,
          27,
          33,
          38,
          38,
          28,
          27,
          55,
          48,
          45,
          45,
          31,
          31,
          34,
          31,
          27,
          34,
          35,
          43,
          39,
          28,
          32,
          43,
          31,
          44,
          42,
          35,
          35,
          30,
          23,
          31,
          32,
          32,
          22,
          34,
          32,
          30,
          29,
          36,
          31,
          35,
          29,
          46,
          39,
          39,
          43,
          33,
          40,
          26,
          35,
          43,
          28,
          35,
          53,
          37,
          42,
          34,
          28,
          32,
          22,
          29,
          30,
          56,
          24,
          26,
          36,
          36,
          32,
          32,
          26,
          26,
          37,
          34,
          32,
          41,
          41,
          41,
          28,
          31,
          28,
          53,
          28,
          34,
          29,
          38,
          50,
          30,
          29,
          51,
          28,
          51,
          51,
          29,
          31,
          25,
          35,
          30,
          36,
          36,
          29,
          38,
          22,
          32,
          20,
          37,
          25,
          32,
          24,
          51,
          51,
          29,
          42,
          29,
          23,
          34,
          34,
          37,
          57,
          37,
          32,
          31,
          25,
          32,
          38,
          37,
          33,
          34,
          58,
          58,
          32,
          32,
          46,
          39,
          35,
          46,
          42,
          34,
          48,
          23,
          34,
          35,
          38,
          32,
          36,
          28,
          28,
          34,
          59,
          38,
          34,
          34,
          51,
          53,
          52,
          43,
          43,
          34,
          24,
          53,
          37,
          44,
          36,
          59,
          28,
          28,
          37,
          39,
          33,
          50,
          38,
          60,
          30,
          34,
          56,
          45,
          56,
          23,
          32,
          63,
          32,
          30,
          48,
          61,
          48,
          48,
          34,
          39,
          39,
          34,
          59,
          47,
          22,
          54,
          26,
          56,
          34,
          54,
          35,
          31,
          29,
          52,
          52,
          40,
          40,
          40,
          31,
          28,
          27,
          28,
          25,
          38,
          38,
          30,
          55,
          50,
          50,
          38,
          63,
          52,
          29,
          51,
          27,
          46,
          22,
          26,
          27,
          30,
          53,
          30,
          34,
          34,
          34,
          34,
          50,
          38,
          62,
          62,
          34,
          33,
          52,
          29,
          30,
          30,
          39,
          39,
          41,
          49,
          46,
          53,
          37,
          63,
          50,
          32,
          29,
          48,
          37,
          43,
          52,
          37,
          52,
          44,
          56,
          40,
          33,
          33,
          45,
          31,
          49,
          43,
          29,
          51,
          39,
          29,
          35,
          34,
          44,
          44,
          39,
          39,
          31,
          31,
          31,
          59,
          37,
          38,
          30,
          34,
          35,
          62,
          62,
          62,
          35,
          35,
          35,
          29,
          29,
          52,
          26,
          59,
          56,
          49,
          56,
          30,
          29,
          24,
          43,
          24,
          51,
          24,
          26,
          31,
          31,
          31,
          31,
          37,
          35,
          35,
          46,
          41,
          58,
          43,
          42,
          70,
          51,
          42,
          34,
          33,
          51,
          38,
          27,
          27,
          38,
          26,
          38,
          24,
          29,
          29,
          30,
          30,
          33,
          33,
          33,
          30,
          36,
          34,
          34,
          26,
          36,
          26,
          34,
          33,
          32,
          32,
          53,
          31,
          30,
          26,
          33,
          32,
          32,
          26,
          35,
          32,
          41,
          29,
          49,
          31,
          48,
          31,
          48,
          44,
          56,
          42,
          48,
          31,
          30,
          30,
          27,
          29,
          24,
          34,
          34,
          29,
          34,
          37,
          37,
          25,
          41,
          41,
          35,
          35,
          35,
          44
         ]
        },
        {
         "boxpoints": "all",
         "fillcolor": "rgba(44, 160, 101, 0.5)",
         "jitter": 0.5,
         "line": {
          "width": 1
         },
         "marker": {
          "size": 2
         },
         "name": "management",
         "type": "box",
         "whiskerwidth": 0.2,
         "y": [
          44,
          39,
          42,
          31,
          41,
          33,
          24,
          24,
          31,
          31,
          32,
          42,
          38,
          44,
          51,
          57,
          28,
          38,
          52,
          52,
          32,
          35,
          37,
          35,
          33,
          39,
          41,
          45,
          42,
          50,
          34,
          40,
          52,
          31,
          42,
          31,
          30,
          28,
          39,
          33,
          29,
          39,
          40,
          24,
          32,
          33,
          41,
          47,
          31,
          25,
          27,
          32,
          29,
          27,
          56,
          25,
          30,
          31,
          31,
          30,
          23,
          30,
          33,
          39,
          27,
          44,
          43,
          32,
          32,
          33,
          24,
          31,
          42,
          28,
          32,
          26,
          43,
          43,
          32,
          32,
          33,
          33,
          35,
          35,
          25,
          33,
          39,
          36,
          27,
          36,
          52,
          43,
          44,
          51,
          50,
          25,
          23,
          25,
          39,
          33,
          33,
          38,
          28,
          36,
          47,
          53,
          45,
          31,
          50,
          54,
          45,
          49,
          29,
          48,
          47,
          46,
          47,
          48,
          29,
          40,
          25,
          33,
          52,
          43,
          33,
          30,
          37,
          29,
          56,
          31,
          30,
          36,
          24,
          41,
          41,
          44,
          24,
          38,
          24,
          24,
          24,
          41,
          45,
          40,
          45,
          45,
          45,
          40,
          48,
          48,
          55,
          31,
          27,
          37,
          47,
          35,
          51,
          33,
          39,
          42,
          46,
          35,
          42,
          35,
          26,
          35,
          31,
          56,
          54,
          46,
          31,
          37,
          46,
          32,
          34,
          33,
          36,
          52,
          38,
          38,
          26,
          31,
          32,
          31,
          38,
          33,
          33,
          28,
          31,
          29,
          41,
          31,
          28,
          43,
          44,
          55,
          29,
          25,
          38,
          44,
          42,
          28,
          42,
          24,
          34,
          37,
          24,
          57,
          44,
          33,
          30,
          32,
          46,
          32,
          38,
          31,
          44,
          31,
          27,
          28,
          32,
          31,
          31,
          53,
          31,
          31,
          28,
          29,
          29,
          25,
          21,
          25,
          25,
          49,
          44,
          30,
          36,
          28,
          26,
          26,
          32,
          41,
          41,
          36,
          36,
          33,
          30,
          36,
          33,
          56,
          36,
          39,
          22,
          22,
          43,
          40,
          28,
          28,
          30,
          31,
          33,
          25,
          29,
          33,
          37,
          40,
          31,
          42,
          55,
          35,
          52,
          27,
          38,
          27,
          27,
          58,
          35,
          29,
          29,
          29,
          51,
          33,
          39,
          47,
          31,
          29,
          32,
          25,
          25,
          25,
          28,
          33,
          27,
          27,
          36,
          25,
          22,
          22,
          34,
          37,
          28,
          32,
          24,
          24,
          27,
          53,
          47,
          44,
          29,
          39,
          36,
          32,
          46,
          38,
          31,
          48,
          33,
          59,
          54,
          54,
          37,
          33,
          42
         ]
        },
        {
         "boxpoints": "all",
         "fillcolor": "rgba(255, 65, 54, 0.5)",
         "jitter": 0.5,
         "line": {
          "width": 1
         },
         "marker": {
          "size": 2
         },
         "name": "blue-collar",
         "type": "box",
         "whiskerwidth": 0.2,
         "y": [
          58,
          59,
          55,
          60,
          54,
          59,
          58,
          59,
          52,
          59,
          55,
          56,
          58,
          59,
          56,
          58,
          53,
          40,
          57,
          54,
          59,
          49,
          50,
          57,
          55,
          50,
          59,
          55,
          59,
          59,
          59,
          60,
          60,
          56,
          59,
          60,
          56,
          59,
          60,
          57,
          57,
          58,
          58,
          57,
          58,
          50,
          56,
          70,
          88,
          88,
          88,
          88,
          88,
          88,
          88,
          88,
          66,
          77,
          68,
          68,
          73,
          63,
          55,
          60,
          63,
          63,
          82,
          58,
          73,
          59,
          61,
          69,
          70,
          70,
          58,
          66,
          67,
          58,
          66,
          63,
          70,
          54,
          71,
          60,
          68,
          71,
          75,
          69,
          64,
          78,
          57,
          75,
          61,
          65,
          75,
          78,
          85,
          64,
          64,
          61,
          65,
          58,
          79,
          60,
          60,
          59,
          69,
          58,
          58,
          61,
          59,
          81,
          33,
          55,
          81,
          60,
          56,
          57,
          59,
          65,
          58,
          59,
          53,
          55,
          74,
          57,
          57,
          56,
          61,
          59,
          52,
          52,
          74,
          76,
          76,
          75,
          70,
          73,
          76,
          65,
          85,
          80,
          74,
          60,
          66,
          66,
          74,
          62,
          55,
          71,
          70,
          76,
          73,
          67,
          80,
          74,
          67,
          61,
          71,
          64,
          74,
          74,
          64,
          66,
          71,
          61,
          61,
          87,
          64,
          74,
          66,
          58,
          54,
          62,
          58,
          42,
          80,
          58,
          62,
          73,
          79,
          60,
          72,
          61,
          71,
          75,
          58,
          76,
          69,
          71,
          70,
          59,
          70,
          81,
          61,
          71,
          75,
          83,
          82,
          69,
          65,
          63,
          77,
          80,
          74,
          74,
          62,
          70,
          60,
          88,
          56,
          56,
          98,
          98,
          71,
          68,
          68,
          71,
          63,
          62,
          54,
          55,
          80,
          72,
          82,
          69,
          54,
          55,
          78,
          69,
          71,
          79,
          71,
          73,
          69,
          69,
          76,
          79,
          79,
          72,
          72,
          72,
          65,
          65,
          67,
          66,
          80,
          65,
          77,
          77,
          78,
          61,
          64,
          67,
          66,
          72,
          77,
          68,
          82,
          66,
          83,
          56,
          61,
          58,
          56,
          78,
          73,
          83,
          60,
          60,
          86,
          56,
          56,
          81,
          85,
          84,
          59,
          64,
          70,
          76,
          76,
          62,
          73,
          73,
          78,
          66,
          66,
          66,
          72,
          74,
          73,
          64,
          64,
          80,
          82,
          66,
          75,
          80,
          78,
          68,
          64,
          58,
          71,
          74,
          68,
          82,
          82,
          74,
          74,
          75,
          66,
          80,
          80,
          80,
          57,
          77,
          80,
          73,
          71,
          72,
          77,
          77,
          70,
          68,
          76,
          63,
          74,
          68,
          80,
          76,
          77,
          69,
          92,
          70,
          60,
          89,
          78,
          78,
          69,
          83,
          76,
          76,
          56,
          64,
          56,
          86,
          66,
          75,
          72,
          79,
          59,
          59,
          73,
          83,
          83,
          66,
          66,
          78,
          80,
          70,
          78,
          72,
          78,
          66,
          78,
          62,
          72,
          68,
          68,
          84,
          77,
          68,
          51,
          80,
          71,
          71,
          62,
          67,
          64,
          75,
          61,
          77,
          59,
          59,
          64,
          92,
          65,
          70,
          92,
          75,
          76,
          44,
          76,
          60,
          56,
          64,
          69,
          81,
          60,
          60,
          85,
          89,
          66,
          86,
          83,
          64,
          71,
          84,
          86,
          86,
          60,
          60,
          82,
          77,
          61,
          66,
          65,
          71,
          66,
          65,
          70,
          65,
          68,
          68,
          81,
          80,
          65,
          65,
          65,
          63,
          62,
          62,
          62,
          73
         ]
        },
        {
         "boxpoints": "all",
         "fillcolor": "rgba(207, 114, 255, 0.5)",
         "jitter": 0.5,
         "line": {
          "width": 1
         },
         "marker": {
          "size": 2
         },
         "name": "technician",
         "type": "box",
         "whiskerwidth": 0.2,
         "y": [
          41,
          45,
          42,
          42,
          37,
          44,
          46,
          32,
          51,
          35,
          33,
          51,
          44,
          39,
          38,
          38,
          38,
          37,
          33,
          40,
          40,
          39,
          49,
          41,
          33,
          50,
          29,
          31,
          56,
          26,
          37,
          38,
          28,
          45,
          48,
          34,
          31,
          47,
          53,
          39,
          27,
          54,
          31,
          25,
          44,
          32,
          22,
          47,
          46,
          33,
          56,
          25,
          52,
          34,
          31,
          45,
          34,
          57,
          34,
          33,
          31,
          48,
          43,
          25,
          47,
          56,
          43,
          37,
          49,
          43,
          42,
          26,
          52,
          34,
          32,
          41,
          38,
          30,
          40,
          40,
          31,
          38,
          36,
          42,
          52,
          46,
          49,
          31,
          34,
          34,
          56,
          33,
          32,
          40,
          41,
          30,
          53,
          50,
          31,
          57,
          36,
          54,
          35,
          49,
          43,
          43,
          31,
          47,
          51,
          31,
          52,
          36,
          43,
          24,
          31,
          28,
          41,
          29,
          38,
          55,
          45,
          49,
          42,
          31,
          37,
          36,
          58,
          55,
          38,
          45,
          30,
          31,
          48,
          36,
          38,
          40,
          50,
          35,
          36,
          33,
          39,
          42,
          30,
          43,
          24,
          32,
          34,
          31,
          31,
          26,
          28,
          39,
          33,
          43,
          42,
          54,
          42,
          40,
          38,
          35,
          42,
          30,
          38,
          38,
          29,
          50,
          30,
          35,
          50,
          45,
          36,
          35,
          33,
          57,
          24,
          43,
          27,
          23,
          23,
          33,
          48,
          51,
          30,
          50,
          25,
          49,
          27,
          28,
          31,
          41,
          31,
          57,
          57,
          30,
          38,
          37,
          24,
          56,
          39,
          25,
          35,
          34,
          38,
          44,
          22,
          36,
          57,
          30,
          33,
          35,
          38,
          56,
          50,
          26,
          27,
          29,
          36,
          31,
          31,
          31,
          30,
          21,
          27,
          34,
          45,
          52,
          34,
          52,
          28,
          43,
          44,
          40,
          49,
          53,
          44,
          30,
          33,
          31,
          42,
          37,
          35,
          58,
          53,
          44,
          46,
          46,
          48,
          52,
          44,
          45,
          45,
          45,
          52,
          53,
          50,
          52,
          46,
          45,
          47,
          48,
          54,
          51,
          45,
          48,
          52,
          49,
          53,
          46,
          44,
          39,
          39,
          31,
          34,
          34,
          30,
          31,
          40,
          55,
          55,
          48,
          45,
          32,
          35,
          32,
          38,
          39,
          46,
          40,
          31,
          56,
          32,
          40,
          50,
          56,
          35,
          33,
          30,
          32,
          36,
          30,
          40,
          41,
          44,
          44,
          43,
          31,
          33,
          33,
          56,
          59,
          44,
          33,
          33,
          44,
          28,
          28,
          28,
          32,
          53,
          32,
          34,
          37,
          43,
          31,
          46,
          48,
          30,
          29,
          36,
          28,
          42,
          26,
          26,
          26,
          32,
          36,
          50,
          30,
          45,
          43,
          44,
          41,
          32,
          40,
          26,
          50,
          46,
          37,
          52,
          52,
          60,
          52,
          40,
          27,
          28,
          47,
          47,
          33,
          33,
          33,
          33,
          32,
          35,
          60,
          50,
          51,
          50,
          46,
          39,
          41,
          35,
          50,
          34,
          35,
          51,
          49,
          38,
          41,
          33,
          48,
          45,
          37,
          41,
          40,
          30,
          41,
          29,
          38,
          41,
          33,
          36,
          52,
          33,
          30,
          30,
          43,
          29,
          27,
          39,
          35,
          36,
          44,
          46,
          46,
          35,
          34,
          33,
          35,
          40,
          35,
          33,
          33,
          33,
          34,
          30,
          23,
          50,
          29,
          27,
          39,
          23,
          31,
          39,
          27,
          33,
          33,
          48,
          29,
          50,
          59,
          28,
          33,
          43,
          48,
          55,
          28,
          43,
          32,
          41,
          33,
          28,
          53,
          28,
          34,
          32,
          32,
          39,
          36,
          32,
          34,
          29,
          29,
          35,
          51,
          31,
          34,
          38,
          38,
          31,
          51,
          43,
          33,
          36,
          37,
          31,
          52,
          28,
          33,
          39,
          33,
          32,
          31,
          28,
          27,
          33,
          51,
          26,
          54,
          28,
          37,
          35,
          29,
          35,
          29,
          23,
          34,
          33,
          33,
          35,
          51,
          51,
          24,
          44,
          30,
          41,
          47,
          25,
          34,
          25,
          44,
          33,
          32,
          36,
          43,
          54,
          33,
          28,
          26,
          41,
          31,
          32,
          35,
          45,
          32,
          43,
          31,
          25,
          40,
          24,
          40,
          58,
          59,
          53,
          53,
          53,
          52,
          27,
          43,
          43,
          54,
          54,
          31,
          24,
          40,
          59,
          59,
          47,
          44,
          23,
          39,
          33,
          27,
          37,
          50,
          31,
          32,
          39,
          58,
          29,
          33,
          35,
          30,
          39,
          45,
          37,
          42,
          42,
          29,
          51,
          45,
          27,
          27,
          56,
          26,
          55,
          30,
          30,
          54,
          56,
          43,
          51,
          30,
          30,
          25,
          38,
          38,
          38,
          25,
          34,
          49,
          49,
          59,
          49,
          42,
          29,
          38,
          29,
          53,
          34,
          35,
          59,
          36,
          48,
          66,
          45,
          60,
          61,
          46,
          47,
          43,
          70,
          36,
          36,
          51,
          32,
          62,
          25,
          53,
          53,
          53,
          23,
          23,
          35,
          57,
          48,
          58,
          48,
          30,
          34,
          51,
          42,
          33,
          45,
          32,
          32,
          38,
          28,
          26,
          27,
          27,
          61,
          24,
          50,
          45,
          50,
          36,
          36,
          36
         ]
        },
        {
         "boxpoints": "all",
         "fillcolor": "rgba(127, 96, 0, 0.5)",
         "jitter": 0.5,
         "line": {
          "width": 1
         },
         "marker": {
          "size": 2
         },
         "name": "retired",
         "type": "box",
         "whiskerwidth": 0.2,
         "y": [
          33,
          41,
          25,
          37,
          37,
          38,
          31,
          33,
          51,
          27,
          37,
          48,
          59,
          38,
          40,
          22,
          49,
          35,
          31,
          32,
          30,
          30,
          32,
          34,
          37,
          36,
          30,
          34,
          26,
          26,
          26,
          32,
          32,
          38,
          30,
          28,
          25,
          48,
          66,
          60,
          30,
          36,
          30,
          31,
          34,
          34,
          29,
          33,
          55,
          54,
          36,
          45,
          46,
          46,
          46,
          46,
          51,
          51,
          25,
          33,
          57,
          57,
          40,
          29,
          21,
          42,
          42,
          36,
          39,
          28,
          28,
          28,
          34,
          38,
          36,
          40,
          49,
          49,
          56,
          23,
          33,
          54,
          37,
          35,
          35,
          55,
          58,
          30,
          34,
          24,
          49,
          60,
          54,
          29,
          38,
          35,
          39,
          28,
          55,
          25,
          31,
          48,
          46,
          59,
          56,
          56,
          26,
          58,
          48,
          48,
          48,
          41,
          50,
          24,
          24,
          56,
          32,
          59,
          37,
          37,
          34,
          34,
          26,
          31,
          56,
          37,
          28,
          26,
          26,
          35,
          43,
          45,
          45,
          45,
          36,
          41,
          41,
          33,
          48,
          56,
          26,
          36,
          41,
          58
         ]
        },
        {
         "boxpoints": "all",
         "fillcolor": "rgba(229, 126, 56, 0.5)",
         "jitter": 0.5,
         "line": {
          "width": 1
         },
         "marker": {
          "size": 2
         },
         "name": "unemployed",
         "type": "box",
         "whiskerwidth": 0.2,
         "y": [
          49,
          41,
          44,
          31,
          45,
          45,
          40,
          56,
          43,
          28,
          28,
          41,
          39,
          27,
          43,
          43,
          59,
          35,
          31,
          28,
          30,
          42,
          31,
          44,
          27,
          33,
          24,
          37,
          36,
          42,
          41,
          52,
          53,
          55,
          37,
          47,
          47,
          50,
          53,
          35,
          30,
          33,
          38,
          50,
          34,
          34,
          44,
          37,
          41,
          54,
          37,
          30,
          36,
          36,
          36,
          56,
          35,
          30,
          26,
          51,
          34,
          34,
          57,
          35,
          48,
          48,
          48,
          30,
          56,
          48,
          56,
          56,
          36,
          57,
          50,
          44,
          41,
          51,
          45,
          36,
          38,
          30,
          31,
          43,
          30,
          32,
          41,
          45,
          33,
          48,
          48,
          37,
          41,
          40,
          69,
          69,
          32,
          35,
          36,
          46,
          56,
          35,
          48,
          61,
          48,
          31,
          55,
          39,
          39,
          62,
          62,
          31,
          55,
          33,
          53,
          38,
          38,
          50,
          41,
          41,
          38,
          43,
          39,
          50
         ]
        },
        {
         "boxpoints": "all",
         "fillcolor": "rgba(229, 56, 56, 0.5)",
         "jitter": 0.5,
         "line": {
          "width": 1
         },
         "marker": {
          "size": 2
         },
         "name": "self-employed",
         "type": "box",
         "whiskerwidth": 0.2,
         "y": [
          39,
          45,
          60,
          35,
          49,
          46,
          34,
          40,
          50,
          42,
          46,
          33,
          55,
          39,
          45,
          49,
          52,
          31,
          57,
          54,
          42,
          33,
          50,
          29,
          29,
          54,
          41,
          27,
          54,
          55,
          40,
          45,
          56,
          56,
          47,
          47,
          54,
          59,
          27,
          34,
          38,
          58,
          37,
          53,
          46,
          53,
          53,
          33,
          60,
          46,
          51,
          51,
          63,
          79,
          47,
          63,
          63,
          45,
          45,
          63,
          37,
          59,
          52,
          65,
          56,
          29,
          71,
          53,
          34,
          56,
          49,
          64,
          64,
          64,
          62,
          38,
          66,
          65,
          60,
          82,
          58,
          80,
          85,
          85,
          85,
          57,
          57,
          53,
          64,
          76,
          76,
          60,
          83,
          66,
          82,
          48,
          50,
          48,
          50,
          67,
          82,
          37,
          37,
          37,
          67,
          38
         ]
        },
        {
         "boxpoints": "all",
         "fillcolor": "rgba(174, 229, 56, 0.5)",
         "jitter": 0.5,
         "line": {
          "width": 1
         },
         "marker": {
          "size": 2
         },
         "name": "entrepreneur",
         "type": "box",
         "whiskerwidth": 0.2,
         "y": [
          45,
          38,
          30,
          52,
          48,
          30,
          43,
          30,
          40,
          27,
          35,
          41,
          57,
          35,
          49,
          47,
          60,
          29,
          57,
          45,
          34,
          36,
          40,
          42,
          45,
          54,
          33,
          58,
          42,
          36,
          36,
          35,
          54,
          56,
          38,
          53,
          57,
          42,
          43,
          36,
          27,
          38,
          51,
          40,
          34,
          29,
          53,
          41,
          29,
          29,
          28,
          28,
          32,
          30,
          30,
          30,
          33,
          30,
          30,
          42,
          42,
          50,
          25,
          59,
          25,
          25,
          21,
          56,
          31,
          37,
          38,
          40,
          40,
          44,
          57,
          44,
          50,
          36,
          28,
          41,
          31,
          29,
          38,
          38,
          32,
          39,
          49,
          28,
          28,
          36,
          26,
          26,
          36,
          37,
          42,
          35,
          31,
          44,
          22,
          36,
          52,
          24,
          32,
          32,
          38,
          30,
          39,
          30,
          29,
          39,
          31,
          46,
          60,
          34,
          36,
          37,
          28,
          51,
          32,
          32,
          34,
          31,
          41,
          32,
          40,
          43,
          33,
          43,
          31,
          30,
          47,
          27,
          47,
          31,
          48,
          45,
          30,
          30,
          36,
          29,
          44,
          37,
          43,
          34,
          28,
          25,
          48,
          58,
          22
         ]
        },
        {
         "boxpoints": "all",
         "fillcolor": "rgba(229, 56, 56, 0.5)",
         "jitter": 0.5,
         "line": {
          "width": 1
         },
         "marker": {
          "size": 2
         },
         "name": "student",
         "type": "box",
         "whiskerwidth": 0.2,
         "y": [
          28,
          35,
          35,
          29,
          35,
          30,
          26,
          35,
          32,
          46,
          33,
          27,
          47,
          29,
          26,
          26,
          26,
          28,
          28,
          28,
          27,
          19,
          30,
          21,
          19,
          26,
          20,
          20,
          19,
          25,
          25,
          25,
          25,
          26,
          31,
          19,
          19,
          29,
          19,
          19,
          32,
          19,
          19,
          19,
          19,
          19,
          26,
          27,
          24,
          24,
          27,
          22,
          20,
          32,
          32,
          21,
          22,
          26,
          21,
          26,
          30,
          24,
          25,
          28,
          21,
          19,
          18,
          26,
          27,
          22,
          21,
          26,
          21,
          28,
          27,
          23,
          28,
          20,
          23,
          21,
          25,
          24,
          22,
          25,
          21,
          28,
          20,
          25,
          24,
          25,
          25,
          39,
          23,
          25,
          23,
          23,
          20,
          29,
          30,
          18,
          29,
          20,
          24,
          24,
          26,
          26,
          26,
          26,
          20,
          20,
          23,
          22,
          22,
          26,
          17,
          22,
          20,
          25,
          24,
          24,
          24,
          28,
          26,
          26,
          30,
          30,
          18,
          26,
          18,
          28,
          24,
          21,
          35,
          22,
          17,
          26,
          22,
          21,
          22,
          21,
          24,
          22,
          22,
          21,
          24,
          26,
          25,
          18,
          27,
          22,
          20,
          20,
          20,
          23,
          29,
          29,
          26,
          18,
          19,
          24,
          30,
          18,
          24,
          21,
          23,
          23,
          19,
          21,
          21,
          27,
          23,
          26,
          23,
          38,
          30,
          30,
          30,
          30,
          27,
          20,
          20,
          26,
          20,
          31,
          21,
          18,
          18,
          24,
          32,
          24,
          24,
          20,
          31,
          30,
          30,
          22,
          29,
          28,
          28,
          28,
          20,
          20,
          22,
          37,
          37,
          22,
          27,
          23,
          21,
          22,
          25,
          24,
          24,
          23,
          25,
          21,
          21,
          21,
          21,
          19,
          28,
          30,
          20,
          23,
          31,
          31,
          23,
          24,
          24,
          31,
          31,
          30,
          21,
          27,
          28,
          27,
          28,
          18,
          18,
          31,
          31,
          26,
          25,
          33,
          19,
          24,
          22,
          31,
          23,
          24,
          19,
          23,
          23,
          19,
          25,
          19,
          23,
          25,
          23,
          25,
          30,
          21,
          20,
          31,
          25,
          23,
          25,
          23,
          25,
          21,
          31,
          18,
          29,
          25,
          33
         ]
        }
       ],
       "layout": {
        "margin": {
         "b": 80,
         "l": 40,
         "r": 30,
         "t": 100
        },
        "paper_bgcolor": "rgb(224,255,246)",
        "plot_bgcolor": "rgb(251,251,251)",
        "showlegend": false,
        "template": {
         "data": {
          "bar": [
           {
            "error_x": {
             "color": "#2a3f5f"
            },
            "error_y": {
             "color": "#2a3f5f"
            },
            "marker": {
             "line": {
              "color": "#E5ECF6",
              "width": 0.5
             }
            },
            "type": "bar"
           }
          ],
          "barpolar": [
           {
            "marker": {
             "line": {
              "color": "#E5ECF6",
              "width": 0.5
             }
            },
            "type": "barpolar"
           }
          ],
          "carpet": [
           {
            "aaxis": {
             "endlinecolor": "#2a3f5f",
             "gridcolor": "white",
             "linecolor": "white",
             "minorgridcolor": "white",
             "startlinecolor": "#2a3f5f"
            },
            "baxis": {
             "endlinecolor": "#2a3f5f",
             "gridcolor": "white",
             "linecolor": "white",
             "minorgridcolor": "white",
             "startlinecolor": "#2a3f5f"
            },
            "type": "carpet"
           }
          ],
          "choropleth": [
           {
            "colorbar": {
             "outlinewidth": 0,
             "ticks": ""
            },
            "type": "choropleth"
           }
          ],
          "contour": [
           {
            "colorbar": {
             "outlinewidth": 0,
             "ticks": ""
            },
            "colorscale": [
             [
              0,
              "#0d0887"
             ],
             [
              0.1111111111111111,
              "#46039f"
             ],
             [
              0.2222222222222222,
              "#7201a8"
             ],
             [
              0.3333333333333333,
              "#9c179e"
             ],
             [
              0.4444444444444444,
              "#bd3786"
             ],
             [
              0.5555555555555556,
              "#d8576b"
             ],
             [
              0.6666666666666666,
              "#ed7953"
             ],
             [
              0.7777777777777778,
              "#fb9f3a"
             ],
             [
              0.8888888888888888,
              "#fdca26"
             ],
             [
              1,
              "#f0f921"
             ]
            ],
            "type": "contour"
           }
          ],
          "contourcarpet": [
           {
            "colorbar": {
             "outlinewidth": 0,
             "ticks": ""
            },
            "type": "contourcarpet"
           }
          ],
          "heatmap": [
           {
            "colorbar": {
             "outlinewidth": 0,
             "ticks": ""
            },
            "colorscale": [
             [
              0,
              "#0d0887"
             ],
             [
              0.1111111111111111,
              "#46039f"
             ],
             [
              0.2222222222222222,
              "#7201a8"
             ],
             [
              0.3333333333333333,
              "#9c179e"
             ],
             [
              0.4444444444444444,
              "#bd3786"
             ],
             [
              0.5555555555555556,
              "#d8576b"
             ],
             [
              0.6666666666666666,
              "#ed7953"
             ],
             [
              0.7777777777777778,
              "#fb9f3a"
             ],
             [
              0.8888888888888888,
              "#fdca26"
             ],
             [
              1,
              "#f0f921"
             ]
            ],
            "type": "heatmap"
           }
          ],
          "heatmapgl": [
           {
            "colorbar": {
             "outlinewidth": 0,
             "ticks": ""
            },
            "colorscale": [
             [
              0,
              "#0d0887"
             ],
             [
              0.1111111111111111,
              "#46039f"
             ],
             [
              0.2222222222222222,
              "#7201a8"
             ],
             [
              0.3333333333333333,
              "#9c179e"
             ],
             [
              0.4444444444444444,
              "#bd3786"
             ],
             [
              0.5555555555555556,
              "#d8576b"
             ],
             [
              0.6666666666666666,
              "#ed7953"
             ],
             [
              0.7777777777777778,
              "#fb9f3a"
             ],
             [
              0.8888888888888888,
              "#fdca26"
             ],
             [
              1,
              "#f0f921"
             ]
            ],
            "type": "heatmapgl"
           }
          ],
          "histogram": [
           {
            "marker": {
             "colorbar": {
              "outlinewidth": 0,
              "ticks": ""
             }
            },
            "type": "histogram"
           }
          ],
          "histogram2d": [
           {
            "colorbar": {
             "outlinewidth": 0,
             "ticks": ""
            },
            "colorscale": [
             [
              0,
              "#0d0887"
             ],
             [
              0.1111111111111111,
              "#46039f"
             ],
             [
              0.2222222222222222,
              "#7201a8"
             ],
             [
              0.3333333333333333,
              "#9c179e"
             ],
             [
              0.4444444444444444,
              "#bd3786"
             ],
             [
              0.5555555555555556,
              "#d8576b"
             ],
             [
              0.6666666666666666,
              "#ed7953"
             ],
             [
              0.7777777777777778,
              "#fb9f3a"
             ],
             [
              0.8888888888888888,
              "#fdca26"
             ],
             [
              1,
              "#f0f921"
             ]
            ],
            "type": "histogram2d"
           }
          ],
          "histogram2dcontour": [
           {
            "colorbar": {
             "outlinewidth": 0,
             "ticks": ""
            },
            "colorscale": [
             [
              0,
              "#0d0887"
             ],
             [
              0.1111111111111111,
              "#46039f"
             ],
             [
              0.2222222222222222,
              "#7201a8"
             ],
             [
              0.3333333333333333,
              "#9c179e"
             ],
             [
              0.4444444444444444,
              "#bd3786"
             ],
             [
              0.5555555555555556,
              "#d8576b"
             ],
             [
              0.6666666666666666,
              "#ed7953"
             ],
             [
              0.7777777777777778,
              "#fb9f3a"
             ],
             [
              0.8888888888888888,
              "#fdca26"
             ],
             [
              1,
              "#f0f921"
             ]
            ],
            "type": "histogram2dcontour"
           }
          ],
          "mesh3d": [
           {
            "colorbar": {
             "outlinewidth": 0,
             "ticks": ""
            },
            "type": "mesh3d"
           }
          ],
          "parcoords": [
           {
            "line": {
             "colorbar": {
              "outlinewidth": 0,
              "ticks": ""
             }
            },
            "type": "parcoords"
           }
          ],
          "pie": [
           {
            "automargin": true,
            "type": "pie"
           }
          ],
          "scatter": [
           {
            "marker": {
             "colorbar": {
              "outlinewidth": 0,
              "ticks": ""
             }
            },
            "type": "scatter"
           }
          ],
          "scatter3d": [
           {
            "line": {
             "colorbar": {
              "outlinewidth": 0,
              "ticks": ""
             }
            },
            "marker": {
             "colorbar": {
              "outlinewidth": 0,
              "ticks": ""
             }
            },
            "type": "scatter3d"
           }
          ],
          "scattercarpet": [
           {
            "marker": {
             "colorbar": {
              "outlinewidth": 0,
              "ticks": ""
             }
            },
            "type": "scattercarpet"
           }
          ],
          "scattergeo": [
           {
            "marker": {
             "colorbar": {
              "outlinewidth": 0,
              "ticks": ""
             }
            },
            "type": "scattergeo"
           }
          ],
          "scattergl": [
           {
            "marker": {
             "colorbar": {
              "outlinewidth": 0,
              "ticks": ""
             }
            },
            "type": "scattergl"
           }
          ],
          "scattermapbox": [
           {
            "marker": {
             "colorbar": {
              "outlinewidth": 0,
              "ticks": ""
             }
            },
            "type": "scattermapbox"
           }
          ],
          "scatterpolar": [
           {
            "marker": {
             "colorbar": {
              "outlinewidth": 0,
              "ticks": ""
             }
            },
            "type": "scatterpolar"
           }
          ],
          "scatterpolargl": [
           {
            "marker": {
             "colorbar": {
              "outlinewidth": 0,
              "ticks": ""
             }
            },
            "type": "scatterpolargl"
           }
          ],
          "scatterternary": [
           {
            "marker": {
             "colorbar": {
              "outlinewidth": 0,
              "ticks": ""
             }
            },
            "type": "scatterternary"
           }
          ],
          "surface": [
           {
            "colorbar": {
             "outlinewidth": 0,
             "ticks": ""
            },
            "colorscale": [
             [
              0,
              "#0d0887"
             ],
             [
              0.1111111111111111,
              "#46039f"
             ],
             [
              0.2222222222222222,
              "#7201a8"
             ],
             [
              0.3333333333333333,
              "#9c179e"
             ],
             [
              0.4444444444444444,
              "#bd3786"
             ],
             [
              0.5555555555555556,
              "#d8576b"
             ],
             [
              0.6666666666666666,
              "#ed7953"
             ],
             [
              0.7777777777777778,
              "#fb9f3a"
             ],
             [
              0.8888888888888888,
              "#fdca26"
             ],
             [
              1,
              "#f0f921"
             ]
            ],
            "type": "surface"
           }
          ],
          "table": [
           {
            "cells": {
             "fill": {
              "color": "#EBF0F8"
             },
             "line": {
              "color": "white"
             }
            },
            "header": {
             "fill": {
              "color": "#C8D4E3"
             },
             "line": {
              "color": "white"
             }
            },
            "type": "table"
           }
          ]
         },
         "layout": {
          "annotationdefaults": {
           "arrowcolor": "#2a3f5f",
           "arrowhead": 0,
           "arrowwidth": 1
          },
          "coloraxis": {
           "colorbar": {
            "outlinewidth": 0,
            "ticks": ""
           }
          },
          "colorscale": {
           "diverging": [
            [
             0,
             "#8e0152"
            ],
            [
             0.1,
             "#c51b7d"
            ],
            [
             0.2,
             "#de77ae"
            ],
            [
             0.3,
             "#f1b6da"
            ],
            [
             0.4,
             "#fde0ef"
            ],
            [
             0.5,
             "#f7f7f7"
            ],
            [
             0.6,
             "#e6f5d0"
            ],
            [
             0.7,
             "#b8e186"
            ],
            [
             0.8,
             "#7fbc41"
            ],
            [
             0.9,
             "#4d9221"
            ],
            [
             1,
             "#276419"
            ]
           ],
           "sequential": [
            [
             0,
             "#0d0887"
            ],
            [
             0.1111111111111111,
             "#46039f"
            ],
            [
             0.2222222222222222,
             "#7201a8"
            ],
            [
             0.3333333333333333,
             "#9c179e"
            ],
            [
             0.4444444444444444,
             "#bd3786"
            ],
            [
             0.5555555555555556,
             "#d8576b"
            ],
            [
             0.6666666666666666,
             "#ed7953"
            ],
            [
             0.7777777777777778,
             "#fb9f3a"
            ],
            [
             0.8888888888888888,
             "#fdca26"
            ],
            [
             1,
             "#f0f921"
            ]
           ],
           "sequentialminus": [
            [
             0,
             "#0d0887"
            ],
            [
             0.1111111111111111,
             "#46039f"
            ],
            [
             0.2222222222222222,
             "#7201a8"
            ],
            [
             0.3333333333333333,
             "#9c179e"
            ],
            [
             0.4444444444444444,
             "#bd3786"
            ],
            [
             0.5555555555555556,
             "#d8576b"
            ],
            [
             0.6666666666666666,
             "#ed7953"
            ],
            [
             0.7777777777777778,
             "#fb9f3a"
            ],
            [
             0.8888888888888888,
             "#fdca26"
            ],
            [
             1,
             "#f0f921"
            ]
           ]
          },
          "colorway": [
           "#636efa",
           "#EF553B",
           "#00cc96",
           "#ab63fa",
           "#FFA15A",
           "#19d3f3",
           "#FF6692",
           "#B6E880",
           "#FF97FF",
           "#FECB52"
          ],
          "font": {
           "color": "#2a3f5f"
          },
          "geo": {
           "bgcolor": "white",
           "lakecolor": "white",
           "landcolor": "#E5ECF6",
           "showlakes": true,
           "showland": true,
           "subunitcolor": "white"
          },
          "hoverlabel": {
           "align": "left"
          },
          "hovermode": "closest",
          "mapbox": {
           "style": "light"
          },
          "paper_bgcolor": "white",
          "plot_bgcolor": "#E5ECF6",
          "polar": {
           "angularaxis": {
            "gridcolor": "white",
            "linecolor": "white",
            "ticks": ""
           },
           "bgcolor": "#E5ECF6",
           "radialaxis": {
            "gridcolor": "white",
            "linecolor": "white",
            "ticks": ""
           }
          },
          "scene": {
           "xaxis": {
            "backgroundcolor": "#E5ECF6",
            "gridcolor": "white",
            "gridwidth": 2,
            "linecolor": "white",
            "showbackground": true,
            "ticks": "",
            "zerolinecolor": "white"
           },
           "yaxis": {
            "backgroundcolor": "#E5ECF6",
            "gridcolor": "white",
            "gridwidth": 2,
            "linecolor": "white",
            "showbackground": true,
            "ticks": "",
            "zerolinecolor": "white"
           },
           "zaxis": {
            "backgroundcolor": "#E5ECF6",
            "gridcolor": "white",
            "gridwidth": 2,
            "linecolor": "white",
            "showbackground": true,
            "ticks": "",
            "zerolinecolor": "white"
           }
          },
          "shapedefaults": {
           "line": {
            "color": "#2a3f5f"
           }
          },
          "ternary": {
           "aaxis": {
            "gridcolor": "white",
            "linecolor": "white",
            "ticks": ""
           },
           "baxis": {
            "gridcolor": "white",
            "linecolor": "white",
            "ticks": ""
           },
           "bgcolor": "#E5ECF6",
           "caxis": {
            "gridcolor": "white",
            "linecolor": "white",
            "ticks": ""
           }
          },
          "title": {
           "x": 0.05
          },
          "xaxis": {
           "automargin": true,
           "gridcolor": "white",
           "linecolor": "white",
           "ticks": "",
           "title": {
            "standoff": 15
           },
           "zerolinecolor": "white",
           "zerolinewidth": 2
          },
          "yaxis": {
           "automargin": true,
           "gridcolor": "white",
           "linecolor": "white",
           "ticks": "",
           "title": {
            "standoff": 15
           },
           "zerolinecolor": "white",
           "zerolinewidth": 2
          }
         }
        },
        "title": {
         "text": "Distribution of Ages by Occupation"
        },
        "yaxis": {
         "autorange": true,
         "dtick": 5,
         "gridcolor": "rgb(255, 255, 255)",
         "gridwidth": 1,
         "showgrid": true,
         "zeroline": true,
         "zerolinecolor": "rgb(255, 255, 255)",
         "zerolinewidth": 2
        }
       }
      },
      "text/html": [
       "<div>\n",
       "        \n",
       "        \n",
       "            <div id=\"f498b8e5-a06e-4f4a-bee7-1ae8e629ee88\" class=\"plotly-graph-div\" style=\"height:525px; width:100%;\"></div>\n",
       "            <script type=\"text/javascript\">\n",
       "                require([\"plotly\"], function(Plotly) {\n",
       "                    window.PLOTLYENV=window.PLOTLYENV || {};\n",
       "                    \n",
       "                if (document.getElementById(\"f498b8e5-a06e-4f4a-bee7-1ae8e629ee88\")) {\n",
       "                    Plotly.newPlot(\n",
       "                        'f498b8e5-a06e-4f4a-bee7-1ae8e629ee88',\n",
       "                        [{\"boxpoints\": \"all\", \"fillcolor\": \"rgba(93, 164, 214, 0.5)\", \"jitter\": 0.5, \"line\": {\"width\": 1}, \"marker\": {\"size\": 2}, \"name\": \"housemaid\", \"type\": \"box\", \"whiskerwidth\": 0.2, \"y\": [28, 42, 31, 54, 54, 32, 38, 32, 43, 59, 39, 41, 32, 33, 38, 35, 51, 36, 51, 27, 45, 30, 51, 30, 35, 44, 49, 26, 37, 46, 47, 42, 42, 45, 30, 36, 45, 30, 58, 32, 58, 44, 58, 39, 24, 47, 39, 52, 52, 40, 33, 41, 30, 39, 31, 40, 37, 36, 37, 42, 30, 27, 32, 40, 46, 60, 45, 56, 48, 38, 24, 37, 26, 39, 38, 35, 34, 32, 25, 41, 59, 38, 35, 47, 55, 29, 34, 36, 29, 34, 37, 32, 48, 28, 44, 25, 41, 37, 39, 38, 37, 29, 28, 38, 28, 60, 47, 38, 31, 45, 46, 43, 43, 35, 40, 39, 51, 42, 34, 52, 40, 31, 47, 37, 55, 42, 39, 48, 35, 29, 29, 36, 27, 50, 34, 27, 26, 53, 36, 31, 51, 44, 34, 27, 35, 57, 28, 31, 55, 31, 25, 32, 35, 33, 35, 53, 26, 31, 23, 36, 35, 54, 26, 50, 34, 39, 48, 34, 27, 45, 45, 34, 29, 35, 34, 23, 32, 23, 29, 26, 27, 31, 35, 29, 29, 33, 33, 46, 30, 57, 43, 40, 27, 32, 44, 31, 39, 29, 29, 41, 39, 37, 30, 27, 31, 39, 28, 28, 36, 30, 23, 31, 51, 45, 48, 30, 55, 51, 37, 27, 44, 39, 56, 39, 50, 55, 59, 46, 40, 59, 37, 52, 43, 50, 36, 33, 57, 35, 32, 52, 37, 35, 43, 32, 32, 36, 38, 24, 32, 28, 28, 42, 52, 43, 58, 52, 43, 41, 42, 43, 40, 32, 34, 48, 37, 31, 31, 37, 37, 43, 46, 38, 48, 41, 32, 39, 32, 30, 30, 29, 44, 30, 38, 36, 50, 45, 46, 50, 34, 32, 53, 31, 48, 53, 35, 36, 32, 45, 32, 32, 43, 57, 50, 44, 57, 46, 40, 34, 54, 36, 39, 34, 45, 30, 47, 30, 35, 47, 49, 35, 58, 45, 31, 39, 29, 56, 29, 30, 41, 36, 29, 34, 51, 37, 29, 49, 33, 33, 33, 29, 29, 35, 35, 35, 47, 40, 55, 49, 50, 39, 51, 47, 41, 37, 44, 38, 30, 42, 56, 48, 30, 44, 59, 32, 48, 37, 38, 46, 31, 26, 31, 34, 27, 30, 42, 45, 25, 39, 41, 29, 36, 58, 42, 37, 34, 48, 40, 42, 46, 45, 55, 40, 52, 30, 52, 57, 35, 31, 58, 35, 35, 36, 43, 43, 35, 31, 29, 43, 35, 37, 35, 36, 57, 48, 52, 36, 43, 45, 40, 30, 46, 42, 30, 44, 34, 57, 37, 29, 53, 34, 32, 39, 38, 30, 34, 33, 34, 35, 48, 54, 34, 35, 35, 40, 57, 58, 42, 45, 34, 57, 48, 35, 39, 56, 29, 44, 30, 38, 35, 30, 26, 26, 48, 28, 34, 35, 36, 23, 33, 32, 32, 32, 39, 37, 32, 26, 26, 33, 33, 34, 60, 24, 32, 36, 31, 54, 54, 31, 31, 46, 50, 28, 28, 33, 28, 35, 36, 28, 28, 28, 25, 25, 28, 32, 28, 32, 32, 32, 62, 80, 49, 33, 30, 30, 30, 41, 50, 41, 34, 55, 29, 25, 35, 40, 29, 29, 36, 43, 45, 34, 34, 34, 30, 30, 30, 30, 57, 28, 43, 47, 49, 26, 37, 33, 33, 26, 31, 30, 36, 30, 29, 32, 47, 29, 24, 37, 56, 29, 32, 42, 37, 27, 43, 35, 33, 38, 41, 27, 22, 55, 28, 45, 39, 48, 43, 40, 26, 26, 34, 26, 24, 34, 24, 54, 25, 35, 31, 28, 54, 54, 54, 34, 53, 23, 23, 23, 23, 29, 29, 39, 25, 55, 57, 25, 34, 61, 44, 50, 43, 50, 64, 38, 27, 27, 38, 23, 38, 33, 33, 27, 60, 28, 26, 30, 30, 53, 60, 40, 60, 49, 53, 46, 41, 29, 31, 40, 45, 30, 34, 30, 41, 38, 32, 35, 29, 30, 30, 60, 37, 46, 49, 37, 28, 36, 60, 55, 28, 35, 38, 41, 36, 45, 49, 30, 30, 38, 24, 32, 33, 29, 31, 64, 30, 25, 39, 36, 60, 30, 31, 39, 39, 65, 28, 31, 57, 42, 53, 31, 42, 58, 30, 40, 39, 59, 60, 49, 58, 30, 34, 36, 52, 34, 36, 57, 35, 32, 28, 45, 38, 29, 26, 32, 29, 54, 28, 42, 35, 34, 38, 35, 42, 35, 35, 27, 58, 33, 25, 33, 32, 26, 48, 46, 47, 32, 48, 45, 37, 48, 28, 48, 36, 32, 39, 28, 31, 24, 31, 53, 31, 36, 30, 29, 52, 26, 26, 33, 33, 57, 33, 25, 27, 40, 29, 31, 29, 27, 34, 59, 37, 58, 30, 29, 43, 35, 39, 48, 31, 51, 43, 29, 50, 30, 41, 36, 28, 44, 33, 31, 37, 33, 29, 45, 44, 37, 46, 29, 37, 58, 52, 45, 45, 27, 57, 30, 37, 36, 54, 56, 46, 34, 54, 25, 36, 50, 35, 30, 31, 58, 33, 31, 36, 25, 25, 31, 34, 50, 29, 33, 32, 38, 38, 24, 60, 29, 32, 27, 29, 52, 28, 33, 37, 49, 36, 29, 49, 32, 67, 33, 26, 40, 32, 31, 33, 32, 32, 25, 26, 32, 32, 32, 28, 59, 33, 24, 24, 24, 24, 30, 44, 40, 47, 30, 31, 33, 43, 28, 30, 33, 28, 40, 28, 29, 29, 29, 48, 30, 36, 29, 50, 30, 61, 52, 33, 35, 45, 29, 26, 42, 24, 30, 36, 36, 30, 31, 32, 28, 35, 32, 28, 30, 30, 30, 32, 28, 32, 24, 59, 51, 48, 30, 34, 45, 53, 30, 32, 27, 47, 36, 29, 25, 50, 28, 41, 46, 30, 29, 57, 29, 29, 21, 35, 55, 29, 53, 49, 40, 50, 39, 64, 50, 55, 51, 61, 45, 45, 50, 60, 46, 50, 46, 56, 29, 48, 30, 33, 31, 37, 53, 33, 46, 27, 33, 40, 31, 42, 32, 26, 32, 27, 51, 54, 27, 38, 44, 42, 47, 52, 51, 59, 59, 37, 46, 54, 35, 44, 29, 25, 33, 28, 29, 31, 33, 43, 36, 38, 36, 36, 33, 31, 52, 31, 33, 52, 52, 30, 57, 35, 26, 44, 59, 59, 34, 49, 27, 36, 42, 49, 27, 56, 27, 28, 56, 38, 28, 29, 39, 46, 40, 57, 36, 61, 42, 54, 35, 31, 62, 25, 25, 28, 44, 28, 41, 36, 34, 26, 47, 37, 50, 56, 35, 37, 33, 55, 34, 33, 37, 34, 32, 24, 51, 54, 54, 62, 36, 39, 51, 43, 27, 59, 51, 46, 50, 31, 33, 72, 53, 38, 31, 33, 54, 37, 26, 32, 44, 40, 59, 76, 50, 59, 59, 45, 45, 41, 30, 49, 66, 30, 78, 46, 27, 27, 56, 42, 25, 42, 34, 49, 43, 28, 31, 36, 34, 47, 70, 29, 27, 27, 70, 24, 38, 36, 52, 30, 56, 35, 50, 37, 35, 56, 50, 35, 60, 48, 48, 54, 37, 42, 42, 42, 36, 42, 32, 30, 30, 32, 28, 34, 33, 33, 37, 25, 33, 26, 49, 33, 28, 49, 36, 36, 33, 57, 31, 24, 39, 44, 38, 38, 36, 32, 44, 36, 71, 30, 24, 61, 64, 64, 29, 34, 26, 33, 26, 42, 72, 42, 31, 32, 40, 33, 31, 53, 34, 67, 32, 37, 34, 30, 52, 56, 32, 36, 47, 54, 32, 54, 54, 53, 26, 26, 57, 25, 81, 41, 81, 38, 28, 61, 61, 41, 33, 38, 41, 52, 33, 30, 28, 52, 63, 28, 36, 29, 33, 38, 43, 25, 25, 29, 38, 34, 34, 34, 56, 38, 29, 26, 29, 32, 32, 53, 39, 41, 25, 50, 26, 25, 47, 35, 48, 53, 43, 43, 26, 27, 57, 48, 44, 60, 58, 48, 50, 46, 36, 43, 54, 32, 26, 65, 65, 37, 55, 46, 43, 31, 50, 57, 41, 41, 41, 45, 37, 53, 35, 32, 34, 39, 31, 31, 33, 24, 37, 36, 36, 53, 34, 41, 41, 41, 41, 29, 36, 34, 34, 34, 34, 34, 34, 34, 34, 26, 34, 55, 28, 46, 29, 33, 31, 29, 31, 52, 28, 38, 43, 34, 39, 27, 29, 27, 27, 27, 27, 57, 59, 27, 27, 56, 56, 27, 33, 41, 35, 32, 35, 33, 27, 61, 53, 54, 48, 35, 26, 49, 36, 48, 48, 48, 35, 37, 41, 45, 43, 41, 47, 46, 38, 39, 37, 30, 44, 52, 52, 28, 33, 52, 50, 38, 35, 52, 33, 38, 35, 39, 52, 52, 29, 52, 52, 52, 37, 44, 59, 58, 50, 61, 60, 58, 31, 28, 29, 40, 40, 60, 29, 52, 30, 65, 52, 33, 71, 33, 46, 31, 58, 46, 41, 34, 36, 36, 28, 28, 36, 38, 61, 30, 33, 31, 29, 29, 22, 48, 34, 47, 29, 34, 33, 29, 37, 50, 36, 35, 29, 56, 29, 29, 28, 28, 28, 65, 30, 36, 36, 32, 36, 36, 37, 27, 51, 51, 53, 34, 36, 27, 27, 26, 27, 26, 26, 60, 37, 38, 33, 55, 35, 48, 41, 41, 46, 46, 29, 46, 55, 33, 35, 34, 29, 37, 58, 25, 34, 46, 39, 39, 27, 24, 29, 29, 29, 45, 29, 35, 50, 30, 35, 47, 31, 44, 60, 51, 29, 22, 29, 52, 64, 45, 40, 30, 60, 59, 42, 42, 26, 26, 63, 65, 32, 52, 52, 76, 34, 51, 34, 37, 35, 40, 37, 40, 27, 28, 40, 48, 47, 59, 34, 48, 47, 30, 41, 48, 41, 48, 47, 37, 25, 45, 41, 27, 41, 41, 77, 27, 24, 64, 26, 26, 53, 55, 58, 50, 31, 31, 55, 61, 35, 66, 41, 52, 33, 27, 33, 33, 30, 31, 31, 30, 27, 37, 60, 59, 37, 45, 55, 39, 47, 32, 57, 31, 30, 22, 33, 35, 32, 34, 26, 36, 36, 26, 42, 44, 67, 28, 29, 60, 33, 37, 34, 27, 57, 39, 34, 34, 31, 53, 52, 36, 52, 37, 31, 23, 24, 56, 41, 33, 33, 33, 58, 42, 33, 58, 31, 31, 32, 29, 42, 34, 42, 41, 57, 28, 51, 47, 27, 49, 35, 54, 50, 37, 37, 24, 44, 29, 47, 31, 37, 33, 29, 37, 45, 28, 33, 33, 62, 60, 62, 30, 30, 31, 48, 37, 51, 31, 59, 33, 60, 61, 61, 31, 31, 33, 37, 43, 26, 41, 35, 33, 54, 32, 31, 37]}, {\"boxpoints\": \"all\", \"fillcolor\": \"rgba(255, 144, 14, 0.5)\", \"jitter\": 0.5, \"line\": {\"width\": 1}, \"marker\": {\"size\": 2}, \"name\": \"services\", \"type\": \"box\", \"whiskerwidth\": 0.2, \"y\": [49, 41, 42, 43, 50, 38, 30, 45, 41, 36, 53, 35, 45, 57, 33, 55, 55, 35, 32, 49, 38, 50, 39, 29, 54, 53, 40, 38, 30, 50, 29, 48, 55, 39, 26, 45, 28, 31, 31, 36, 38, 42, 41, 55, 46, 36, 31, 35, 41, 37, 29, 50, 29, 31, 56, 53, 31, 50, 35, 25, 34, 42, 31, 31, 34, 32, 26, 48, 31, 31, 32, 43, 26, 42, 38, 26, 34, 34, 32, 26, 39, 26, 24, 31, 37, 33, 36, 39, 41, 28, 28, 37, 38, 30, 59, 33, 27, 46, 60, 47, 48, 48, 48, 28, 39, 54, 52, 39, 42, 31, 34, 51, 32, 32, 37, 44, 30, 34, 33, 30, 31, 35, 57, 40, 37, 41, 29, 38, 33, 38, 30, 36, 36, 32, 38, 31, 32, 37, 33, 35, 43, 33, 32, 32, 31, 32, 41, 32, 33, 33, 32, 33, 35, 33, 39, 34, 31, 34, 35, 50, 30, 35, 35, 41, 54, 31, 42, 29, 30, 33, 54, 35, 31, 48, 35, 32, 30, 36, 39, 38, 33, 40, 31, 51, 44, 55, 30, 47, 30, 29, 37, 39, 30, 36, 39, 29, 45, 33, 56, 31, 32, 29, 35, 31, 50, 30, 39, 36, 35, 32, 34, 34, 38, 30, 53, 34, 53, 32, 47, 45, 29, 33, 37, 50, 46, 29, 34, 39, 29, 28, 66, 38, 38, 38, 38, 38, 38, 34, 34, 38, 38, 34, 34, 34, 38, 55, 38, 38, 38, 29, 28, 29, 32, 32, 41, 31, 34, 29, 32, 27, 46, 33, 33, 33, 41, 57, 46, 29, 57, 33, 33, 33, 36, 38, 33, 34, 49, 26, 38, 34, 59, 30, 29, 31, 31, 31, 54, 60, 35, 42, 38, 31, 39, 34, 40, 39, 41, 36, 44, 35, 51, 46, 51, 51, 51, 36, 39, 48, 51, 39, 48, 30, 51, 40, 41, 41, 24, 49, 41, 49, 53, 41, 36, 39, 20, 61, 56, 53, 24, 50, 34, 32, 36, 28, 39, 33, 28, 28, 27, 33, 38, 38, 28, 27, 55, 48, 45, 45, 31, 31, 34, 31, 27, 34, 35, 43, 39, 28, 32, 43, 31, 44, 42, 35, 35, 30, 23, 31, 32, 32, 22, 34, 32, 30, 29, 36, 31, 35, 29, 46, 39, 39, 43, 33, 40, 26, 35, 43, 28, 35, 53, 37, 42, 34, 28, 32, 22, 29, 30, 56, 24, 26, 36, 36, 32, 32, 26, 26, 37, 34, 32, 41, 41, 41, 28, 31, 28, 53, 28, 34, 29, 38, 50, 30, 29, 51, 28, 51, 51, 29, 31, 25, 35, 30, 36, 36, 29, 38, 22, 32, 20, 37, 25, 32, 24, 51, 51, 29, 42, 29, 23, 34, 34, 37, 57, 37, 32, 31, 25, 32, 38, 37, 33, 34, 58, 58, 32, 32, 46, 39, 35, 46, 42, 34, 48, 23, 34, 35, 38, 32, 36, 28, 28, 34, 59, 38, 34, 34, 51, 53, 52, 43, 43, 34, 24, 53, 37, 44, 36, 59, 28, 28, 37, 39, 33, 50, 38, 60, 30, 34, 56, 45, 56, 23, 32, 63, 32, 30, 48, 61, 48, 48, 34, 39, 39, 34, 59, 47, 22, 54, 26, 56, 34, 54, 35, 31, 29, 52, 52, 40, 40, 40, 31, 28, 27, 28, 25, 38, 38, 30, 55, 50, 50, 38, 63, 52, 29, 51, 27, 46, 22, 26, 27, 30, 53, 30, 34, 34, 34, 34, 50, 38, 62, 62, 34, 33, 52, 29, 30, 30, 39, 39, 41, 49, 46, 53, 37, 63, 50, 32, 29, 48, 37, 43, 52, 37, 52, 44, 56, 40, 33, 33, 45, 31, 49, 43, 29, 51, 39, 29, 35, 34, 44, 44, 39, 39, 31, 31, 31, 59, 37, 38, 30, 34, 35, 62, 62, 62, 35, 35, 35, 29, 29, 52, 26, 59, 56, 49, 56, 30, 29, 24, 43, 24, 51, 24, 26, 31, 31, 31, 31, 37, 35, 35, 46, 41, 58, 43, 42, 70, 51, 42, 34, 33, 51, 38, 27, 27, 38, 26, 38, 24, 29, 29, 30, 30, 33, 33, 33, 30, 36, 34, 34, 26, 36, 26, 34, 33, 32, 32, 53, 31, 30, 26, 33, 32, 32, 26, 35, 32, 41, 29, 49, 31, 48, 31, 48, 44, 56, 42, 48, 31, 30, 30, 27, 29, 24, 34, 34, 29, 34, 37, 37, 25, 41, 41, 35, 35, 35, 44]}, {\"boxpoints\": \"all\", \"fillcolor\": \"rgba(44, 160, 101, 0.5)\", \"jitter\": 0.5, \"line\": {\"width\": 1}, \"marker\": {\"size\": 2}, \"name\": \"management\", \"type\": \"box\", \"whiskerwidth\": 0.2, \"y\": [44, 39, 42, 31, 41, 33, 24, 24, 31, 31, 32, 42, 38, 44, 51, 57, 28, 38, 52, 52, 32, 35, 37, 35, 33, 39, 41, 45, 42, 50, 34, 40, 52, 31, 42, 31, 30, 28, 39, 33, 29, 39, 40, 24, 32, 33, 41, 47, 31, 25, 27, 32, 29, 27, 56, 25, 30, 31, 31, 30, 23, 30, 33, 39, 27, 44, 43, 32, 32, 33, 24, 31, 42, 28, 32, 26, 43, 43, 32, 32, 33, 33, 35, 35, 25, 33, 39, 36, 27, 36, 52, 43, 44, 51, 50, 25, 23, 25, 39, 33, 33, 38, 28, 36, 47, 53, 45, 31, 50, 54, 45, 49, 29, 48, 47, 46, 47, 48, 29, 40, 25, 33, 52, 43, 33, 30, 37, 29, 56, 31, 30, 36, 24, 41, 41, 44, 24, 38, 24, 24, 24, 41, 45, 40, 45, 45, 45, 40, 48, 48, 55, 31, 27, 37, 47, 35, 51, 33, 39, 42, 46, 35, 42, 35, 26, 35, 31, 56, 54, 46, 31, 37, 46, 32, 34, 33, 36, 52, 38, 38, 26, 31, 32, 31, 38, 33, 33, 28, 31, 29, 41, 31, 28, 43, 44, 55, 29, 25, 38, 44, 42, 28, 42, 24, 34, 37, 24, 57, 44, 33, 30, 32, 46, 32, 38, 31, 44, 31, 27, 28, 32, 31, 31, 53, 31, 31, 28, 29, 29, 25, 21, 25, 25, 49, 44, 30, 36, 28, 26, 26, 32, 41, 41, 36, 36, 33, 30, 36, 33, 56, 36, 39, 22, 22, 43, 40, 28, 28, 30, 31, 33, 25, 29, 33, 37, 40, 31, 42, 55, 35, 52, 27, 38, 27, 27, 58, 35, 29, 29, 29, 51, 33, 39, 47, 31, 29, 32, 25, 25, 25, 28, 33, 27, 27, 36, 25, 22, 22, 34, 37, 28, 32, 24, 24, 27, 53, 47, 44, 29, 39, 36, 32, 46, 38, 31, 48, 33, 59, 54, 54, 37, 33, 42]}, {\"boxpoints\": \"all\", \"fillcolor\": \"rgba(255, 65, 54, 0.5)\", \"jitter\": 0.5, \"line\": {\"width\": 1}, \"marker\": {\"size\": 2}, \"name\": \"blue-collar\", \"type\": \"box\", \"whiskerwidth\": 0.2, \"y\": [58, 59, 55, 60, 54, 59, 58, 59, 52, 59, 55, 56, 58, 59, 56, 58, 53, 40, 57, 54, 59, 49, 50, 57, 55, 50, 59, 55, 59, 59, 59, 60, 60, 56, 59, 60, 56, 59, 60, 57, 57, 58, 58, 57, 58, 50, 56, 70, 88, 88, 88, 88, 88, 88, 88, 88, 66, 77, 68, 68, 73, 63, 55, 60, 63, 63, 82, 58, 73, 59, 61, 69, 70, 70, 58, 66, 67, 58, 66, 63, 70, 54, 71, 60, 68, 71, 75, 69, 64, 78, 57, 75, 61, 65, 75, 78, 85, 64, 64, 61, 65, 58, 79, 60, 60, 59, 69, 58, 58, 61, 59, 81, 33, 55, 81, 60, 56, 57, 59, 65, 58, 59, 53, 55, 74, 57, 57, 56, 61, 59, 52, 52, 74, 76, 76, 75, 70, 73, 76, 65, 85, 80, 74, 60, 66, 66, 74, 62, 55, 71, 70, 76, 73, 67, 80, 74, 67, 61, 71, 64, 74, 74, 64, 66, 71, 61, 61, 87, 64, 74, 66, 58, 54, 62, 58, 42, 80, 58, 62, 73, 79, 60, 72, 61, 71, 75, 58, 76, 69, 71, 70, 59, 70, 81, 61, 71, 75, 83, 82, 69, 65, 63, 77, 80, 74, 74, 62, 70, 60, 88, 56, 56, 98, 98, 71, 68, 68, 71, 63, 62, 54, 55, 80, 72, 82, 69, 54, 55, 78, 69, 71, 79, 71, 73, 69, 69, 76, 79, 79, 72, 72, 72, 65, 65, 67, 66, 80, 65, 77, 77, 78, 61, 64, 67, 66, 72, 77, 68, 82, 66, 83, 56, 61, 58, 56, 78, 73, 83, 60, 60, 86, 56, 56, 81, 85, 84, 59, 64, 70, 76, 76, 62, 73, 73, 78, 66, 66, 66, 72, 74, 73, 64, 64, 80, 82, 66, 75, 80, 78, 68, 64, 58, 71, 74, 68, 82, 82, 74, 74, 75, 66, 80, 80, 80, 57, 77, 80, 73, 71, 72, 77, 77, 70, 68, 76, 63, 74, 68, 80, 76, 77, 69, 92, 70, 60, 89, 78, 78, 69, 83, 76, 76, 56, 64, 56, 86, 66, 75, 72, 79, 59, 59, 73, 83, 83, 66, 66, 78, 80, 70, 78, 72, 78, 66, 78, 62, 72, 68, 68, 84, 77, 68, 51, 80, 71, 71, 62, 67, 64, 75, 61, 77, 59, 59, 64, 92, 65, 70, 92, 75, 76, 44, 76, 60, 56, 64, 69, 81, 60, 60, 85, 89, 66, 86, 83, 64, 71, 84, 86, 86, 60, 60, 82, 77, 61, 66, 65, 71, 66, 65, 70, 65, 68, 68, 81, 80, 65, 65, 65, 63, 62, 62, 62, 73]}, {\"boxpoints\": \"all\", \"fillcolor\": \"rgba(207, 114, 255, 0.5)\", \"jitter\": 0.5, \"line\": {\"width\": 1}, \"marker\": {\"size\": 2}, \"name\": \"technician\", \"type\": \"box\", \"whiskerwidth\": 0.2, \"y\": [41, 45, 42, 42, 37, 44, 46, 32, 51, 35, 33, 51, 44, 39, 38, 38, 38, 37, 33, 40, 40, 39, 49, 41, 33, 50, 29, 31, 56, 26, 37, 38, 28, 45, 48, 34, 31, 47, 53, 39, 27, 54, 31, 25, 44, 32, 22, 47, 46, 33, 56, 25, 52, 34, 31, 45, 34, 57, 34, 33, 31, 48, 43, 25, 47, 56, 43, 37, 49, 43, 42, 26, 52, 34, 32, 41, 38, 30, 40, 40, 31, 38, 36, 42, 52, 46, 49, 31, 34, 34, 56, 33, 32, 40, 41, 30, 53, 50, 31, 57, 36, 54, 35, 49, 43, 43, 31, 47, 51, 31, 52, 36, 43, 24, 31, 28, 41, 29, 38, 55, 45, 49, 42, 31, 37, 36, 58, 55, 38, 45, 30, 31, 48, 36, 38, 40, 50, 35, 36, 33, 39, 42, 30, 43, 24, 32, 34, 31, 31, 26, 28, 39, 33, 43, 42, 54, 42, 40, 38, 35, 42, 30, 38, 38, 29, 50, 30, 35, 50, 45, 36, 35, 33, 57, 24, 43, 27, 23, 23, 33, 48, 51, 30, 50, 25, 49, 27, 28, 31, 41, 31, 57, 57, 30, 38, 37, 24, 56, 39, 25, 35, 34, 38, 44, 22, 36, 57, 30, 33, 35, 38, 56, 50, 26, 27, 29, 36, 31, 31, 31, 30, 21, 27, 34, 45, 52, 34, 52, 28, 43, 44, 40, 49, 53, 44, 30, 33, 31, 42, 37, 35, 58, 53, 44, 46, 46, 48, 52, 44, 45, 45, 45, 52, 53, 50, 52, 46, 45, 47, 48, 54, 51, 45, 48, 52, 49, 53, 46, 44, 39, 39, 31, 34, 34, 30, 31, 40, 55, 55, 48, 45, 32, 35, 32, 38, 39, 46, 40, 31, 56, 32, 40, 50, 56, 35, 33, 30, 32, 36, 30, 40, 41, 44, 44, 43, 31, 33, 33, 56, 59, 44, 33, 33, 44, 28, 28, 28, 32, 53, 32, 34, 37, 43, 31, 46, 48, 30, 29, 36, 28, 42, 26, 26, 26, 32, 36, 50, 30, 45, 43, 44, 41, 32, 40, 26, 50, 46, 37, 52, 52, 60, 52, 40, 27, 28, 47, 47, 33, 33, 33, 33, 32, 35, 60, 50, 51, 50, 46, 39, 41, 35, 50, 34, 35, 51, 49, 38, 41, 33, 48, 45, 37, 41, 40, 30, 41, 29, 38, 41, 33, 36, 52, 33, 30, 30, 43, 29, 27, 39, 35, 36, 44, 46, 46, 35, 34, 33, 35, 40, 35, 33, 33, 33, 34, 30, 23, 50, 29, 27, 39, 23, 31, 39, 27, 33, 33, 48, 29, 50, 59, 28, 33, 43, 48, 55, 28, 43, 32, 41, 33, 28, 53, 28, 34, 32, 32, 39, 36, 32, 34, 29, 29, 35, 51, 31, 34, 38, 38, 31, 51, 43, 33, 36, 37, 31, 52, 28, 33, 39, 33, 32, 31, 28, 27, 33, 51, 26, 54, 28, 37, 35, 29, 35, 29, 23, 34, 33, 33, 35, 51, 51, 24, 44, 30, 41, 47, 25, 34, 25, 44, 33, 32, 36, 43, 54, 33, 28, 26, 41, 31, 32, 35, 45, 32, 43, 31, 25, 40, 24, 40, 58, 59, 53, 53, 53, 52, 27, 43, 43, 54, 54, 31, 24, 40, 59, 59, 47, 44, 23, 39, 33, 27, 37, 50, 31, 32, 39, 58, 29, 33, 35, 30, 39, 45, 37, 42, 42, 29, 51, 45, 27, 27, 56, 26, 55, 30, 30, 54, 56, 43, 51, 30, 30, 25, 38, 38, 38, 25, 34, 49, 49, 59, 49, 42, 29, 38, 29, 53, 34, 35, 59, 36, 48, 66, 45, 60, 61, 46, 47, 43, 70, 36, 36, 51, 32, 62, 25, 53, 53, 53, 23, 23, 35, 57, 48, 58, 48, 30, 34, 51, 42, 33, 45, 32, 32, 38, 28, 26, 27, 27, 61, 24, 50, 45, 50, 36, 36, 36]}, {\"boxpoints\": \"all\", \"fillcolor\": \"rgba(127, 96, 0, 0.5)\", \"jitter\": 0.5, \"line\": {\"width\": 1}, \"marker\": {\"size\": 2}, \"name\": \"retired\", \"type\": \"box\", \"whiskerwidth\": 0.2, \"y\": [33, 41, 25, 37, 37, 38, 31, 33, 51, 27, 37, 48, 59, 38, 40, 22, 49, 35, 31, 32, 30, 30, 32, 34, 37, 36, 30, 34, 26, 26, 26, 32, 32, 38, 30, 28, 25, 48, 66, 60, 30, 36, 30, 31, 34, 34, 29, 33, 55, 54, 36, 45, 46, 46, 46, 46, 51, 51, 25, 33, 57, 57, 40, 29, 21, 42, 42, 36, 39, 28, 28, 28, 34, 38, 36, 40, 49, 49, 56, 23, 33, 54, 37, 35, 35, 55, 58, 30, 34, 24, 49, 60, 54, 29, 38, 35, 39, 28, 55, 25, 31, 48, 46, 59, 56, 56, 26, 58, 48, 48, 48, 41, 50, 24, 24, 56, 32, 59, 37, 37, 34, 34, 26, 31, 56, 37, 28, 26, 26, 35, 43, 45, 45, 45, 36, 41, 41, 33, 48, 56, 26, 36, 41, 58]}, {\"boxpoints\": \"all\", \"fillcolor\": \"rgba(229, 126, 56, 0.5)\", \"jitter\": 0.5, \"line\": {\"width\": 1}, \"marker\": {\"size\": 2}, \"name\": \"unemployed\", \"type\": \"box\", \"whiskerwidth\": 0.2, \"y\": [49, 41, 44, 31, 45, 45, 40, 56, 43, 28, 28, 41, 39, 27, 43, 43, 59, 35, 31, 28, 30, 42, 31, 44, 27, 33, 24, 37, 36, 42, 41, 52, 53, 55, 37, 47, 47, 50, 53, 35, 30, 33, 38, 50, 34, 34, 44, 37, 41, 54, 37, 30, 36, 36, 36, 56, 35, 30, 26, 51, 34, 34, 57, 35, 48, 48, 48, 30, 56, 48, 56, 56, 36, 57, 50, 44, 41, 51, 45, 36, 38, 30, 31, 43, 30, 32, 41, 45, 33, 48, 48, 37, 41, 40, 69, 69, 32, 35, 36, 46, 56, 35, 48, 61, 48, 31, 55, 39, 39, 62, 62, 31, 55, 33, 53, 38, 38, 50, 41, 41, 38, 43, 39, 50]}, {\"boxpoints\": \"all\", \"fillcolor\": \"rgba(229, 56, 56, 0.5)\", \"jitter\": 0.5, \"line\": {\"width\": 1}, \"marker\": {\"size\": 2}, \"name\": \"self-employed\", \"type\": \"box\", \"whiskerwidth\": 0.2, \"y\": [39, 45, 60, 35, 49, 46, 34, 40, 50, 42, 46, 33, 55, 39, 45, 49, 52, 31, 57, 54, 42, 33, 50, 29, 29, 54, 41, 27, 54, 55, 40, 45, 56, 56, 47, 47, 54, 59, 27, 34, 38, 58, 37, 53, 46, 53, 53, 33, 60, 46, 51, 51, 63, 79, 47, 63, 63, 45, 45, 63, 37, 59, 52, 65, 56, 29, 71, 53, 34, 56, 49, 64, 64, 64, 62, 38, 66, 65, 60, 82, 58, 80, 85, 85, 85, 57, 57, 53, 64, 76, 76, 60, 83, 66, 82, 48, 50, 48, 50, 67, 82, 37, 37, 37, 67, 38]}, {\"boxpoints\": \"all\", \"fillcolor\": \"rgba(174, 229, 56, 0.5)\", \"jitter\": 0.5, \"line\": {\"width\": 1}, \"marker\": {\"size\": 2}, \"name\": \"entrepreneur\", \"type\": \"box\", \"whiskerwidth\": 0.2, \"y\": [45, 38, 30, 52, 48, 30, 43, 30, 40, 27, 35, 41, 57, 35, 49, 47, 60, 29, 57, 45, 34, 36, 40, 42, 45, 54, 33, 58, 42, 36, 36, 35, 54, 56, 38, 53, 57, 42, 43, 36, 27, 38, 51, 40, 34, 29, 53, 41, 29, 29, 28, 28, 32, 30, 30, 30, 33, 30, 30, 42, 42, 50, 25, 59, 25, 25, 21, 56, 31, 37, 38, 40, 40, 44, 57, 44, 50, 36, 28, 41, 31, 29, 38, 38, 32, 39, 49, 28, 28, 36, 26, 26, 36, 37, 42, 35, 31, 44, 22, 36, 52, 24, 32, 32, 38, 30, 39, 30, 29, 39, 31, 46, 60, 34, 36, 37, 28, 51, 32, 32, 34, 31, 41, 32, 40, 43, 33, 43, 31, 30, 47, 27, 47, 31, 48, 45, 30, 30, 36, 29, 44, 37, 43, 34, 28, 25, 48, 58, 22]}, {\"boxpoints\": \"all\", \"fillcolor\": \"rgba(229, 56, 56, 0.5)\", \"jitter\": 0.5, \"line\": {\"width\": 1}, \"marker\": {\"size\": 2}, \"name\": \"student\", \"type\": \"box\", \"whiskerwidth\": 0.2, \"y\": [28, 35, 35, 29, 35, 30, 26, 35, 32, 46, 33, 27, 47, 29, 26, 26, 26, 28, 28, 28, 27, 19, 30, 21, 19, 26, 20, 20, 19, 25, 25, 25, 25, 26, 31, 19, 19, 29, 19, 19, 32, 19, 19, 19, 19, 19, 26, 27, 24, 24, 27, 22, 20, 32, 32, 21, 22, 26, 21, 26, 30, 24, 25, 28, 21, 19, 18, 26, 27, 22, 21, 26, 21, 28, 27, 23, 28, 20, 23, 21, 25, 24, 22, 25, 21, 28, 20, 25, 24, 25, 25, 39, 23, 25, 23, 23, 20, 29, 30, 18, 29, 20, 24, 24, 26, 26, 26, 26, 20, 20, 23, 22, 22, 26, 17, 22, 20, 25, 24, 24, 24, 28, 26, 26, 30, 30, 18, 26, 18, 28, 24, 21, 35, 22, 17, 26, 22, 21, 22, 21, 24, 22, 22, 21, 24, 26, 25, 18, 27, 22, 20, 20, 20, 23, 29, 29, 26, 18, 19, 24, 30, 18, 24, 21, 23, 23, 19, 21, 21, 27, 23, 26, 23, 38, 30, 30, 30, 30, 27, 20, 20, 26, 20, 31, 21, 18, 18, 24, 32, 24, 24, 20, 31, 30, 30, 22, 29, 28, 28, 28, 20, 20, 22, 37, 37, 22, 27, 23, 21, 22, 25, 24, 24, 23, 25, 21, 21, 21, 21, 19, 28, 30, 20, 23, 31, 31, 23, 24, 24, 31, 31, 30, 21, 27, 28, 27, 28, 18, 18, 31, 31, 26, 25, 33, 19, 24, 22, 31, 23, 24, 19, 23, 23, 19, 25, 19, 23, 25, 23, 25, 30, 21, 20, 31, 25, 23, 25, 23, 25, 21, 31, 18, 29, 25, 33]}],\n",
       "                        {\"margin\": {\"b\": 80, \"l\": 40, \"r\": 30, \"t\": 100}, \"paper_bgcolor\": \"rgb(224,255,246)\", \"plot_bgcolor\": \"rgb(251,251,251)\", \"showlegend\": false, \"template\": {\"data\": {\"bar\": [{\"error_x\": {\"color\": \"#2a3f5f\"}, \"error_y\": {\"color\": \"#2a3f5f\"}, \"marker\": {\"line\": {\"color\": \"#E5ECF6\", \"width\": 0.5}}, \"type\": \"bar\"}], \"barpolar\": [{\"marker\": {\"line\": {\"color\": \"#E5ECF6\", \"width\": 0.5}}, \"type\": \"barpolar\"}], \"carpet\": [{\"aaxis\": {\"endlinecolor\": \"#2a3f5f\", \"gridcolor\": \"white\", \"linecolor\": \"white\", \"minorgridcolor\": \"white\", \"startlinecolor\": \"#2a3f5f\"}, \"baxis\": {\"endlinecolor\": \"#2a3f5f\", \"gridcolor\": \"white\", \"linecolor\": \"white\", \"minorgridcolor\": \"white\", \"startlinecolor\": \"#2a3f5f\"}, \"type\": \"carpet\"}], \"choropleth\": [{\"colorbar\": {\"outlinewidth\": 0, \"ticks\": \"\"}, \"type\": \"choropleth\"}], \"contour\": [{\"colorbar\": {\"outlinewidth\": 0, \"ticks\": \"\"}, \"colorscale\": [[0.0, \"#0d0887\"], [0.1111111111111111, \"#46039f\"], [0.2222222222222222, \"#7201a8\"], [0.3333333333333333, \"#9c179e\"], [0.4444444444444444, \"#bd3786\"], [0.5555555555555556, \"#d8576b\"], [0.6666666666666666, \"#ed7953\"], [0.7777777777777778, \"#fb9f3a\"], [0.8888888888888888, \"#fdca26\"], [1.0, \"#f0f921\"]], \"type\": \"contour\"}], \"contourcarpet\": [{\"colorbar\": {\"outlinewidth\": 0, \"ticks\": \"\"}, \"type\": \"contourcarpet\"}], \"heatmap\": [{\"colorbar\": {\"outlinewidth\": 0, \"ticks\": \"\"}, \"colorscale\": [[0.0, \"#0d0887\"], [0.1111111111111111, \"#46039f\"], [0.2222222222222222, \"#7201a8\"], [0.3333333333333333, \"#9c179e\"], [0.4444444444444444, \"#bd3786\"], [0.5555555555555556, \"#d8576b\"], [0.6666666666666666, \"#ed7953\"], [0.7777777777777778, \"#fb9f3a\"], [0.8888888888888888, \"#fdca26\"], [1.0, \"#f0f921\"]], \"type\": \"heatmap\"}], \"heatmapgl\": [{\"colorbar\": {\"outlinewidth\": 0, \"ticks\": \"\"}, \"colorscale\": [[0.0, \"#0d0887\"], [0.1111111111111111, \"#46039f\"], [0.2222222222222222, \"#7201a8\"], [0.3333333333333333, \"#9c179e\"], [0.4444444444444444, \"#bd3786\"], [0.5555555555555556, \"#d8576b\"], [0.6666666666666666, \"#ed7953\"], [0.7777777777777778, \"#fb9f3a\"], [0.8888888888888888, \"#fdca26\"], [1.0, \"#f0f921\"]], \"type\": \"heatmapgl\"}], \"histogram\": [{\"marker\": {\"colorbar\": {\"outlinewidth\": 0, \"ticks\": \"\"}}, \"type\": \"histogram\"}], \"histogram2d\": [{\"colorbar\": {\"outlinewidth\": 0, \"ticks\": \"\"}, \"colorscale\": [[0.0, \"#0d0887\"], [0.1111111111111111, \"#46039f\"], [0.2222222222222222, \"#7201a8\"], [0.3333333333333333, \"#9c179e\"], [0.4444444444444444, \"#bd3786\"], [0.5555555555555556, \"#d8576b\"], [0.6666666666666666, \"#ed7953\"], [0.7777777777777778, \"#fb9f3a\"], [0.8888888888888888, \"#fdca26\"], [1.0, \"#f0f921\"]], \"type\": \"histogram2d\"}], \"histogram2dcontour\": [{\"colorbar\": {\"outlinewidth\": 0, \"ticks\": \"\"}, \"colorscale\": [[0.0, \"#0d0887\"], [0.1111111111111111, \"#46039f\"], [0.2222222222222222, \"#7201a8\"], [0.3333333333333333, \"#9c179e\"], [0.4444444444444444, \"#bd3786\"], [0.5555555555555556, \"#d8576b\"], [0.6666666666666666, \"#ed7953\"], [0.7777777777777778, \"#fb9f3a\"], [0.8888888888888888, \"#fdca26\"], [1.0, \"#f0f921\"]], \"type\": \"histogram2dcontour\"}], \"mesh3d\": [{\"colorbar\": {\"outlinewidth\": 0, \"ticks\": \"\"}, \"type\": \"mesh3d\"}], \"parcoords\": [{\"line\": {\"colorbar\": {\"outlinewidth\": 0, \"ticks\": \"\"}}, \"type\": \"parcoords\"}], \"pie\": [{\"automargin\": true, \"type\": \"pie\"}], \"scatter\": [{\"marker\": {\"colorbar\": {\"outlinewidth\": 0, \"ticks\": \"\"}}, \"type\": \"scatter\"}], \"scatter3d\": [{\"line\": {\"colorbar\": {\"outlinewidth\": 0, \"ticks\": \"\"}}, \"marker\": {\"colorbar\": {\"outlinewidth\": 0, \"ticks\": \"\"}}, \"type\": \"scatter3d\"}], \"scattercarpet\": [{\"marker\": {\"colorbar\": {\"outlinewidth\": 0, \"ticks\": \"\"}}, \"type\": \"scattercarpet\"}], \"scattergeo\": [{\"marker\": {\"colorbar\": {\"outlinewidth\": 0, \"ticks\": \"\"}}, \"type\": \"scattergeo\"}], \"scattergl\": [{\"marker\": {\"colorbar\": {\"outlinewidth\": 0, \"ticks\": \"\"}}, \"type\": \"scattergl\"}], \"scattermapbox\": [{\"marker\": {\"colorbar\": {\"outlinewidth\": 0, \"ticks\": \"\"}}, \"type\": \"scattermapbox\"}], \"scatterpolar\": [{\"marker\": {\"colorbar\": {\"outlinewidth\": 0, \"ticks\": \"\"}}, \"type\": \"scatterpolar\"}], \"scatterpolargl\": [{\"marker\": {\"colorbar\": {\"outlinewidth\": 0, \"ticks\": \"\"}}, \"type\": \"scatterpolargl\"}], \"scatterternary\": [{\"marker\": {\"colorbar\": {\"outlinewidth\": 0, \"ticks\": \"\"}}, \"type\": \"scatterternary\"}], \"surface\": [{\"colorbar\": {\"outlinewidth\": 0, \"ticks\": \"\"}, \"colorscale\": [[0.0, \"#0d0887\"], [0.1111111111111111, \"#46039f\"], [0.2222222222222222, \"#7201a8\"], [0.3333333333333333, \"#9c179e\"], [0.4444444444444444, \"#bd3786\"], [0.5555555555555556, \"#d8576b\"], [0.6666666666666666, \"#ed7953\"], [0.7777777777777778, \"#fb9f3a\"], [0.8888888888888888, \"#fdca26\"], [1.0, \"#f0f921\"]], \"type\": \"surface\"}], \"table\": [{\"cells\": {\"fill\": {\"color\": \"#EBF0F8\"}, \"line\": {\"color\": \"white\"}}, \"header\": {\"fill\": {\"color\": \"#C8D4E3\"}, \"line\": {\"color\": \"white\"}}, \"type\": \"table\"}]}, \"layout\": {\"annotationdefaults\": {\"arrowcolor\": \"#2a3f5f\", \"arrowhead\": 0, \"arrowwidth\": 1}, \"coloraxis\": {\"colorbar\": {\"outlinewidth\": 0, \"ticks\": \"\"}}, \"colorscale\": {\"diverging\": [[0, \"#8e0152\"], [0.1, \"#c51b7d\"], [0.2, \"#de77ae\"], [0.3, \"#f1b6da\"], [0.4, \"#fde0ef\"], [0.5, \"#f7f7f7\"], [0.6, \"#e6f5d0\"], [0.7, \"#b8e186\"], [0.8, \"#7fbc41\"], [0.9, \"#4d9221\"], [1, \"#276419\"]], \"sequential\": [[0.0, \"#0d0887\"], [0.1111111111111111, \"#46039f\"], [0.2222222222222222, \"#7201a8\"], [0.3333333333333333, \"#9c179e\"], [0.4444444444444444, \"#bd3786\"], [0.5555555555555556, \"#d8576b\"], [0.6666666666666666, \"#ed7953\"], [0.7777777777777778, \"#fb9f3a\"], [0.8888888888888888, \"#fdca26\"], [1.0, \"#f0f921\"]], \"sequentialminus\": [[0.0, \"#0d0887\"], [0.1111111111111111, \"#46039f\"], [0.2222222222222222, \"#7201a8\"], [0.3333333333333333, \"#9c179e\"], [0.4444444444444444, \"#bd3786\"], [0.5555555555555556, \"#d8576b\"], [0.6666666666666666, \"#ed7953\"], [0.7777777777777778, \"#fb9f3a\"], [0.8888888888888888, \"#fdca26\"], [1.0, \"#f0f921\"]]}, \"colorway\": [\"#636efa\", \"#EF553B\", \"#00cc96\", \"#ab63fa\", \"#FFA15A\", \"#19d3f3\", \"#FF6692\", \"#B6E880\", \"#FF97FF\", \"#FECB52\"], \"font\": {\"color\": \"#2a3f5f\"}, \"geo\": {\"bgcolor\": \"white\", \"lakecolor\": \"white\", \"landcolor\": \"#E5ECF6\", \"showlakes\": true, \"showland\": true, \"subunitcolor\": \"white\"}, \"hoverlabel\": {\"align\": \"left\"}, \"hovermode\": \"closest\", \"mapbox\": {\"style\": \"light\"}, \"paper_bgcolor\": \"white\", \"plot_bgcolor\": \"#E5ECF6\", \"polar\": {\"angularaxis\": {\"gridcolor\": \"white\", \"linecolor\": \"white\", \"ticks\": \"\"}, \"bgcolor\": \"#E5ECF6\", \"radialaxis\": {\"gridcolor\": \"white\", \"linecolor\": \"white\", \"ticks\": \"\"}}, \"scene\": {\"xaxis\": {\"backgroundcolor\": \"#E5ECF6\", \"gridcolor\": \"white\", \"gridwidth\": 2, \"linecolor\": \"white\", \"showbackground\": true, \"ticks\": \"\", \"zerolinecolor\": \"white\"}, \"yaxis\": {\"backgroundcolor\": \"#E5ECF6\", \"gridcolor\": \"white\", \"gridwidth\": 2, \"linecolor\": \"white\", \"showbackground\": true, \"ticks\": \"\", \"zerolinecolor\": \"white\"}, \"zaxis\": {\"backgroundcolor\": \"#E5ECF6\", \"gridcolor\": \"white\", \"gridwidth\": 2, \"linecolor\": \"white\", \"showbackground\": true, \"ticks\": \"\", \"zerolinecolor\": \"white\"}}, \"shapedefaults\": {\"line\": {\"color\": \"#2a3f5f\"}}, \"ternary\": {\"aaxis\": {\"gridcolor\": \"white\", \"linecolor\": \"white\", \"ticks\": \"\"}, \"baxis\": {\"gridcolor\": \"white\", \"linecolor\": \"white\", \"ticks\": \"\"}, \"bgcolor\": \"#E5ECF6\", \"caxis\": {\"gridcolor\": \"white\", \"linecolor\": \"white\", \"ticks\": \"\"}}, \"title\": {\"x\": 0.05}, \"xaxis\": {\"automargin\": true, \"gridcolor\": \"white\", \"linecolor\": \"white\", \"ticks\": \"\", \"title\": {\"standoff\": 15}, \"zerolinecolor\": \"white\", \"zerolinewidth\": 2}, \"yaxis\": {\"automargin\": true, \"gridcolor\": \"white\", \"linecolor\": \"white\", \"ticks\": \"\", \"title\": {\"standoff\": 15}, \"zerolinecolor\": \"white\", \"zerolinewidth\": 2}}}, \"title\": {\"text\": \"Distribution of Ages by Occupation\"}, \"yaxis\": {\"autorange\": true, \"dtick\": 5, \"gridcolor\": \"rgb(255, 255, 255)\", \"gridwidth\": 1, \"showgrid\": true, \"zeroline\": true, \"zerolinecolor\": \"rgb(255, 255, 255)\", \"zerolinewidth\": 2}},\n",
       "                        {\"responsive\": true}\n",
       "                    ).then(function(){\n",
       "                            \n",
       "var gd = document.getElementById('f498b8e5-a06e-4f4a-bee7-1ae8e629ee88');\n",
       "var x = new MutationObserver(function (mutations, observer) {{\n",
       "        var display = window.getComputedStyle(gd).display;\n",
       "        if (!display || display === 'none') {{\n",
       "            console.log([gd, 'removed!']);\n",
       "            Plotly.purge(gd);\n",
       "            observer.disconnect();\n",
       "        }}\n",
       "}});\n",
       "\n",
       "// Listen for the removal of the full notebook cells\n",
       "var notebookContainer = gd.closest('#notebook-container');\n",
       "if (notebookContainer) {{\n",
       "    x.observe(notebookContainer, {childList: true});\n",
       "}}\n",
       "\n",
       "// Listen for the clearing of the current output cell\n",
       "var outputEl = gd.closest('.output');\n",
       "if (outputEl) {{\n",
       "    x.observe(outputEl, {childList: true});\n",
       "}}\n",
       "\n",
       "                        })\n",
       "                };\n",
       "                });\n",
       "            </script>\n",
       "        </div>"
      ]
     },
     "metadata": {},
     "output_type": "display_data"
    }
   ],
   "source": [
    "# Now let's see which occupation tended to have more Balance in their accounts\n",
    "suscribed_df = df.loc[df[\"y\"] == \"yes\"]\n",
    "\n",
    "occupations = df[\"job\"].unique().tolist()\n",
    "\n",
    "# Get the balances by jobs\n",
    "management = suscribed_df[\"age\"].loc[suscribed_df[\"job\"] == \"management\"].values\n",
    "technician = suscribed_df[\"age\"].loc[suscribed_df[\"job\"] == \"technician\"].values\n",
    "services = suscribed_df[\"age\"].loc[suscribed_df[\"job\"] == \"services\"].values\n",
    "retired = suscribed_df[\"age\"].loc[suscribed_df[\"job\"] == \"retired\"].values\n",
    "blue_collar = suscribed_df[\"age\"].loc[suscribed_df[\"job\"] == \"blue-collar\"].values\n",
    "unemployed = suscribed_df[\"age\"].loc[suscribed_df[\"job\"] == \"unemployed\"].values\n",
    "entrepreneur = suscribed_df[\"age\"].loc[suscribed_df[\"job\"] == \"entrepreneur\"].values\n",
    "housemaid = suscribed_df[\"age\"].loc[suscribed_df[\"job\"] == \"housemaid\"].values\n",
    "self_employed = suscribed_df[\"age\"].loc[suscribed_df[\"job\"] == \"self-employed\"].values\n",
    "student = suscribed_df[\"age\"].loc[suscribed_df[\"job\"] == \"student\"].values\n",
    "\n",
    "\n",
    "ages = [management, technician, services, retired, blue_collar, unemployed, \n",
    "         entrepreneur, housemaid, self_employed, student]\n",
    "\n",
    "colors = ['rgba(93, 164, 214, 0.5)', 'rgba(255, 144, 14, 0.5)',\n",
    "          'rgba(44, 160, 101, 0.5)', 'rgba(255, 65, 54, 0.5)', \n",
    "          'rgba(207, 114, 255, 0.5)', 'rgba(127, 96, 0, 0.5)',\n",
    "         'rgba(229, 126, 56, 0.5)', 'rgba(229, 56, 56, 0.5)',\n",
    "         'rgba(174, 229, 56, 0.5)', 'rgba(229, 56, 56, 0.5)']\n",
    "\n",
    "traces = []\n",
    "\n",
    "for xd, yd, cls in zip(occupations, ages, colors):\n",
    "        traces.append(go.Box(\n",
    "            y=yd,\n",
    "            name=xd,\n",
    "            boxpoints='all',\n",
    "            jitter=0.5,\n",
    "            whiskerwidth=0.2,\n",
    "            fillcolor=cls,\n",
    "            marker=dict(\n",
    "                size=2,\n",
    "            ),\n",
    "            line=dict(width=1),\n",
    "        ))\n",
    "\n",
    "layout = go.Layout(\n",
    "    title='Distribution of Ages by Occupation',\n",
    "    yaxis=dict(\n",
    "        autorange=True,\n",
    "        showgrid=True,\n",
    "        zeroline=True,\n",
    "        dtick=5,\n",
    "        gridcolor='rgb(255, 255, 255)',\n",
    "        gridwidth=1,\n",
    "        zerolinecolor='rgb(255, 255, 255)',\n",
    "        zerolinewidth=2,\n",
    "    ),\n",
    "    margin=dict(\n",
    "        l=40,\n",
    "        r=30,\n",
    "        b=80,\n",
    "        t=100,\n",
    "    ),\n",
    "    paper_bgcolor='rgb(224,255,246)',\n",
    "    plot_bgcolor='rgb(251,251,251)',\n",
    "    showlegend=False\n",
    ")\n",
    "\n",
    "fig = go.Figure(data=traces, layout=layout)\n",
    "iplot(fig)"
   ]
  },
  {
   "cell_type": "code",
   "execution_count": 47,
   "metadata": {},
   "outputs": [
    {
     "data": {
      "text/plain": [
       "array([46744.106, 46738.235, 46737.882, 46744.956, 46740.302, 46739.3  ,\n",
       "       46735.844, 46731.657, 46734.325, 46735.407, 46740.737, 46748.431,\n",
       "       46750.899, 46752.321, 46755.169, 46751.751, 46748.787, 46746.331,\n",
       "       46746.151, 46740.624, 46740.645, 46739.985, 46742.173, 46742.801,\n",
       "       46730.399, 46728.933])"
      ]
     },
     "execution_count": 47,
     "metadata": {},
     "output_type": "execute_result"
    }
   ],
   "source": [
    "df.balance.unique()"
   ]
  },
  {
   "cell_type": "code",
   "execution_count": 48,
   "metadata": {},
   "outputs": [
    {
     "data": {
      "text/plain": [
       "count    41188.000000\n",
       "mean     46740.421735\n",
       "std          4.630251\n",
       "min      46728.933000\n",
       "25%      46737.882000\n",
       "50%      46739.300000\n",
       "75%      46744.106000\n",
       "max      46755.169000\n",
       "Name: balance, dtype: float64"
      ]
     },
     "execution_count": 48,
     "metadata": {},
     "output_type": "execute_result"
    }
   ],
   "source": [
    "df.balance.describe()"
   ]
  },
  {
   "cell_type": "code",
   "execution_count": 49,
   "metadata": {},
   "outputs": [
    {
     "data": {
      "application/vnd.plotly.v1+json": {
       "config": {
        "linkText": "Export to plot.ly",
        "plotlyServerURL": "https://plot.ly",
        "showLink": false
       },
       "data": [
        {
         "marker": {
          "color": "rgb(246, 46, 46)"
         },
         "name": "Negative Balance",
         "r": [
          -199,
          -392,
          -209,
          -247,
          -233,
          -270,
          -271,
          0,
          -276,
          -134.5
         ],
         "text": [
          "blue-collar",
          "entrepreneur",
          "housemaid",
          "management",
          "retired",
          "self-employed",
          "services",
          "student",
          "technician",
          "unemployed"
         ],
         "type": "barpolar"
        },
        {
         "marker": {
          "color": "rgb(246, 97, 46)"
         },
         "name": "Low Balance",
         "r": [
          319.5,
          283,
          212,
          313,
          409,
          274.5,
          308.5,
          253,
          316,
          330
         ],
         "text": [
          "blue-collar",
          "entrepreneur",
          "housemaid",
          "management",
          "retired",
          "self-employed",
          "services",
          "student",
          "technician",
          "unemployed"
         ],
         "type": "barpolar"
        },
        {
         "marker": {
          "color": "rgb(246, 179, 46)"
         },
         "name": "Middle Balance",
         "r": [
          2128.5,
          2686,
          2290,
          2366,
          2579,
          2293.5,
          2005.5,
          2488,
          2362,
          1976
         ],
         "text": [
          "blue-collar",
          "entrepreneur",
          "housemaid",
          "management",
          "retired",
          "self-employed",
          "services",
          "student",
          "technician",
          "unemployed"
         ],
         "type": "barpolar"
        },
        {
         "marker": {
          "color": "rgb(46, 246, 78)"
         },
         "name": "High Balance",
         "r": [
          14247.5,
          20138.5,
          12278.5,
          12956,
          20723,
          12159,
          12223,
          13107,
          12063,
          15107.5
         ],
         "text": [
          "blue-collar",
          "entrepreneur",
          "housemaid",
          "management",
          "retired",
          "self-employed",
          "services",
          "student",
          "technician",
          "unemployed"
         ],
         "type": "barpolar"
        }
       ],
       "layout": {
        "font": {
         "size": 12
        },
        "legend": {
         "font": {
          "size": 16
         }
        },
        "orientation": -90,
        "radialaxis": {
         "ticksuffix": "%"
        },
        "template": {
         "data": {
          "bar": [
           {
            "error_x": {
             "color": "#2a3f5f"
            },
            "error_y": {
             "color": "#2a3f5f"
            },
            "marker": {
             "line": {
              "color": "#E5ECF6",
              "width": 0.5
             }
            },
            "type": "bar"
           }
          ],
          "barpolar": [
           {
            "marker": {
             "line": {
              "color": "#E5ECF6",
              "width": 0.5
             }
            },
            "type": "barpolar"
           }
          ],
          "carpet": [
           {
            "aaxis": {
             "endlinecolor": "#2a3f5f",
             "gridcolor": "white",
             "linecolor": "white",
             "minorgridcolor": "white",
             "startlinecolor": "#2a3f5f"
            },
            "baxis": {
             "endlinecolor": "#2a3f5f",
             "gridcolor": "white",
             "linecolor": "white",
             "minorgridcolor": "white",
             "startlinecolor": "#2a3f5f"
            },
            "type": "carpet"
           }
          ],
          "choropleth": [
           {
            "colorbar": {
             "outlinewidth": 0,
             "ticks": ""
            },
            "type": "choropleth"
           }
          ],
          "contour": [
           {
            "colorbar": {
             "outlinewidth": 0,
             "ticks": ""
            },
            "colorscale": [
             [
              0,
              "#0d0887"
             ],
             [
              0.1111111111111111,
              "#46039f"
             ],
             [
              0.2222222222222222,
              "#7201a8"
             ],
             [
              0.3333333333333333,
              "#9c179e"
             ],
             [
              0.4444444444444444,
              "#bd3786"
             ],
             [
              0.5555555555555556,
              "#d8576b"
             ],
             [
              0.6666666666666666,
              "#ed7953"
             ],
             [
              0.7777777777777778,
              "#fb9f3a"
             ],
             [
              0.8888888888888888,
              "#fdca26"
             ],
             [
              1,
              "#f0f921"
             ]
            ],
            "type": "contour"
           }
          ],
          "contourcarpet": [
           {
            "colorbar": {
             "outlinewidth": 0,
             "ticks": ""
            },
            "type": "contourcarpet"
           }
          ],
          "heatmap": [
           {
            "colorbar": {
             "outlinewidth": 0,
             "ticks": ""
            },
            "colorscale": [
             [
              0,
              "#0d0887"
             ],
             [
              0.1111111111111111,
              "#46039f"
             ],
             [
              0.2222222222222222,
              "#7201a8"
             ],
             [
              0.3333333333333333,
              "#9c179e"
             ],
             [
              0.4444444444444444,
              "#bd3786"
             ],
             [
              0.5555555555555556,
              "#d8576b"
             ],
             [
              0.6666666666666666,
              "#ed7953"
             ],
             [
              0.7777777777777778,
              "#fb9f3a"
             ],
             [
              0.8888888888888888,
              "#fdca26"
             ],
             [
              1,
              "#f0f921"
             ]
            ],
            "type": "heatmap"
           }
          ],
          "heatmapgl": [
           {
            "colorbar": {
             "outlinewidth": 0,
             "ticks": ""
            },
            "colorscale": [
             [
              0,
              "#0d0887"
             ],
             [
              0.1111111111111111,
              "#46039f"
             ],
             [
              0.2222222222222222,
              "#7201a8"
             ],
             [
              0.3333333333333333,
              "#9c179e"
             ],
             [
              0.4444444444444444,
              "#bd3786"
             ],
             [
              0.5555555555555556,
              "#d8576b"
             ],
             [
              0.6666666666666666,
              "#ed7953"
             ],
             [
              0.7777777777777778,
              "#fb9f3a"
             ],
             [
              0.8888888888888888,
              "#fdca26"
             ],
             [
              1,
              "#f0f921"
             ]
            ],
            "type": "heatmapgl"
           }
          ],
          "histogram": [
           {
            "marker": {
             "colorbar": {
              "outlinewidth": 0,
              "ticks": ""
             }
            },
            "type": "histogram"
           }
          ],
          "histogram2d": [
           {
            "colorbar": {
             "outlinewidth": 0,
             "ticks": ""
            },
            "colorscale": [
             [
              0,
              "#0d0887"
             ],
             [
              0.1111111111111111,
              "#46039f"
             ],
             [
              0.2222222222222222,
              "#7201a8"
             ],
             [
              0.3333333333333333,
              "#9c179e"
             ],
             [
              0.4444444444444444,
              "#bd3786"
             ],
             [
              0.5555555555555556,
              "#d8576b"
             ],
             [
              0.6666666666666666,
              "#ed7953"
             ],
             [
              0.7777777777777778,
              "#fb9f3a"
             ],
             [
              0.8888888888888888,
              "#fdca26"
             ],
             [
              1,
              "#f0f921"
             ]
            ],
            "type": "histogram2d"
           }
          ],
          "histogram2dcontour": [
           {
            "colorbar": {
             "outlinewidth": 0,
             "ticks": ""
            },
            "colorscale": [
             [
              0,
              "#0d0887"
             ],
             [
              0.1111111111111111,
              "#46039f"
             ],
             [
              0.2222222222222222,
              "#7201a8"
             ],
             [
              0.3333333333333333,
              "#9c179e"
             ],
             [
              0.4444444444444444,
              "#bd3786"
             ],
             [
              0.5555555555555556,
              "#d8576b"
             ],
             [
              0.6666666666666666,
              "#ed7953"
             ],
             [
              0.7777777777777778,
              "#fb9f3a"
             ],
             [
              0.8888888888888888,
              "#fdca26"
             ],
             [
              1,
              "#f0f921"
             ]
            ],
            "type": "histogram2dcontour"
           }
          ],
          "mesh3d": [
           {
            "colorbar": {
             "outlinewidth": 0,
             "ticks": ""
            },
            "type": "mesh3d"
           }
          ],
          "parcoords": [
           {
            "line": {
             "colorbar": {
              "outlinewidth": 0,
              "ticks": ""
             }
            },
            "type": "parcoords"
           }
          ],
          "pie": [
           {
            "automargin": true,
            "type": "pie"
           }
          ],
          "scatter": [
           {
            "marker": {
             "colorbar": {
              "outlinewidth": 0,
              "ticks": ""
             }
            },
            "type": "scatter"
           }
          ],
          "scatter3d": [
           {
            "line": {
             "colorbar": {
              "outlinewidth": 0,
              "ticks": ""
             }
            },
            "marker": {
             "colorbar": {
              "outlinewidth": 0,
              "ticks": ""
             }
            },
            "type": "scatter3d"
           }
          ],
          "scattercarpet": [
           {
            "marker": {
             "colorbar": {
              "outlinewidth": 0,
              "ticks": ""
             }
            },
            "type": "scattercarpet"
           }
          ],
          "scattergeo": [
           {
            "marker": {
             "colorbar": {
              "outlinewidth": 0,
              "ticks": ""
             }
            },
            "type": "scattergeo"
           }
          ],
          "scattergl": [
           {
            "marker": {
             "colorbar": {
              "outlinewidth": 0,
              "ticks": ""
             }
            },
            "type": "scattergl"
           }
          ],
          "scattermapbox": [
           {
            "marker": {
             "colorbar": {
              "outlinewidth": 0,
              "ticks": ""
             }
            },
            "type": "scattermapbox"
           }
          ],
          "scatterpolar": [
           {
            "marker": {
             "colorbar": {
              "outlinewidth": 0,
              "ticks": ""
             }
            },
            "type": "scatterpolar"
           }
          ],
          "scatterpolargl": [
           {
            "marker": {
             "colorbar": {
              "outlinewidth": 0,
              "ticks": ""
             }
            },
            "type": "scatterpolargl"
           }
          ],
          "scatterternary": [
           {
            "marker": {
             "colorbar": {
              "outlinewidth": 0,
              "ticks": ""
             }
            },
            "type": "scatterternary"
           }
          ],
          "surface": [
           {
            "colorbar": {
             "outlinewidth": 0,
             "ticks": ""
            },
            "colorscale": [
             [
              0,
              "#0d0887"
             ],
             [
              0.1111111111111111,
              "#46039f"
             ],
             [
              0.2222222222222222,
              "#7201a8"
             ],
             [
              0.3333333333333333,
              "#9c179e"
             ],
             [
              0.4444444444444444,
              "#bd3786"
             ],
             [
              0.5555555555555556,
              "#d8576b"
             ],
             [
              0.6666666666666666,
              "#ed7953"
             ],
             [
              0.7777777777777778,
              "#fb9f3a"
             ],
             [
              0.8888888888888888,
              "#fdca26"
             ],
             [
              1,
              "#f0f921"
             ]
            ],
            "type": "surface"
           }
          ],
          "table": [
           {
            "cells": {
             "fill": {
              "color": "#EBF0F8"
             },
             "line": {
              "color": "white"
             }
            },
            "header": {
             "fill": {
              "color": "#C8D4E3"
             },
             "line": {
              "color": "white"
             }
            },
            "type": "table"
           }
          ]
         },
         "layout": {
          "annotationdefaults": {
           "arrowcolor": "#2a3f5f",
           "arrowhead": 0,
           "arrowwidth": 1
          },
          "coloraxis": {
           "colorbar": {
            "outlinewidth": 0,
            "ticks": ""
           }
          },
          "colorscale": {
           "diverging": [
            [
             0,
             "#8e0152"
            ],
            [
             0.1,
             "#c51b7d"
            ],
            [
             0.2,
             "#de77ae"
            ],
            [
             0.3,
             "#f1b6da"
            ],
            [
             0.4,
             "#fde0ef"
            ],
            [
             0.5,
             "#f7f7f7"
            ],
            [
             0.6,
             "#e6f5d0"
            ],
            [
             0.7,
             "#b8e186"
            ],
            [
             0.8,
             "#7fbc41"
            ],
            [
             0.9,
             "#4d9221"
            ],
            [
             1,
             "#276419"
            ]
           ],
           "sequential": [
            [
             0,
             "#0d0887"
            ],
            [
             0.1111111111111111,
             "#46039f"
            ],
            [
             0.2222222222222222,
             "#7201a8"
            ],
            [
             0.3333333333333333,
             "#9c179e"
            ],
            [
             0.4444444444444444,
             "#bd3786"
            ],
            [
             0.5555555555555556,
             "#d8576b"
            ],
            [
             0.6666666666666666,
             "#ed7953"
            ],
            [
             0.7777777777777778,
             "#fb9f3a"
            ],
            [
             0.8888888888888888,
             "#fdca26"
            ],
            [
             1,
             "#f0f921"
            ]
           ],
           "sequentialminus": [
            [
             0,
             "#0d0887"
            ],
            [
             0.1111111111111111,
             "#46039f"
            ],
            [
             0.2222222222222222,
             "#7201a8"
            ],
            [
             0.3333333333333333,
             "#9c179e"
            ],
            [
             0.4444444444444444,
             "#bd3786"
            ],
            [
             0.5555555555555556,
             "#d8576b"
            ],
            [
             0.6666666666666666,
             "#ed7953"
            ],
            [
             0.7777777777777778,
             "#fb9f3a"
            ],
            [
             0.8888888888888888,
             "#fdca26"
            ],
            [
             1,
             "#f0f921"
            ]
           ]
          },
          "colorway": [
           "#636efa",
           "#EF553B",
           "#00cc96",
           "#ab63fa",
           "#FFA15A",
           "#19d3f3",
           "#FF6692",
           "#B6E880",
           "#FF97FF",
           "#FECB52"
          ],
          "font": {
           "color": "#2a3f5f"
          },
          "geo": {
           "bgcolor": "white",
           "lakecolor": "white",
           "landcolor": "#E5ECF6",
           "showlakes": true,
           "showland": true,
           "subunitcolor": "white"
          },
          "hoverlabel": {
           "align": "left"
          },
          "hovermode": "closest",
          "mapbox": {
           "style": "light"
          },
          "paper_bgcolor": "white",
          "plot_bgcolor": "#E5ECF6",
          "polar": {
           "angularaxis": {
            "gridcolor": "white",
            "linecolor": "white",
            "ticks": ""
           },
           "bgcolor": "#E5ECF6",
           "radialaxis": {
            "gridcolor": "white",
            "linecolor": "white",
            "ticks": ""
           }
          },
          "scene": {
           "xaxis": {
            "backgroundcolor": "#E5ECF6",
            "gridcolor": "white",
            "gridwidth": 2,
            "linecolor": "white",
            "showbackground": true,
            "ticks": "",
            "zerolinecolor": "white"
           },
           "yaxis": {
            "backgroundcolor": "#E5ECF6",
            "gridcolor": "white",
            "gridwidth": 2,
            "linecolor": "white",
            "showbackground": true,
            "ticks": "",
            "zerolinecolor": "white"
           },
           "zaxis": {
            "backgroundcolor": "#E5ECF6",
            "gridcolor": "white",
            "gridwidth": 2,
            "linecolor": "white",
            "showbackground": true,
            "ticks": "",
            "zerolinecolor": "white"
           }
          },
          "shapedefaults": {
           "line": {
            "color": "#2a3f5f"
           }
          },
          "ternary": {
           "aaxis": {
            "gridcolor": "white",
            "linecolor": "white",
            "ticks": ""
           },
           "baxis": {
            "gridcolor": "white",
            "linecolor": "white",
            "ticks": ""
           },
           "bgcolor": "#E5ECF6",
           "caxis": {
            "gridcolor": "white",
            "linecolor": "white",
            "ticks": ""
           }
          },
          "title": {
           "x": 0.05
          },
          "xaxis": {
           "automargin": true,
           "gridcolor": "white",
           "linecolor": "white",
           "ticks": "",
           "title": {
            "standoff": 15
           },
           "zerolinecolor": "white",
           "zerolinewidth": 2
          },
          "yaxis": {
           "automargin": true,
           "gridcolor": "white",
           "linecolor": "white",
           "ticks": "",
           "title": {
            "standoff": 15
           },
           "zerolinecolor": "white",
           "zerolinewidth": 2
          }
         }
        },
        "title": {
         "text": "Mean Balance in Account<br> <i> by Job Occupation</i>"
        }
       }
      },
      "text/html": [
       "<div>\n",
       "        \n",
       "        \n",
       "            <div id=\"27c881f2-fbde-48c1-a6ff-28019945f051\" class=\"plotly-graph-div\" style=\"height:525px; width:100%;\"></div>\n",
       "            <script type=\"text/javascript\">\n",
       "                require([\"plotly\"], function(Plotly) {\n",
       "                    window.PLOTLYENV=window.PLOTLYENV || {};\n",
       "                    \n",
       "                if (document.getElementById(\"27c881f2-fbde-48c1-a6ff-28019945f051\")) {\n",
       "                    Plotly.newPlot(\n",
       "                        '27c881f2-fbde-48c1-a6ff-28019945f051',\n",
       "                        [{\"marker\": {\"color\": \"rgb(246, 46, 46)\"}, \"name\": \"Negative Balance\", \"r\": [-199.0, -392.0, -209.0, -247.0, -233.0, -270.0, -271.0, 0, -276.0, -134.5], \"text\": [\"blue-collar\", \"entrepreneur\", \"housemaid\", \"management\", \"retired\", \"self-employed\", \"services\", \"student\", \"technician\", \"unemployed\"], \"type\": \"barpolar\"}, {\"marker\": {\"color\": \"rgb(246, 97, 46)\"}, \"name\": \"Low Balance\", \"r\": [319.5, 283.0, 212.0, 313.0, 409.0, 274.5, 308.5, 253.0, 316.0, 330.0], \"text\": [\"blue-collar\", \"entrepreneur\", \"housemaid\", \"management\", \"retired\", \"self-employed\", \"services\", \"student\", \"technician\", \"unemployed\"], \"type\": \"barpolar\"}, {\"marker\": {\"color\": \"rgb(246, 179, 46)\"}, \"name\": \"Middle Balance\", \"r\": [2128.5, 2686.0, 2290.0, 2366.0, 2579.0, 2293.5, 2005.5, 2488.0, 2362.0, 1976.0], \"text\": [\"blue-collar\", \"entrepreneur\", \"housemaid\", \"management\", \"retired\", \"self-employed\", \"services\", \"student\", \"technician\", \"unemployed\"], \"type\": \"barpolar\"}, {\"marker\": {\"color\": \"rgb(46, 246, 78)\"}, \"name\": \"High Balance\", \"r\": [14247.5, 20138.5, 12278.5, 12956.0, 20723.0, 12159.0, 12223.0, 13107.0, 12063.0, 15107.5], \"text\": [\"blue-collar\", \"entrepreneur\", \"housemaid\", \"management\", \"retired\", \"self-employed\", \"services\", \"student\", \"technician\", \"unemployed\"], \"type\": \"barpolar\"}],\n",
       "                        {\"font\": {\"size\": 12}, \"legend\": {\"font\": {\"size\": 16}}, \"orientation\": -90, \"radialaxis\": {\"ticksuffix\": \"%\"}, \"template\": {\"data\": {\"bar\": [{\"error_x\": {\"color\": \"#2a3f5f\"}, \"error_y\": {\"color\": \"#2a3f5f\"}, \"marker\": {\"line\": {\"color\": \"#E5ECF6\", \"width\": 0.5}}, \"type\": \"bar\"}], \"barpolar\": [{\"marker\": {\"line\": {\"color\": \"#E5ECF6\", \"width\": 0.5}}, \"type\": \"barpolar\"}], \"carpet\": [{\"aaxis\": {\"endlinecolor\": \"#2a3f5f\", \"gridcolor\": \"white\", \"linecolor\": \"white\", \"minorgridcolor\": \"white\", \"startlinecolor\": \"#2a3f5f\"}, \"baxis\": {\"endlinecolor\": \"#2a3f5f\", \"gridcolor\": \"white\", \"linecolor\": \"white\", \"minorgridcolor\": \"white\", \"startlinecolor\": \"#2a3f5f\"}, \"type\": \"carpet\"}], \"choropleth\": [{\"colorbar\": {\"outlinewidth\": 0, \"ticks\": \"\"}, \"type\": \"choropleth\"}], \"contour\": [{\"colorbar\": {\"outlinewidth\": 0, \"ticks\": \"\"}, \"colorscale\": [[0.0, \"#0d0887\"], [0.1111111111111111, \"#46039f\"], [0.2222222222222222, \"#7201a8\"], [0.3333333333333333, \"#9c179e\"], [0.4444444444444444, \"#bd3786\"], [0.5555555555555556, \"#d8576b\"], [0.6666666666666666, \"#ed7953\"], [0.7777777777777778, \"#fb9f3a\"], [0.8888888888888888, \"#fdca26\"], [1.0, \"#f0f921\"]], \"type\": \"contour\"}], \"contourcarpet\": [{\"colorbar\": {\"outlinewidth\": 0, \"ticks\": \"\"}, \"type\": \"contourcarpet\"}], \"heatmap\": [{\"colorbar\": {\"outlinewidth\": 0, \"ticks\": \"\"}, \"colorscale\": [[0.0, \"#0d0887\"], [0.1111111111111111, \"#46039f\"], [0.2222222222222222, \"#7201a8\"], [0.3333333333333333, \"#9c179e\"], [0.4444444444444444, \"#bd3786\"], [0.5555555555555556, \"#d8576b\"], [0.6666666666666666, \"#ed7953\"], [0.7777777777777778, \"#fb9f3a\"], [0.8888888888888888, \"#fdca26\"], [1.0, \"#f0f921\"]], \"type\": \"heatmap\"}], \"heatmapgl\": [{\"colorbar\": {\"outlinewidth\": 0, \"ticks\": \"\"}, \"colorscale\": [[0.0, \"#0d0887\"], [0.1111111111111111, \"#46039f\"], [0.2222222222222222, \"#7201a8\"], [0.3333333333333333, \"#9c179e\"], [0.4444444444444444, \"#bd3786\"], [0.5555555555555556, \"#d8576b\"], [0.6666666666666666, \"#ed7953\"], [0.7777777777777778, \"#fb9f3a\"], [0.8888888888888888, \"#fdca26\"], [1.0, \"#f0f921\"]], \"type\": \"heatmapgl\"}], \"histogram\": [{\"marker\": {\"colorbar\": {\"outlinewidth\": 0, \"ticks\": \"\"}}, \"type\": \"histogram\"}], \"histogram2d\": [{\"colorbar\": {\"outlinewidth\": 0, \"ticks\": \"\"}, \"colorscale\": [[0.0, \"#0d0887\"], [0.1111111111111111, \"#46039f\"], [0.2222222222222222, \"#7201a8\"], [0.3333333333333333, \"#9c179e\"], [0.4444444444444444, \"#bd3786\"], [0.5555555555555556, \"#d8576b\"], [0.6666666666666666, \"#ed7953\"], [0.7777777777777778, \"#fb9f3a\"], [0.8888888888888888, \"#fdca26\"], [1.0, \"#f0f921\"]], \"type\": \"histogram2d\"}], \"histogram2dcontour\": [{\"colorbar\": {\"outlinewidth\": 0, \"ticks\": \"\"}, \"colorscale\": [[0.0, \"#0d0887\"], [0.1111111111111111, \"#46039f\"], [0.2222222222222222, \"#7201a8\"], [0.3333333333333333, \"#9c179e\"], [0.4444444444444444, \"#bd3786\"], [0.5555555555555556, \"#d8576b\"], [0.6666666666666666, \"#ed7953\"], [0.7777777777777778, \"#fb9f3a\"], [0.8888888888888888, \"#fdca26\"], [1.0, \"#f0f921\"]], \"type\": \"histogram2dcontour\"}], \"mesh3d\": [{\"colorbar\": {\"outlinewidth\": 0, \"ticks\": \"\"}, \"type\": \"mesh3d\"}], \"parcoords\": [{\"line\": {\"colorbar\": {\"outlinewidth\": 0, \"ticks\": \"\"}}, \"type\": \"parcoords\"}], \"pie\": [{\"automargin\": true, \"type\": \"pie\"}], \"scatter\": [{\"marker\": {\"colorbar\": {\"outlinewidth\": 0, \"ticks\": \"\"}}, \"type\": \"scatter\"}], \"scatter3d\": [{\"line\": {\"colorbar\": {\"outlinewidth\": 0, \"ticks\": \"\"}}, \"marker\": {\"colorbar\": {\"outlinewidth\": 0, \"ticks\": \"\"}}, \"type\": \"scatter3d\"}], \"scattercarpet\": [{\"marker\": {\"colorbar\": {\"outlinewidth\": 0, \"ticks\": \"\"}}, \"type\": \"scattercarpet\"}], \"scattergeo\": [{\"marker\": {\"colorbar\": {\"outlinewidth\": 0, \"ticks\": \"\"}}, \"type\": \"scattergeo\"}], \"scattergl\": [{\"marker\": {\"colorbar\": {\"outlinewidth\": 0, \"ticks\": \"\"}}, \"type\": \"scattergl\"}], \"scattermapbox\": [{\"marker\": {\"colorbar\": {\"outlinewidth\": 0, \"ticks\": \"\"}}, \"type\": \"scattermapbox\"}], \"scatterpolar\": [{\"marker\": {\"colorbar\": {\"outlinewidth\": 0, \"ticks\": \"\"}}, \"type\": \"scatterpolar\"}], \"scatterpolargl\": [{\"marker\": {\"colorbar\": {\"outlinewidth\": 0, \"ticks\": \"\"}}, \"type\": \"scatterpolargl\"}], \"scatterternary\": [{\"marker\": {\"colorbar\": {\"outlinewidth\": 0, \"ticks\": \"\"}}, \"type\": \"scatterternary\"}], \"surface\": [{\"colorbar\": {\"outlinewidth\": 0, \"ticks\": \"\"}, \"colorscale\": [[0.0, \"#0d0887\"], [0.1111111111111111, \"#46039f\"], [0.2222222222222222, \"#7201a8\"], [0.3333333333333333, \"#9c179e\"], [0.4444444444444444, \"#bd3786\"], [0.5555555555555556, \"#d8576b\"], [0.6666666666666666, \"#ed7953\"], [0.7777777777777778, \"#fb9f3a\"], [0.8888888888888888, \"#fdca26\"], [1.0, \"#f0f921\"]], \"type\": \"surface\"}], \"table\": [{\"cells\": {\"fill\": {\"color\": \"#EBF0F8\"}, \"line\": {\"color\": \"white\"}}, \"header\": {\"fill\": {\"color\": \"#C8D4E3\"}, \"line\": {\"color\": \"white\"}}, \"type\": \"table\"}]}, \"layout\": {\"annotationdefaults\": {\"arrowcolor\": \"#2a3f5f\", \"arrowhead\": 0, \"arrowwidth\": 1}, \"coloraxis\": {\"colorbar\": {\"outlinewidth\": 0, \"ticks\": \"\"}}, \"colorscale\": {\"diverging\": [[0, \"#8e0152\"], [0.1, \"#c51b7d\"], [0.2, \"#de77ae\"], [0.3, \"#f1b6da\"], [0.4, \"#fde0ef\"], [0.5, \"#f7f7f7\"], [0.6, \"#e6f5d0\"], [0.7, \"#b8e186\"], [0.8, \"#7fbc41\"], [0.9, \"#4d9221\"], [1, \"#276419\"]], \"sequential\": [[0.0, \"#0d0887\"], [0.1111111111111111, \"#46039f\"], [0.2222222222222222, \"#7201a8\"], [0.3333333333333333, \"#9c179e\"], [0.4444444444444444, \"#bd3786\"], [0.5555555555555556, \"#d8576b\"], [0.6666666666666666, \"#ed7953\"], [0.7777777777777778, \"#fb9f3a\"], [0.8888888888888888, \"#fdca26\"], [1.0, \"#f0f921\"]], \"sequentialminus\": [[0.0, \"#0d0887\"], [0.1111111111111111, \"#46039f\"], [0.2222222222222222, \"#7201a8\"], [0.3333333333333333, \"#9c179e\"], [0.4444444444444444, \"#bd3786\"], [0.5555555555555556, \"#d8576b\"], [0.6666666666666666, \"#ed7953\"], [0.7777777777777778, \"#fb9f3a\"], [0.8888888888888888, \"#fdca26\"], [1.0, \"#f0f921\"]]}, \"colorway\": [\"#636efa\", \"#EF553B\", \"#00cc96\", \"#ab63fa\", \"#FFA15A\", \"#19d3f3\", \"#FF6692\", \"#B6E880\", \"#FF97FF\", \"#FECB52\"], \"font\": {\"color\": \"#2a3f5f\"}, \"geo\": {\"bgcolor\": \"white\", \"lakecolor\": \"white\", \"landcolor\": \"#E5ECF6\", \"showlakes\": true, \"showland\": true, \"subunitcolor\": \"white\"}, \"hoverlabel\": {\"align\": \"left\"}, \"hovermode\": \"closest\", \"mapbox\": {\"style\": \"light\"}, \"paper_bgcolor\": \"white\", \"plot_bgcolor\": \"#E5ECF6\", \"polar\": {\"angularaxis\": {\"gridcolor\": \"white\", \"linecolor\": \"white\", \"ticks\": \"\"}, \"bgcolor\": \"#E5ECF6\", \"radialaxis\": {\"gridcolor\": \"white\", \"linecolor\": \"white\", \"ticks\": \"\"}}, \"scene\": {\"xaxis\": {\"backgroundcolor\": \"#E5ECF6\", \"gridcolor\": \"white\", \"gridwidth\": 2, \"linecolor\": \"white\", \"showbackground\": true, \"ticks\": \"\", \"zerolinecolor\": \"white\"}, \"yaxis\": {\"backgroundcolor\": \"#E5ECF6\", \"gridcolor\": \"white\", \"gridwidth\": 2, \"linecolor\": \"white\", \"showbackground\": true, \"ticks\": \"\", \"zerolinecolor\": \"white\"}, \"zaxis\": {\"backgroundcolor\": \"#E5ECF6\", \"gridcolor\": \"white\", \"gridwidth\": 2, \"linecolor\": \"white\", \"showbackground\": true, \"ticks\": \"\", \"zerolinecolor\": \"white\"}}, \"shapedefaults\": {\"line\": {\"color\": \"#2a3f5f\"}}, \"ternary\": {\"aaxis\": {\"gridcolor\": \"white\", \"linecolor\": \"white\", \"ticks\": \"\"}, \"baxis\": {\"gridcolor\": \"white\", \"linecolor\": \"white\", \"ticks\": \"\"}, \"bgcolor\": \"#E5ECF6\", \"caxis\": {\"gridcolor\": \"white\", \"linecolor\": \"white\", \"ticks\": \"\"}}, \"title\": {\"x\": 0.05}, \"xaxis\": {\"automargin\": true, \"gridcolor\": \"white\", \"linecolor\": \"white\", \"ticks\": \"\", \"title\": {\"standoff\": 15}, \"zerolinecolor\": \"white\", \"zerolinewidth\": 2}, \"yaxis\": {\"automargin\": true, \"gridcolor\": \"white\", \"linecolor\": \"white\", \"ticks\": \"\", \"title\": {\"standoff\": 15}, \"zerolinecolor\": \"white\", \"zerolinewidth\": 2}}}, \"title\": {\"text\": \"Mean Balance in Account<br> <i> by Job Occupation</i>\"}},\n",
       "                        {\"responsive\": true}\n",
       "                    ).then(function(){\n",
       "                            \n",
       "var gd = document.getElementById('27c881f2-fbde-48c1-a6ff-28019945f051');\n",
       "var x = new MutationObserver(function (mutations, observer) {{\n",
       "        var display = window.getComputedStyle(gd).display;\n",
       "        if (!display || display === 'none') {{\n",
       "            console.log([gd, 'removed!']);\n",
       "            Plotly.purge(gd);\n",
       "            observer.disconnect();\n",
       "        }}\n",
       "}});\n",
       "\n",
       "// Listen for the removal of the full notebook cells\n",
       "var notebookContainer = gd.closest('#notebook-container');\n",
       "if (notebookContainer) {{\n",
       "    x.observe(notebookContainer, {childList: true});\n",
       "}}\n",
       "\n",
       "// Listen for the clearing of the current output cell\n",
       "var outputEl = gd.closest('.output');\n",
       "if (outputEl) {{\n",
       "    x.observe(outputEl, {childList: true});\n",
       "}}\n",
       "\n",
       "                        })\n",
       "                };\n",
       "                });\n",
       "            </script>\n",
       "        </div>"
      ]
     },
     "metadata": {},
     "output_type": "display_data"
    }
   ],
   "source": [
    "# Balance Distribution\n",
    "\n",
    "# Create a Balance Category\n",
    "df[\"balance_status\"] = np.nan\n",
    "lst = [df]\n",
    "\n",
    "for col in lst:\n",
    "    col.loc[col[\"balance\"] < 46737, \"balance_status\"] = \"negative\"\n",
    "    col.loc[(col[\"balance\"] >= 46737) & (col[\"balance\"] <= 46739.30), \"balance_status\"] = \"low\"\n",
    "    col.loc[(col[\"balance\"] > 46739.30) & (col[\"balance\"] <= 46744.10), \"balance_status\"] = \"middle\"\n",
    "    col.loc[col[\"balance\"] > 46744.10, \"balance_status\"] = \"high\"\n",
    "    \n",
    "# balance by balance_status\n",
    "negative = df[\"balance\"].loc[df[\"balance_status\"] == \"negative\"].values.tolist()\n",
    "low = df[\"balance\"].loc[df[\"balance_status\"] == \"low\"].values.tolist()\n",
    "middle = df[\"balance\"].loc[df[\"balance_status\"] == \"middle\"].values.tolist()\n",
    "high = df[\"balance\"].loc[df[\"balance_status\"] == \"high\"].values.tolist()\n",
    "\n",
    "\n",
    "# Get the average by occupation in each balance category\n",
    "job_balance = df.groupby(['job', 'balance_status'])['balance'].mean()\n",
    "\n",
    "\n",
    "trace1 = go.Barpolar(\n",
    "    r=[-199.0, -392.0, -209.0, -247.0, -233.0, -270.0, -271.0, 0, -276.0, -134.5],\n",
    "    text=[\"blue-collar\", \"entrepreneur\", \"housemaid\", \"management\", \"retired\", \"self-employed\",\n",
    "         \"services\", \"student\", \"technician\", \"unemployed\"],\n",
    "    name='Negative Balance',\n",
    "    marker=dict(\n",
    "        color='rgb(246, 46, 46)'\n",
    "    )\n",
    ")\n",
    "trace2 = go.Barpolar(\n",
    "    r=[319.5, 283.0, 212.0, 313.0, 409.0, 274.5, 308.5, 253.0, 316.0, 330.0],\n",
    "    text=[\"blue-collar\", \"entrepreneur\", \"housemaid\", \"management\", \"retired\", \"self-employed\",\n",
    "         \"services\", \"student\", \"technician\", \"unemployed\"],\n",
    "    name='Low Balance',\n",
    "    marker=dict(\n",
    "        color='rgb(246, 97, 46)'\n",
    "    )\n",
    ")\n",
    "trace3 = go.Barpolar(\n",
    "    r=[2128.5, 2686.0, 2290.0, 2366.0, 2579.0, 2293.5, 2005.5, 2488.0, 2362.0, 1976.0],\n",
    "    text=[\"blue-collar\", \"entrepreneur\", \"housemaid\", \"management\", \"retired\", \"self-employed\",\n",
    "         \"services\", \"student\", \"technician\", \"unemployed\"],\n",
    "    name='Middle Balance',\n",
    "    marker=dict(\n",
    "        color='rgb(246, 179, 46)'\n",
    "    )\n",
    ")\n",
    "trace4 = go.Barpolar(\n",
    "    r=[14247.5, 20138.5, 12278.5, 12956.0, 20723.0, 12159.0, 12223.0, 13107.0, 12063.0, 15107.5],\n",
    "    text=[\"blue-collar\", \"entrepreneur\", \"housemaid\", \"management\", \"retired\", \"self-employed\",\n",
    "         \"services\", \"student\", \"technician\", \"unemployed\"],\n",
    "    name='High Balance',\n",
    "    marker=dict(\n",
    "        color='rgb(46, 246, 78)'\n",
    "    )\n",
    ")\n",
    "data = [trace1, trace2, trace3, trace4]\n",
    "layout = go.Layout(\n",
    "    title='Mean Balance in Account<br> <i> by Job Occupation</i>',\n",
    "    font=dict(\n",
    "        size=12\n",
    "    ),\n",
    "    legend=dict(\n",
    "        font=dict(\n",
    "            size=16\n",
    "        )\n",
    "    ),\n",
    "    radialaxis=dict(\n",
    "        ticksuffix='%'\n",
    "    ),\n",
    "    orientation=270\n",
    ")\n",
    "fig = go.Figure(data=data, layout=layout)\n",
    "iplot(fig, filename='polar-area-chart')"
   ]
  },
  {
   "cell_type": "code",
   "execution_count": 50,
   "metadata": {},
   "outputs": [
    {
     "data": {
      "image/png": "[encoded data removed]",
      "text/plain": [
       "<Figure size 432x288 with 1 Axes>"
      ]
     },
     "metadata": {
      "needs_background": "light"
     },
     "output_type": "display_data"
    }
   ],
   "source": [
    "%matplotlib inline\n",
    "pd.crosstab(df.job,df.y).plot(kind='bar')\n",
    "plt.title('Purchase Frequency for Job Title')\n",
    "plt.xlabel('Job')\n",
    "plt.ylabel('Frequency of Purchase')\n",
    "plt.savefig('purchase_fre_job')"
   ]
  },
  {
   "cell_type": "markdown",
   "metadata": {},
   "source": [
    "# 8.6 Analysis of Marital Status and Term Deposit"
   ]
  },
  {
   "cell_type": "markdown",
   "metadata": {},
   "source": [
    "Hard to see, but the marital status does not seem a strong predictor for the outcome variable."
   ]
  },
  {
   "cell_type": "code",
   "execution_count": 51,
   "metadata": {},
   "outputs": [
    {
     "data": {
      "image/png": "[encoded data removed]",
      "text/plain": [
       "<Figure size 432x288 with 1 Axes>"
      ]
     },
     "metadata": {
      "needs_background": "light"
     },
     "output_type": "display_data"
    }
   ],
   "source": [
    "table=pd.crosstab(df.marital,df.y)\n",
    "table.div(table.sum(1).astype(float), axis=0).plot(kind='bar', stacked=True)\n",
    "plt.title('Stacked Bar Chart of Marital Status vs Purchase')\n",
    "plt.xlabel('Marital Status')\n",
    "plt.ylabel('Proportion of Customers')\n",
    "plt.savefig('mariral_vs_pur_stack')"
   ]
  },
  {
   "cell_type": "markdown",
   "metadata": {},
   "source": [
    "# 8.7 Analysis of Education and Term Deposit"
   ]
  },
  {
   "cell_type": "markdown",
   "metadata": {},
   "source": [
    "Education seems a good predictor of the outcome variable."
   ]
  },
  {
   "cell_type": "code",
   "execution_count": 52,
   "metadata": {},
   "outputs": [
    {
     "data": {
      "image/png": "[encoded data removed]",
      "text/plain": [
       "<Figure size 432x288 with 1 Axes>"
      ]
     },
     "metadata": {
      "needs_background": "light"
     },
     "output_type": "display_data"
    }
   ],
   "source": [
    "table=pd.crosstab(df.education,df.y)\n",
    "table.div(table.sum(1).astype(float), axis=0).plot(kind='bar', stacked=True)\n",
    "plt.title('Stacked Bar Chart of Education vs Purchase')\n",
    "plt.xlabel('Education')\n",
    "plt.ylabel('Proportion of Customers')\n",
    "plt.savefig('edu_vs_pur_stack')"
   ]
  },
  {
   "cell_type": "markdown",
   "metadata": {},
   "source": [
    "# 8.8 Analysis of Day of Week and Term Deposit"
   ]
  },
  {
   "cell_type": "markdown",
   "metadata": {},
   "source": [
    "Day of week may not be a good predictor of the outcome"
   ]
  },
  {
   "cell_type": "code",
   "execution_count": 53,
   "metadata": {},
   "outputs": [
    {
     "data": {
      "image/png": "[encoded data removed]",
      "text/plain": [
       "<Figure size 432x288 with 1 Axes>"
      ]
     },
     "metadata": {
      "needs_background": "light"
     },
     "output_type": "display_data"
    }
   ],
   "source": [
    "pd.crosstab(df.day_of_week,df.y).plot(kind='bar')\n",
    "plt.title('Purchase Frequency for Day of Week')\n",
    "plt.xlabel('Day of Week')\n",
    "plt.ylabel('Frequency of Purchase')\n",
    "plt.savefig('pur_dayofweek_bar')"
   ]
  },
  {
   "cell_type": "markdown",
   "metadata": {},
   "source": [
    "# 8.9 Analysis of Month and Term deposit"
   ]
  },
  {
   "cell_type": "markdown",
   "metadata": {},
   "source": [
    "Month might be a good predictor of the outcome variable"
   ]
  },
  {
   "cell_type": "code",
   "execution_count": 54,
   "metadata": {},
   "outputs": [
    {
     "data": {
      "image/png": "[encoded data removed]",
      "text/plain": [
       "<Figure size 432x288 with 1 Axes>"
      ]
     },
     "metadata": {
      "needs_background": "light"
     },
     "output_type": "display_data"
    }
   ],
   "source": [
    "pd.crosstab(df.month,df.y).plot(kind='bar')\n",
    "plt.title('Purchase Frequency for Month')\n",
    "plt.xlabel('Month')\n",
    "plt.ylabel('Frequency of Purchase')\n",
    "plt.savefig('pur_fre_month_bar')"
   ]
  },
  {
   "cell_type": "markdown",
   "metadata": {},
   "source": [
    "# 8.10 Analysis of Age and Term deposit"
   ]
  },
  {
   "cell_type": "markdown",
   "metadata": {},
   "source": [
    "The most of the customers of the bank in this dataset are in the age range of 30-40"
   ]
  },
  {
   "cell_type": "code",
   "execution_count": 55,
   "metadata": {},
   "outputs": [
    {
     "data": {
      "image/png": "[encoded data removed]",
      "text/plain": [
       "<Figure size 432x288 with 1 Axes>"
      ]
     },
     "metadata": {
      "needs_background": "light"
     },
     "output_type": "display_data"
    }
   ],
   "source": [
    "df.age.hist()\n",
    "plt.title('Histogram of Age')\n",
    "plt.xlabel('Age')\n",
    "plt.ylabel('Frequency')\n",
    "plt.savefig('hist_age')"
   ]
  },
  {
   "cell_type": "markdown",
   "metadata": {},
   "source": [
    "# 8.11 Analysis of poutcome and Term deposit"
   ]
  },
  {
   "cell_type": "markdown",
   "metadata": {},
   "source": [
    "Poutcome seems to be a good predictor of the outcome variable."
   ]
  },
  {
   "cell_type": "code",
   "execution_count": 56,
   "metadata": {},
   "outputs": [
    {
     "data": {
      "image/png": "[encoded data removed]",
      "text/plain": [
       "<Figure size 432x288 with 1 Axes>"
      ]
     },
     "metadata": {
      "needs_background": "light"
     },
     "output_type": "display_data"
    }
   ],
   "source": [
    "pd.crosstab(df.poutcome,df.y).plot(kind='bar')\n",
    "plt.title('Purchase Frequency for Poutcome')\n",
    "plt.xlabel('Poutcome')\n",
    "plt.ylabel('Frequency of Purchase')\n",
    "plt.savefig('pur_fre_pout_bar')"
   ]
  },
  {
   "cell_type": "markdown",
   "metadata": {},
   "source": [
    "# 8.12 Correlation of Numerical variable"
   ]
  },
  {
   "cell_type": "markdown",
   "metadata": {},
   "source": [
    "Nothing called my attention here..."
   ]
  },
  {
   "cell_type": "code",
   "execution_count": 57,
   "metadata": {},
   "outputs": [
    {
     "data": {
      "text/plain": [
       "<matplotlib.axes._subplots.AxesSubplot at 0x26ac05f3608>"
      ]
     },
     "execution_count": 57,
     "metadata": {},
     "output_type": "execute_result"
    },
    {
     "data": {
      "image/png": "[encoded data removed]",
      "text/plain": [
       "<Figure size 432x288 with 2 Axes>"
      ]
     },
     "metadata": {
      "needs_background": "light"
     },
     "output_type": "display_data"
    }
   ],
   "source": [
    "#Pearson’s Correlations, which measures the strength of a linear relationship\n",
    "sns.heatmap(df.corr(method='pearson'), annot=True)"
   ]
  },
  {
   "cell_type": "markdown",
   "metadata": {},
   "source": [
    "# 8.13 Analyis of Default,Housing,loan and Term Deposit"
   ]
  },
  {
   "cell_type": "markdown",
   "metadata": {},
   "source": [
    "Interesting pattern at Default variable. Clients with no defaulter tend to say \"no\" for the term deposit."
   ]
  },
  {
   "cell_type": "code",
   "execution_count": 58,
   "metadata": {},
   "outputs": [
    {
     "data": {
      "image/png": "[encoded data removed]",
      "text/plain": [
       "<Figure size 1008x288 with 3 Axes>"
      ]
     },
     "metadata": {
      "needs_background": "light"
     },
     "output_type": "display_data"
    }
   ],
   "source": [
    "plt.figure(figsize=[14,4])\n",
    "plt.subplot(1,3,1)\n",
    "sns.countplot(x='default', hue='y', data=df,palette=\"Set2\")\n",
    "plt.subplot(1,3,2)\n",
    "sns.countplot(x='housing', hue='y', data=df,palette=\"Set2\")\n",
    "plt.subplot(1,3,3)\n",
    "sns.countplot(x='loan', hue='y', data=df,palette=\"Set2\")\n",
    "plt.show()"
   ]
  },
  {
   "cell_type": "markdown",
   "metadata": {},
   "source": [
    "# 8.14 Clustering Analysis for Numerical Variables"
   ]
  },
  {
   "cell_type": "markdown",
   "metadata": {},
   "source": [
    "To continue the exploration, let's search for some hidden structure on numeric variables doing a cluster. As we don't know the number of categories, let's use Mean Shift"
   ]
  },
  {
   "cell_type": "markdown",
   "metadata": {},
   "source": [
    "I was looking for a group with high balance, very contacted, a kind of \"VIPs\". But, I didn't find. So, let's move forward."
   ]
  },
  {
   "cell_type": "code",
   "execution_count": 59,
   "metadata": {},
   "outputs": [],
   "source": [
    "from sklearn.model_selection import StratifiedShuffleSplit"
   ]
  },
  {
   "cell_type": "code",
   "execution_count": 60,
   "metadata": {},
   "outputs": [],
   "source": [
    "#I'm going to use StratifiedShuffleSplit to preserve the class proportions.\n",
    "sss=StratifiedShuffleSplit(n_splits=1, test_size=0.2, random_state=1)\n",
    "for train_index, test_index in sss.split(df.drop(\"y\",axis=1), df.y):\n",
    "    traindf=df.loc[train_index]\n",
    "    testdf= df.loc[test_index]"
   ]
  },
  {
   "cell_type": "code",
   "execution_count": 61,
   "metadata": {},
   "outputs": [
    {
     "name": "stdout",
     "output_type": "stream",
     "text": [
      "         balance  previous  labels  counts\n",
      "9   46752.244908         2       9     152\n",
      "5   46752.243497         1       5     455\n",
      "16  46752.063250         3      16      32\n",
      "4   46751.732039         0       4    1016\n",
      "24  46750.899000         4      24       2\n",
      "7   46747.197296         1       7     216\n",
      "13  46747.026787         2      13      75\n",
      "18  46746.922500         3      18      16\n",
      "21  46746.286000         4      21       4\n",
      "1   46744.439182         0       1   10696\n",
      "23  46742.173000         6      23       3\n",
      "19  46741.736917         5      19      12\n",
      "15  46741.623098         4      15      41\n",
      "11  46741.452389         3      11      95\n",
      "8   46741.039014         2       8     209\n",
      "3   46740.010539         1       3     974\n",
      "0   46737.482356         0       0   16452\n",
      "2   46735.133849         1       2    1876\n",
      "10  46735.032134         2      10     127\n",
      "22  46734.595500         3      22       4\n",
      "6   46731.060569         0       6     311\n",
      "12  46730.262860         1      12      86\n",
      "14  46730.023833         2      14      48\n",
      "17  46729.895062         3      17      32\n",
      "20  46729.543833         4      20      12\n",
      "25  46728.933000         5      25       2\n",
      "26  46728.933000         7      26       1\n",
      "27  46728.933000         6      27       1\n"
     ]
    }
   ],
   "source": [
    "#clustering\n",
    "from sklearn.preprocessing import StandardScaler\n",
    "from sklearn.cluster import MeanShift\n",
    "scaler=StandardScaler()\n",
    "z=scaler.fit_transform(traindf[['balance', 'previous']])\n",
    "MS= MeanShift()\n",
    "clustering=MS.fit(z)\n",
    "\n",
    "#build a dataframe to examine\n",
    "labels=pd.DataFrame({'labels':clustering.labels_},index=traindf.index)\n",
    "df_clus=pd.concat([traindf[['balance', 'previous']],labels], axis=1)\n",
    "df_clus_grouped=df_clus.groupby(by='labels').mean()\n",
    "count_labels=df_clus.groupby(by='labels').size().reset_index(name='counts')\n",
    "df_clus_final=pd.concat([df_clus_grouped, count_labels], axis=1)\n",
    "\n",
    "print(df_clus_final.sort_values(by='balance', ascending=False))"
   ]
  },
  {
   "cell_type": "markdown",
   "metadata": {},
   "source": [
    "# 9.0 Base Model Building "
   ]
  },
  {
   "cell_type": "code",
   "execution_count": 62,
   "metadata": {},
   "outputs": [
    {
     "data": {
      "text/plain": [
       "Index(['age', 'job', 'marital', 'education', 'default', 'housing', 'loan',\n",
       "       'contact', 'month', 'day_of_week', 'duration', 'campaign', 'pdays',\n",
       "       'previous', 'poutcome', 'emp.var.rate', 'cons.price.idx',\n",
       "       'cons.conf.idx', 'euribor3m', 'nr.employed', 'y', 'age_bins', 'balance',\n",
       "       'balance_status'],\n",
       "      dtype='object')"
      ]
     },
     "execution_count": 62,
     "metadata": {},
     "output_type": "execute_result"
    }
   ],
   "source": [
    "df.columns"
   ]
  },
  {
   "cell_type": "markdown",
   "metadata": {},
   "source": [
    "Splitting the data using stratified Shuffle In order to avoid over fitting of our data we must implement a cross validation however, we must make sure that at least the features that have the greatest influence on our label (whether a potential client will open a term deposit or not) is equally distributed."
   ]
  },
  {
   "cell_type": "code",
   "execution_count": 63,
   "metadata": {},
   "outputs": [],
   "source": [
    "from sklearn.model_selection import StratifiedShuffleSplit\n",
    "for train_index, test_index in sss.split(df.drop(\"y\",axis=1), df.y):\n",
    "    train_data=df.loc[train_index]\n",
    "    test_data= df.loc[test_index]"
   ]
  },
  {
   "cell_type": "markdown",
   "metadata": {},
   "source": [
    "# 9.1 Encoding "
   ]
  },
  {
   "cell_type": "code",
   "execution_count": 64,
   "metadata": {},
   "outputs": [],
   "source": [
    "from sklearn.base import BaseEstimator, TransformerMixin\n",
    "from sklearn.utils import check_array\n",
    "from sklearn.preprocessing import LabelEncoder\n",
    "from scipy import sparse\n",
    "\n",
    "class CategoricalEncoder(BaseEstimator, TransformerMixin):\n",
    "    def __init__(self, encoding='onehot', categories='auto', dtype=np.float64,\n",
    "                 handle_unknown='error'):\n",
    "        self.encoding = encoding\n",
    "        self.categories = categories\n",
    "        self.dtype = dtype\n",
    "        self.handle_unknown = handle_unknown\n",
    "\n",
    "    def fit(self, X, y=None):\n",
    "        if self.encoding not in ['onehot', 'onehot-dense', 'ordinal']:\n",
    "            template = (\"encoding should be either 'onehot', 'onehot-dense' \"\n",
    "                        \"or 'ordinal', got %s\")\n",
    "            raise ValueError(template % self.handle_unknown)\n",
    "\n",
    "        if self.handle_unknown not in ['error', 'ignore']:\n",
    "            template = (\"handle_unknown should be either 'error' or \"\n",
    "                        \"'ignore', got %s\")\n",
    "            raise ValueError(template % self.handle_unknown)\n",
    "\n",
    "        if self.encoding == 'ordinal' and self.handle_unknown == 'ignore':\n",
    "            raise ValueError(\"handle_unknown='ignore' is not supported for\"\n",
    "                             \" encoding='ordinal'\")\n",
    "\n",
    "        X = check_array(X, dtype=np.object, accept_sparse='csc', copy=True)\n",
    "        n_samples, n_features = X.shape\n",
    "\n",
    "        self._label_encoders_ = [LabelEncoder() for _ in range(n_features)]\n",
    "\n",
    "        for i in range(n_features):\n",
    "            le = self._label_encoders_[i]\n",
    "            Xi = X[:, i]\n",
    "            if self.categories == 'auto':\n",
    "                le.fit(Xi)\n",
    "            else:\n",
    "                valid_mask = np.in1d(Xi, self.categories[i])\n",
    "                if not np.all(valid_mask):\n",
    "                    if self.handle_unknown == 'error':\n",
    "                        diff = np.unique(Xi[~valid_mask])\n",
    "                        msg = (\"Found unknown categories {0} in column {1}\"\n",
    "                               \" during fit\".format(diff, i))\n",
    "                        raise ValueError(msg)\n",
    "                le.classes_ = np.array(np.sort(self.categories[i]))\n",
    "\n",
    "        self.categories_ = [le.classes_ for le in self._label_encoders_]\n",
    "\n",
    "        return self\n",
    "\n",
    "    def transform(self, X):\n",
    "        X = check_array(X, accept_sparse='csc', dtype=np.object, copy=True)\n",
    "        n_samples, n_features = X.shape\n",
    "        X_int = np.zeros_like(X, dtype=np.int)\n",
    "        X_mask = np.ones_like(X, dtype=np.bool)\n",
    "\n",
    "        for i in range(n_features):\n",
    "            valid_mask = np.in1d(X[:, i], self.categories_[i])\n",
    "\n",
    "            if not np.all(valid_mask):\n",
    "                if self.handle_unknown == 'error':\n",
    "                    diff = np.unique(X[~valid_mask, i])\n",
    "                    msg = (\"Found unknown categories {0} in column {1}\"\n",
    "                           \" during transform\".format(diff, i))\n",
    "                    raise ValueError(msg)\n",
    "                else:\n",
    "                    # Set the problematic rows to an acceptable value and\n",
    "                    # continue `The rows are marked `X_mask` and will be\n",
    "                    # removed later.\n",
    "                    X_mask[:, i] = valid_mask\n",
    "                    X[:, i][~valid_mask] = self.categories_[i][0]\n",
    "            X_int[:, i] = self._label_encoders_[i].transform(X[:, i])\n",
    "\n",
    "        if self.encoding == 'ordinal':\n",
    "            return X_int.astype(self.dtype, copy=False)\n",
    "\n",
    "        mask = X_mask.ravel()\n",
    "        n_values = [cats.shape[0] for cats in self.categories_]\n",
    "        n_values = np.array([0] + n_values)\n",
    "        indices = np.cumsum(n_values)\n",
    "\n",
    "        column_indices = (X_int + indices[:-1]).ravel()[mask]\n",
    "        row_indices = np.repeat(np.arange(n_samples, dtype=np.int32),\n",
    "                                n_features)[mask]\n",
    "        data = np.ones(n_samples * n_features)[mask]\n",
    "\n",
    "        out = sparse.csc_matrix((data, (row_indices, column_indices)),\n",
    "                                shape=(n_samples, indices[-1]),\n",
    "                                dtype=self.dtype).tocsr()\n",
    "        if self.encoding == 'onehot-dense':\n",
    "            return out.toarray()\n",
    "        else:\n",
    "            return out"
   ]
  },
  {
   "cell_type": "code",
   "execution_count": 65,
   "metadata": {},
   "outputs": [],
   "source": [
    "from sklearn.base import BaseEstimator, TransformerMixin\n",
    "\n",
    "class DataFrameSelector(BaseEstimator, TransformerMixin):\n",
    "    def __init__(self, attribute_names):\n",
    "        self.attribute_names = attribute_names\n",
    "    def fit(self, X, y=None):\n",
    "        return self\n",
    "    def transform(self, X):\n",
    "        return X[self.attribute_names]"
   ]
  },
  {
   "cell_type": "code",
   "execution_count": 66,
   "metadata": {},
   "outputs": [
    {
     "name": "stdout",
     "output_type": "stream",
     "text": [
      "<class 'pandas.core.frame.DataFrame'>\n",
      "Int64Index: 32950 entries, 14304 to 8309\n",
      "Data columns (total 24 columns):\n",
      "age               32950 non-null int64\n",
      "job               32950 non-null object\n",
      "marital           32950 non-null object\n",
      "education         32950 non-null object\n",
      "default           32950 non-null object\n",
      "housing           32950 non-null object\n",
      "loan              32950 non-null object\n",
      "contact           32950 non-null object\n",
      "month             32950 non-null object\n",
      "day_of_week       32950 non-null object\n",
      "duration          32950 non-null int64\n",
      "campaign          32950 non-null int64\n",
      "pdays             32950 non-null int64\n",
      "previous          32950 non-null int64\n",
      "poutcome          32950 non-null object\n",
      "emp.var.rate      32950 non-null float64\n",
      "cons.price.idx    32950 non-null float64\n",
      "cons.conf.idx     32950 non-null float64\n",
      "euribor3m         32950 non-null float64\n",
      "nr.employed       32950 non-null float64\n",
      "y                 32950 non-null object\n",
      "age_bins          32950 non-null category\n",
      "balance           32950 non-null float64\n",
      "balance_status    32950 non-null object\n",
      "dtypes: category(1), float64(6), int64(5), object(12)\n",
      "memory usage: 6.1+ MB\n"
     ]
    }
   ],
   "source": [
    "train_data.info()"
   ]
  },
  {
   "cell_type": "markdown",
   "metadata": {},
   "source": [
    "# 9.1.1 Pipelining"
   ]
  },
  {
   "cell_type": "code",
   "execution_count": 67,
   "metadata": {},
   "outputs": [],
   "source": [
    "from sklearn.pipeline import Pipeline\n",
    "from sklearn.preprocessing import StandardScaler\n",
    "# Making pipelines\n",
    "numerical_pipeline = Pipeline([\n",
    "    (\"select_numeric\", DataFrameSelector([\"age\", \"previous\", \"pdays\", \"campaign\", \n",
    "                                          \"emp.var.rate\", \"duration\", \"cons.conf.idx\", \n",
    "                                          \"cons.price.idx\", \"euribor3m\", \"nr.employed\"])),\n",
    "    (\"std_scaler\", StandardScaler()),\n",
    "])\n",
    "\n",
    "categorical_pipeline = Pipeline([\n",
    "    (\"select_cat\", DataFrameSelector([\"job\", \"education\", \"marital\", \"default\", \n",
    "                                      \"housing\", \"loan\", \"contact\", \"month\",\n",
    "                                     \"day_of_week\",\"poutcome\",\"balance_status\"])),\n",
    "    (\"cat_encoder\", CategoricalEncoder(encoding='onehot-dense'))\n",
    "])\n",
    "\n",
    "from sklearn.pipeline import FeatureUnion\n",
    "preprocess_pipeline = FeatureUnion(transformer_list=[\n",
    "        (\"numerical_pipeline\", numerical_pipeline),\n",
    "        (\"categorical_pipeline\", categorical_pipeline),\n",
    "    ])"
   ]
  },
  {
   "cell_type": "code",
   "execution_count": 68,
   "metadata": {},
   "outputs": [
    {
     "data": {
      "text/plain": [
       "array([[-1.44043269, -0.34775984,  0.19558245, ...,  1.        ,\n",
       "         0.        ,  0.        ],\n",
       "       [-0.0046885 , -0.34775984,  0.19558245, ...,  1.        ,\n",
       "         0.        ,  0.        ],\n",
       "       [ 1.04819057, -0.34775984,  0.19558245, ...,  0.        ,\n",
       "         0.        ,  0.        ],\n",
       "       ...,\n",
       "       [ 1.71820453, -0.34775984,  0.19558245, ...,  0.        ,\n",
       "         0.        ,  0.        ],\n",
       "       [ 0.95247429, -0.34775984,  0.19558245, ...,  0.        ,\n",
       "         0.        ,  0.        ],\n",
       "       [-0.38755362, -0.34775984,  0.19558245, ...,  1.        ,\n",
       "         0.        ,  0.        ]])"
      ]
     },
     "execution_count": 68,
     "metadata": {},
     "output_type": "execute_result"
    }
   ],
   "source": [
    "X_train = preprocess_pipeline.fit_transform(train_data)\n",
    "X_train"
   ]
  },
  {
   "cell_type": "code",
   "execution_count": 69,
   "metadata": {},
   "outputs": [
    {
     "data": {
      "text/plain": [
       "(32950,)"
      ]
     },
     "execution_count": 69,
     "metadata": {},
     "output_type": "execute_result"
    }
   ],
   "source": [
    "y_train = train_data['y']\n",
    "y_test = test_data['y']\n",
    "y_train.shape"
   ]
  },
  {
   "cell_type": "code",
   "execution_count": 70,
   "metadata": {},
   "outputs": [
    {
     "data": {
      "text/plain": [
       "array([False, False,  True, ..., False, False, False])"
      ]
     },
     "execution_count": 70,
     "metadata": {},
     "output_type": "execute_result"
    }
   ],
   "source": [
    "from sklearn.preprocessing import LabelEncoder\n",
    "encode = LabelEncoder()\n",
    "y_train = encode.fit_transform(y_train)\n",
    "y_test = encode.fit_transform(y_test)\n",
    "y_train_yes = (y_train == 1)\n",
    "y_train\n",
    "y_train_yes"
   ]
  },
  {
   "cell_type": "code",
   "execution_count": 71,
   "metadata": {},
   "outputs": [],
   "source": [
    "some_instance = X_train[1250]"
   ]
  },
  {
   "cell_type": "code",
   "execution_count": 72,
   "metadata": {},
   "outputs": [],
   "source": [
    "# Time for Classification Models\n",
    "import time\n",
    "from sklearn.decomposition import PCA\n",
    "from sklearn.preprocessing import StandardScaler, LabelEncoder\n",
    "from sklearn.linear_model import LogisticRegression\n",
    "from sklearn.svm import SVC\n",
    "from sklearn.neighbors import KNeighborsClassifier\n",
    "from sklearn import tree\n",
    "from sklearn.neural_network import MLPClassifier\n",
    "from sklearn.neighbors import KNeighborsClassifier\n",
    "from sklearn.ensemble import GradientBoostingClassifier\n",
    "from sklearn.gaussian_process.kernels import RBF\n",
    "from sklearn.ensemble import RandomForestClassifier\n",
    "from sklearn.naive_bayes import GaussianNB\n",
    "import xgboost as xgb\n",
    "from xgboost.sklearn import XGBClassifier\n",
    "\n",
    "dict_classifiers = {\n",
    "    \"Logistic Regression\": LogisticRegression(),\n",
    "    \"Nearest Neighbors\": KNeighborsClassifier(),\n",
    "    \"Linear SVM\": SVC(),\n",
    "    \"Gradient Boosting Classifier\": GradientBoostingClassifier(),\n",
    "    \"Decision Tree\": tree.DecisionTreeClassifier(),\n",
    "    \"Random Forest\": RandomForestClassifier(n_estimators=18),\n",
    "    \"Neural Net\": MLPClassifier(alpha=1),\n",
    "    \"Naive Bayes\": GaussianNB(),\n",
    "    \"xgboost\": XGBClassifier()\n",
    "}"
   ]
  },
  {
   "cell_type": "code",
   "execution_count": 73,
   "metadata": {},
   "outputs": [],
   "source": [
    "no_classifiers = len(dict_classifiers.keys())\n",
    "def batch_classify(X_train, Y_train, verbose = True):\n",
    "    df_results = pd.DataFrame(data=np.zeros(shape=(no_classifiers,3)), columns = ['classifier', 'train_score', 'training_time'])\n",
    "    count = 0\n",
    "    for key, classifier in dict_classifiers.items():\n",
    "        t_start = time.clock()\n",
    "        classifier.fit(X_train, Y_train)\n",
    "        t_end = time.clock()\n",
    "        t_diff = t_end - t_start\n",
    "        train_score = classifier.score(X_train, Y_train)\n",
    "        df_results.loc[count,'classifier'] = key\n",
    "        df_results.loc[count,'train_score'] = train_score\n",
    "        df_results.loc[count,'training_time'] = t_diff\n",
    "        if verbose:\n",
    "            print(\"trained {c} in {f:.2f} s\".format(c=key, f=t_diff))\n",
    "        count+=1\n",
    "    return df_results"
   ]
  },
  {
   "cell_type": "code",
   "execution_count": 74,
   "metadata": {},
   "outputs": [
    {
     "name": "stderr",
     "output_type": "stream",
     "text": [
      "C:\\Users\\Dell\\Anaconda3\\lib\\site-packages\\ipykernel_launcher.py:6: DeprecationWarning:\n",
      "\n",
      "time.clock has been deprecated in Python 3.3 and will be removed from Python 3.8: use time.perf_counter or time.process_time instead\n",
      "\n",
      "C:\\Users\\Dell\\Anaconda3\\lib\\site-packages\\sklearn\\linear_model\\logistic.py:432: FutureWarning:\n",
      "\n",
      "Default solver will be changed to 'lbfgs' in 0.22. Specify a solver to silence this warning.\n",
      "\n",
      "C:\\Users\\Dell\\Anaconda3\\lib\\site-packages\\ipykernel_launcher.py:8: DeprecationWarning:\n",
      "\n",
      "time.clock has been deprecated in Python 3.3 and will be removed from Python 3.8: use time.perf_counter or time.process_time instead\n",
      "\n",
      "C:\\Users\\Dell\\Anaconda3\\lib\\site-packages\\ipykernel_launcher.py:6: DeprecationWarning:\n",
      "\n",
      "time.clock has been deprecated in Python 3.3 and will be removed from Python 3.8: use time.perf_counter or time.process_time instead\n",
      "\n"
     ]
    },
    {
     "name": "stdout",
     "output_type": "stream",
     "text": [
      "trained Logistic Regression in 0.75 s\n"
     ]
    },
    {
     "name": "stderr",
     "output_type": "stream",
     "text": [
      "C:\\Users\\Dell\\Anaconda3\\lib\\site-packages\\ipykernel_launcher.py:8: DeprecationWarning:\n",
      "\n",
      "time.clock has been deprecated in Python 3.3 and will be removed from Python 3.8: use time.perf_counter or time.process_time instead\n",
      "\n"
     ]
    },
    {
     "name": "stdout",
     "output_type": "stream",
     "text": [
      "trained Nearest Neighbors in 0.43 s\n"
     ]
    },
    {
     "name": "stderr",
     "output_type": "stream",
     "text": [
      "C:\\Users\\Dell\\Anaconda3\\lib\\site-packages\\ipykernel_launcher.py:6: DeprecationWarning:\n",
      "\n",
      "time.clock has been deprecated in Python 3.3 and will be removed from Python 3.8: use time.perf_counter or time.process_time instead\n",
      "\n",
      "C:\\Users\\Dell\\Anaconda3\\lib\\site-packages\\sklearn\\svm\\base.py:193: FutureWarning:\n",
      "\n",
      "The default value of gamma will change from 'auto' to 'scale' in version 0.22 to account better for unscaled features. Set gamma explicitly to 'auto' or 'scale' to avoid this warning.\n",
      "\n",
      "C:\\Users\\Dell\\Anaconda3\\lib\\site-packages\\ipykernel_launcher.py:8: DeprecationWarning:\n",
      "\n",
      "time.clock has been deprecated in Python 3.3 and will be removed from Python 3.8: use time.perf_counter or time.process_time instead\n",
      "\n"
     ]
    },
    {
     "name": "stdout",
     "output_type": "stream",
     "text": [
      "trained Linear SVM in 31.48 s\n"
     ]
    },
    {
     "name": "stderr",
     "output_type": "stream",
     "text": [
      "C:\\Users\\Dell\\Anaconda3\\lib\\site-packages\\ipykernel_launcher.py:6: DeprecationWarning:\n",
      "\n",
      "time.clock has been deprecated in Python 3.3 and will be removed from Python 3.8: use time.perf_counter or time.process_time instead\n",
      "\n",
      "C:\\Users\\Dell\\Anaconda3\\lib\\site-packages\\ipykernel_launcher.py:8: DeprecationWarning:\n",
      "\n",
      "time.clock has been deprecated in Python 3.3 and will be removed from Python 3.8: use time.perf_counter or time.process_time instead\n",
      "\n",
      "C:\\Users\\Dell\\Anaconda3\\lib\\site-packages\\ipykernel_launcher.py:6: DeprecationWarning:\n",
      "\n",
      "time.clock has been deprecated in Python 3.3 and will be removed from Python 3.8: use time.perf_counter or time.process_time instead\n",
      "\n"
     ]
    },
    {
     "name": "stdout",
     "output_type": "stream",
     "text": [
      "trained Gradient Boosting Classifier in 12.37 s\n"
     ]
    },
    {
     "name": "stderr",
     "output_type": "stream",
     "text": [
      "C:\\Users\\Dell\\Anaconda3\\lib\\site-packages\\ipykernel_launcher.py:8: DeprecationWarning:\n",
      "\n",
      "time.clock has been deprecated in Python 3.3 and will be removed from Python 3.8: use time.perf_counter or time.process_time instead\n",
      "\n",
      "C:\\Users\\Dell\\Anaconda3\\lib\\site-packages\\ipykernel_launcher.py:6: DeprecationWarning:\n",
      "\n",
      "time.clock has been deprecated in Python 3.3 and will be removed from Python 3.8: use time.perf_counter or time.process_time instead\n",
      "\n"
     ]
    },
    {
     "name": "stdout",
     "output_type": "stream",
     "text": [
      "trained Decision Tree in 0.45 s\n"
     ]
    },
    {
     "name": "stderr",
     "output_type": "stream",
     "text": [
      "C:\\Users\\Dell\\Anaconda3\\lib\\site-packages\\ipykernel_launcher.py:8: DeprecationWarning:\n",
      "\n",
      "time.clock has been deprecated in Python 3.3 and will be removed from Python 3.8: use time.perf_counter or time.process_time instead\n",
      "\n",
      "C:\\Users\\Dell\\Anaconda3\\lib\\site-packages\\ipykernel_launcher.py:6: DeprecationWarning:\n",
      "\n",
      "time.clock has been deprecated in Python 3.3 and will be removed from Python 3.8: use time.perf_counter or time.process_time instead\n",
      "\n"
     ]
    },
    {
     "name": "stdout",
     "output_type": "stream",
     "text": [
      "trained Random Forest in 0.87 s\n"
     ]
    },
    {
     "name": "stderr",
     "output_type": "stream",
     "text": [
      "C:\\Users\\Dell\\Anaconda3\\lib\\site-packages\\ipykernel_launcher.py:8: DeprecationWarning:\n",
      "\n",
      "time.clock has been deprecated in Python 3.3 and will be removed from Python 3.8: use time.perf_counter or time.process_time instead\n",
      "\n",
      "C:\\Users\\Dell\\Anaconda3\\lib\\site-packages\\ipykernel_launcher.py:6: DeprecationWarning:\n",
      "\n",
      "time.clock has been deprecated in Python 3.3 and will be removed from Python 3.8: use time.perf_counter or time.process_time instead\n",
      "\n",
      "C:\\Users\\Dell\\Anaconda3\\lib\\site-packages\\ipykernel_launcher.py:8: DeprecationWarning:\n",
      "\n",
      "time.clock has been deprecated in Python 3.3 and will be removed from Python 3.8: use time.perf_counter or time.process_time instead\n",
      "\n"
     ]
    },
    {
     "name": "stdout",
     "output_type": "stream",
     "text": [
      "trained Neural Net in 8.83 s\n",
      "trained Naive Bayes in 0.07 s\n"
     ]
    },
    {
     "name": "stderr",
     "output_type": "stream",
     "text": [
      "C:\\Users\\Dell\\Anaconda3\\lib\\site-packages\\ipykernel_launcher.py:6: DeprecationWarning:\n",
      "\n",
      "time.clock has been deprecated in Python 3.3 and will be removed from Python 3.8: use time.perf_counter or time.process_time instead\n",
      "\n"
     ]
    },
    {
     "name": "stdout",
     "output_type": "stream",
     "text": [
      "trained xgboost in 9.31 s\n",
      "                     classifier  train_score  training_time\n",
      "4                 Decision Tree     1.000000       0.454983\n",
      "5                 Random Forest     0.997845       0.866322\n",
      "1             Nearest Neighbors     0.928073       0.434548\n",
      "3  Gradient Boosting Classifier     0.922822      12.365095\n",
      "8                       xgboost     0.921032       9.309828\n",
      "6                    Neural Net     0.914385       8.826323\n",
      "0           Logistic Regression     0.910956       0.750297\n",
      "2                    Linear SVM     0.910258      31.479984\n",
      "7                   Naive Bayes     0.725402       0.065404\n"
     ]
    },
    {
     "name": "stderr",
     "output_type": "stream",
     "text": [
      "C:\\Users\\Dell\\Anaconda3\\lib\\site-packages\\ipykernel_launcher.py:8: DeprecationWarning:\n",
      "\n",
      "time.clock has been deprecated in Python 3.3 and will be removed from Python 3.8: use time.perf_counter or time.process_time instead\n",
      "\n"
     ]
    }
   ],
   "source": [
    "df_results = batch_classify(X_train, y_train)\n",
    "print(df_results.sort_values(by='train_score', ascending=False))"
   ]
  },
  {
   "cell_type": "markdown",
   "metadata": {},
   "source": [
    "# 9.1.3 Cross Validation"
   ]
  },
  {
   "cell_type": "code",
   "execution_count": 75,
   "metadata": {},
   "outputs": [
    {
     "name": "stderr",
     "output_type": "stream",
     "text": [
      "C:\\Users\\Dell\\Anaconda3\\lib\\site-packages\\sklearn\\linear_model\\logistic.py:432: FutureWarning:\n",
      "\n",
      "Default solver will be changed to 'lbfgs' in 0.22. Specify a solver to silence this warning.\n",
      "\n",
      "C:\\Users\\Dell\\Anaconda3\\lib\\site-packages\\sklearn\\linear_model\\logistic.py:432: FutureWarning:\n",
      "\n",
      "Default solver will be changed to 'lbfgs' in 0.22. Specify a solver to silence this warning.\n",
      "\n",
      "C:\\Users\\Dell\\Anaconda3\\lib\\site-packages\\sklearn\\linear_model\\logistic.py:432: FutureWarning:\n",
      "\n",
      "Default solver will be changed to 'lbfgs' in 0.22. Specify a solver to silence this warning.\n",
      "\n",
      "C:\\Users\\Dell\\Anaconda3\\lib\\site-packages\\sklearn\\svm\\base.py:193: FutureWarning:\n",
      "\n",
      "The default value of gamma will change from 'auto' to 'scale' in version 0.22 to account better for unscaled features. Set gamma explicitly to 'auto' or 'scale' to avoid this warning.\n",
      "\n",
      "C:\\Users\\Dell\\Anaconda3\\lib\\site-packages\\sklearn\\svm\\base.py:193: FutureWarning:\n",
      "\n",
      "The default value of gamma will change from 'auto' to 'scale' in version 0.22 to account better for unscaled features. Set gamma explicitly to 'auto' or 'scale' to avoid this warning.\n",
      "\n",
      "C:\\Users\\Dell\\Anaconda3\\lib\\site-packages\\sklearn\\svm\\base.py:193: FutureWarning:\n",
      "\n",
      "The default value of gamma will change from 'auto' to 'scale' in version 0.22 to account better for unscaled features. Set gamma explicitly to 'auto' or 'scale' to avoid this warning.\n",
      "\n"
     ]
    }
   ],
   "source": [
    "from sklearn.model_selection import cross_val_score\n",
    "\n",
    "# Logistic Regression\n",
    "log_reg = LogisticRegression(class_weight='balanced')\n",
    "log_scores = cross_val_score(log_reg, X_train, y_train, cv=3)\n",
    "log_reg_mean = log_scores.mean()\n",
    "\n",
    "# SVC\n",
    "svc_clf = SVC()\n",
    "svc_scores = cross_val_score(svc_clf, X_train, y_train, cv=3)\n",
    "svc_mean = svc_scores.mean()\n",
    "\n",
    "# KNearestNeighbors\n",
    "knn_clf = KNeighborsClassifier()\n",
    "knn_scores = cross_val_score(knn_clf, X_train, y_train, cv=3)\n",
    "knn_mean = knn_scores.mean()\n",
    "\n",
    "# Decision Tree\n",
    "tree_clf = tree.DecisionTreeClassifier(class_weight='balanced')\n",
    "tree_scores = cross_val_score(tree_clf, X_train, y_train, cv=3)\n",
    "tree_mean = tree_scores.mean()\n",
    "\n",
    "# Gradient Boosting Classifier\n",
    "grad_clf = GradientBoostingClassifier(learning_rate=0.08)\n",
    "grad_scores = cross_val_score(grad_clf, X_train, y_train, cv=3)\n",
    "grad_mean = grad_scores.mean()\n",
    "\n",
    "# Random Forest Classifier\n",
    "rand_clf = RandomForestClassifier(n_estimators=18,class_weight='balanced')\n",
    "rand_scores = cross_val_score(rand_clf, X_train, y_train, cv=3)\n",
    "rand_mean = rand_scores.mean()\n",
    "\n",
    "# NeuralNet Classifier\n",
    "neural_clf = MLPClassifier(alpha=1)\n",
    "neural_scores = cross_val_score(neural_clf, X_train, y_train, cv=3)\n",
    "neural_mean = neural_scores.mean()\n",
    "\n",
    "# Naives Bayes\n",
    "nav_clf = GaussianNB()\n",
    "nav_scores = cross_val_score(nav_clf, X_train, y_train, cv=3)\n",
    "nav_mean = neural_scores.mean()\n",
    "\n",
    "#XGB\n",
    "xgb_clf  =XGBClassifier()\n",
    "xgb_scores = cross_val_score(nav_clf, X_train, y_train, cv=3)\n",
    "xgb_mean = xgb_scores.mean()\n",
    "\n",
    "# Create a Dataframe with the results.\n",
    "d = {'Classifiers': ['Logistic Reg.', 'SVC', 'KNN', 'Dec Tree', 'Grad B CLF', 'Rand FC', 'Neural Classifier', 'Naives Bayes','xgb'], \n",
    "    'Crossval Mean Scores': [log_reg_mean, svc_mean, knn_mean, tree_mean, grad_mean, rand_mean, neural_mean, nav_mean,xgb_mean]}\n",
    "\n",
    "result_df = pd.DataFrame(data=d)"
   ]
  },
  {
   "cell_type": "code",
   "execution_count": 76,
   "metadata": {},
   "outputs": [
    {
     "data": {
      "text/html": [
       "<div>\n",
       "<style scoped>\n",
       "    .dataframe tbody tr th:only-of-type {\n",
       "        vertical-align: middle;\n",
       "    }\n",
       "\n",
       "    .dataframe tbody tr th {\n",
       "        vertical-align: top;\n",
       "    }\n",
       "\n",
       "    .dataframe thead th {\n",
       "        text-align: right;\n",
       "    }\n",
       "</style>\n",
       "<table border=\"1\" class=\"dataframe\">\n",
       "  <thead>\n",
       "    <tr style=\"text-align: right;\">\n",
       "      <th></th>\n",
       "      <th>Classifiers</th>\n",
       "      <th>Crossval Mean Scores</th>\n",
       "    </tr>\n",
       "  </thead>\n",
       "  <tbody>\n",
       "    <tr>\n",
       "      <td>4</td>\n",
       "      <td>Grad B CLF</td>\n",
       "      <td>0.916813</td>\n",
       "    </tr>\n",
       "    <tr>\n",
       "      <td>6</td>\n",
       "      <td>Neural Classifier</td>\n",
       "      <td>0.912625</td>\n",
       "    </tr>\n",
       "    <tr>\n",
       "      <td>7</td>\n",
       "      <td>Naives Bayes</td>\n",
       "      <td>0.912625</td>\n",
       "    </tr>\n",
       "    <tr>\n",
       "      <td>5</td>\n",
       "      <td>Rand FC</td>\n",
       "      <td>0.906798</td>\n",
       "    </tr>\n",
       "    <tr>\n",
       "      <td>1</td>\n",
       "      <td>SVC</td>\n",
       "      <td>0.906586</td>\n",
       "    </tr>\n",
       "    <tr>\n",
       "      <td>2</td>\n",
       "      <td>KNN</td>\n",
       "      <td>0.901305</td>\n",
       "    </tr>\n",
       "    <tr>\n",
       "      <td>3</td>\n",
       "      <td>Dec Tree</td>\n",
       "      <td>0.888316</td>\n",
       "    </tr>\n",
       "    <tr>\n",
       "      <td>0</td>\n",
       "      <td>Logistic Reg.</td>\n",
       "      <td>0.862883</td>\n",
       "    </tr>\n",
       "    <tr>\n",
       "      <td>8</td>\n",
       "      <td>xgb</td>\n",
       "      <td>0.725221</td>\n",
       "    </tr>\n",
       "  </tbody>\n",
       "</table>\n",
       "</div>"
      ],
      "text/plain": [
       "         Classifiers  Crossval Mean Scores\n",
       "4         Grad B CLF              0.916813\n",
       "6  Neural Classifier              0.912625\n",
       "7       Naives Bayes              0.912625\n",
       "5            Rand FC              0.906798\n",
       "1                SVC              0.906586\n",
       "2                KNN              0.901305\n",
       "3           Dec Tree              0.888316\n",
       "0      Logistic Reg.              0.862883\n",
       "8                xgb              0.725221"
      ]
     },
     "execution_count": 76,
     "metadata": {},
     "output_type": "execute_result"
    }
   ],
   "source": [
    "# All our models perform well but I will go with GradientBoosting.\n",
    "result_df = result_df.sort_values(by=['Crossval Mean Scores'], ascending=False)\n",
    "result_df"
   ]
  },
  {
   "cell_type": "code",
   "execution_count": 77,
   "metadata": {},
   "outputs": [],
   "source": [
    "# Cross validate our Gradient Boosting Classifier\n",
    "from sklearn.model_selection import cross_val_predict\n",
    "y_train_pred = cross_val_predict(grad_clf, X_train, y_train, cv=3)"
   ]
  },
  {
   "cell_type": "code",
   "execution_count": 78,
   "metadata": {},
   "outputs": [
    {
     "name": "stdout",
     "output_type": "stream",
     "text": [
      "Gradient Boost Classifier accuracy is 0.92\n"
     ]
    }
   ],
   "source": [
    "from sklearn.metrics import accuracy_score\n",
    "grad_clf.fit(X_train, y_train)\n",
    "print (\"Gradient Boost Classifier accuracy is %2.2f\" % accuracy_score(y_train, y_train_pred))"
   ]
  },
  {
   "cell_type": "markdown",
   "metadata": {},
   "source": [
    "# 9.1.4 Confusion Matrix"
   ]
  },
  {
   "cell_type": "markdown",
   "metadata": {},
   "source": [
    "True Negatives (Top-Left Square): This is the number of correctly classifications of the \"No\" class or potential clients that are not willing to subscribe a term deposit"
   ]
  },
  {
   "cell_type": "markdown",
   "metadata": {},
   "source": [
    "False Negatives (Top-Right Square): This is the number of incorrectly classifications of the \"No\" class or potential clients that are not willing to subscribe a term deposit."
   ]
  },
  {
   "cell_type": "markdown",
   "metadata": {},
   "source": [
    "False Positives (Bottom-Left Square): This is the number of incorrectly classifications of the \"Yes\" class or potential clients that are willing to subscribe a term deposit."
   ]
  },
  {
   "cell_type": "markdown",
   "metadata": {},
   "source": [
    "True Positives (Bottom-Right Square): This is the number of correctly classifications of the \"Yes\" class or potential clients that are willing to subscribe a term deposit."
   ]
  },
  {
   "cell_type": "code",
   "execution_count": 79,
   "metadata": {},
   "outputs": [
    {
     "name": "stdout",
     "output_type": "stream",
     "text": [
      "[[28235  1003]\n",
      " [ 1738  1974]]\n"
     ]
    }
   ],
   "source": [
    "from sklearn.metrics import confusion_matrix\n",
    "confusion_matrix = confusion_matrix(y_train, y_train_pred)\n",
    "print(confusion_matrix)"
   ]
  },
  {
   "cell_type": "markdown",
   "metadata": {},
   "source": [
    "# 9.1.5 Precision and Recall"
   ]
  },
  {
   "cell_type": "code",
   "execution_count": 80,
   "metadata": {},
   "outputs": [
    {
     "name": "stdout",
     "output_type": "stream",
     "text": [
      "Precision Score:  0.6630836412495801\n",
      "Recall Score:  0.5317887931034483\n"
     ]
    }
   ],
   "source": [
    "# Let's find the scores  for precision and recall.\n",
    "from sklearn.metrics import precision_score, recall_score\n",
    "print('Precision Score: ', precision_score(y_train, y_train_pred))\n",
    "print('Recall Score: ', recall_score(y_train, y_train_pred))"
   ]
  },
  {
   "cell_type": "markdown",
   "metadata": {},
   "source": [
    "# 9.1.6 F1 Score"
   ]
  },
  {
   "cell_type": "code",
   "execution_count": 81,
   "metadata": {},
   "outputs": [
    {
     "data": {
      "text/plain": [
       "0.5902227537748542"
      ]
     },
     "execution_count": 81,
     "metadata": {},
     "output_type": "execute_result"
    }
   ],
   "source": [
    "from sklearn.metrics import f1_score\n",
    "f1_score(y_train, y_train_pred)"
   ]
  },
  {
   "cell_type": "code",
   "execution_count": 82,
   "metadata": {},
   "outputs": [
    {
     "data": {
      "text/plain": [
       "array([-5.44253306])"
      ]
     },
     "execution_count": 82,
     "metadata": {},
     "output_type": "execute_result"
    }
   ],
   "source": [
    "y_scores = grad_clf.decision_function([some_instance])\n",
    "y_scores"
   ]
  },
  {
   "cell_type": "code",
   "execution_count": 83,
   "metadata": {},
   "outputs": [],
   "source": [
    "# Increasing the threshold decreases the recall.\n",
    "threshold = -0.25\n",
    "y_some_digit_pred = (y_scores > threshold)"
   ]
  },
  {
   "cell_type": "code",
   "execution_count": 84,
   "metadata": {},
   "outputs": [],
   "source": [
    "y_scores = cross_val_predict(grad_clf, X_train, y_train, cv=3, method=\"decision_function\")\n",
    "neural_y_scores = cross_val_predict(neural_clf, X_train, y_train, cv=3, method=\"predict_proba\")\n",
    "naives_y_scores = cross_val_predict(nav_clf, X_train, y_train, cv=3, method=\"predict_proba\")"
   ]
  },
  {
   "cell_type": "code",
   "execution_count": 85,
   "metadata": {},
   "outputs": [],
   "source": [
    "if y_scores.ndim == 2:\n",
    "    y_scores = y_scores[:, 1]\n",
    "\n",
    "if neural_y_scores.ndim == 2:\n",
    "    neural_y_scores = neural_y_scores[:, 1]\n",
    "    \n",
    "if naives_y_scores.ndim == 2:\n",
    "    naives_y_scores = naives_y_scores[:, 1]"
   ]
  },
  {
   "cell_type": "code",
   "execution_count": 86,
   "metadata": {},
   "outputs": [
    {
     "data": {
      "text/plain": [
       "(32950,)"
      ]
     },
     "execution_count": 86,
     "metadata": {},
     "output_type": "execute_result"
    }
   ],
   "source": [
    "y_scores.shape"
   ]
  },
  {
   "cell_type": "markdown",
   "metadata": {},
   "source": [
    "# 9.1.7 Precision and Recall Curve"
   ]
  },
  {
   "cell_type": "markdown",
   "metadata": {},
   "source": [
    "As the precision gets higher the recall gets lower and vice versa. For instance, if we increase the precision from 30% to 60% the model is picking the predictions that the model believes is 60% sure. If there is an instance where the model believes that is 58% likely to be a potential client that will subscribe to a term deposit then the model will classify it as a \"No.\" However, that instance was actually a \"Yes\" (potential client did subscribe to a term deposit.) That is why the higher the precision the more likely the model is to miss instances that are actually a \"Yes\""
   ]
  },
  {
   "cell_type": "code",
   "execution_count": 87,
   "metadata": {},
   "outputs": [],
   "source": [
    "from sklearn.metrics import precision_recall_curve\n",
    "precisions, recalls, threshold = precision_recall_curve(y_train, y_scores)"
   ]
  },
  {
   "cell_type": "code",
   "execution_count": 88,
   "metadata": {},
   "outputs": [
    {
     "data": {
      "image/png": "[encoded data removed]",
      "text/plain": [
       "<Figure size 864x576 with 1 Axes>"
      ]
     },
     "metadata": {
      "needs_background": "light"
     },
     "output_type": "display_data"
    }
   ],
   "source": [
    "def precision_recall_curve(precisions, recalls, thresholds):\n",
    "    fig, ax = plt.subplots(figsize=(12,8))\n",
    "    plt.plot(thresholds, precisions[:-1], \"r--\", label=\"Precisions\")\n",
    "    plt.plot(thresholds, recalls[:-1], \"#424242\", label=\"Recalls\")\n",
    "    plt.title(\"Precision and Recall \\n Tradeoff\", fontsize=18)\n",
    "    plt.ylabel(\"Level of Precision and Recall\", fontsize=16)\n",
    "    plt.xlabel(\"Thresholds\", fontsize=16)\n",
    "    plt.legend(loc=\"best\", fontsize=14)\n",
    "    plt.xlim([-2, 4.7])\n",
    "    plt.ylim([0, 1])\n",
    "    plt.axvline(x=-0.25, linewidth=3, color=\"#0B3861\")\n",
    "    plt.annotate('Best Precision and \\n Recall Balance \\n is at -0.25 \\n threshold ', xy=(-0.25, 0.75), xytext=(55, -40),\n",
    "             textcoords=\"offset points\",\n",
    "            arrowprops=dict(facecolor='black', shrink=0.05),\n",
    "                fontsize=12, \n",
    "                color='k')\n",
    "    \n",
    "precision_recall_curve(precisions, recalls, threshold)\n",
    "plt.show()"
   ]
  },
  {
   "cell_type": "markdown",
   "metadata": {},
   "source": [
    "# 9.1.8 ROC Curve"
   ]
  },
  {
   "cell_type": "markdown",
   "metadata": {},
   "source": [
    "The ROC curve tells us how well our classifier is classifying between term deposit subscriptions (True Positives) and non-term deposit subscriptions. The X-axis is represented by False positive rates (Specificity) and the Y-axis is represented by the True Positive Rate (Sensitivity.) As the line moves the threshold of the classification changes giving us different values. The closer is the line to our top left corner the better is our model separating both classes."
   ]
  },
  {
   "cell_type": "code",
   "execution_count": 89,
   "metadata": {},
   "outputs": [],
   "source": [
    "from sklearn.metrics import roc_curve\n",
    "# Gradient Boosting Classifier\n",
    "# Neural Classifier\n",
    "# Naives Bayes Classifier\n",
    "grd_fpr, grd_tpr, thresold = roc_curve(y_train, y_scores)\n",
    "neu_fpr, neu_tpr, neu_threshold = roc_curve(y_train, neural_y_scores)\n",
    "nav_fpr, nav_tpr, nav_threshold = roc_curve(y_train, naives_y_scores)"
   ]
  },
  {
   "cell_type": "code",
   "execution_count": 90,
   "metadata": {},
   "outputs": [
    {
     "data": {
      "image/png": "[encoded data removed]",
      "text/plain": [
       "<Figure size 720x432 with 1 Axes>"
      ]
     },
     "metadata": {
      "needs_background": "light"
     },
     "output_type": "display_data"
    }
   ],
   "source": [
    "def graph_roc_curve(false_positive_rate, true_positive_rate, label=None):\n",
    "    plt.figure(figsize=(10,6))\n",
    "    plt.title('ROC Curve \\n Gradient Boosting Classifier', fontsize=18)\n",
    "    plt.plot(false_positive_rate, true_positive_rate, label=label)\n",
    "    plt.plot([0, 1], [0, 1], '#0C8EE0')\n",
    "    plt.axis([0, 1, 0, 1])\n",
    "    plt.xlabel('False Positive Rate', fontsize=16)\n",
    "    plt.ylabel('True Positive Rate', fontsize=16)\n",
    "    plt.annotate('ROC Score of 92% \\n (the best score)', xy=(0.25, 0.9), xytext=(0.4, 0.85),\n",
    "            arrowprops=dict(facecolor='#F75118', shrink=0.05),\n",
    "            )\n",
    "    plt.annotate('Minimum ROC Score of 50% \\n (This is the minimum score to get)', xy=(0.5, 0.5), xytext=(0.6, 0.3),\n",
    "                arrowprops=dict(facecolor='#F75118', shrink=0.05),\n",
    "                )\n",
    "    \n",
    "    \n",
    "graph_roc_curve(grd_fpr, grd_tpr, threshold)\n",
    "plt.show()"
   ]
  },
  {
   "cell_type": "code",
   "execution_count": 91,
   "metadata": {},
   "outputs": [
    {
     "name": "stdout",
     "output_type": "stream",
     "text": [
      "Gradient Boost Classifier Score:  0.9457099147366087\n",
      "Neural Classifier Score:  0.9392935721787425\n",
      "Naives Bayes Classifier:  0.8382407216576916\n"
     ]
    }
   ],
   "source": [
    "from sklearn.metrics import roc_auc_score\n",
    "\n",
    "print('Gradient Boost Classifier Score: ', roc_auc_score(y_train, y_scores))\n",
    "print('Neural Classifier Score: ', roc_auc_score(y_train, neural_y_scores))\n",
    "print('Naives Bayes Classifier: ', roc_auc_score(y_train, naives_y_scores))\n"
   ]
  },
  {
   "cell_type": "code",
   "execution_count": 92,
   "metadata": {},
   "outputs": [
    {
     "data": {
      "image/png": "[encoded data removed]",
      "text/plain": [
       "<Figure size 576x432 with 1 Axes>"
      ]
     },
     "metadata": {
      "needs_background": "light"
     },
     "output_type": "display_data"
    }
   ],
   "source": [
    "def graph_roc_curve_multiple(grd_fpr, grd_tpr, neu_fpr, neu_tpr, nav_fpr, nav_tpr):\n",
    "    plt.figure(figsize=(8,6))\n",
    "    plt.title('ROC Curve \\n Top 3 Classifiers', fontsize=18)\n",
    "    plt.plot(grd_fpr, grd_tpr, label='Gradient Boosting Classifier (Score = 94.56%)')\n",
    "    plt.plot(neu_fpr, neu_tpr, label='Neural Classifier (Score = 93.91%)')\n",
    "    plt.plot(nav_fpr, nav_tpr, label='Naives Bayes Classifier (Score = 83.82%)')\n",
    "    plt.plot([0, 1], [0, 1], 'k--')\n",
    "    plt.axis([0, 1, 0, 1])\n",
    "    plt.xlabel('False Positive Rate', fontsize=16)\n",
    "    plt.ylabel('True Positive Rate', fontsize=16)\n",
    "    plt.annotate('Minimum ROC Score of 50% \\n (This is the minimum score to get)', xy=(0.5, 0.5), xytext=(0.6, 0.3),\n",
    "                arrowprops=dict(facecolor='#6E726D', shrink=0.05),\n",
    "                )\n",
    "    plt.legend()\n",
    "    \n",
    "graph_roc_curve_multiple(grd_fpr, grd_tpr, neu_fpr, neu_tpr, nav_fpr, nav_tpr)\n",
    "plt.show()\n"
   ]
  },
  {
   "cell_type": "markdown",
   "metadata": {},
   "source": [
    "# 9.2 Feature Importance "
   ]
  },
  {
   "cell_type": "code",
   "execution_count": 93,
   "metadata": {},
   "outputs": [
    {
     "name": "stdout",
     "output_type": "stream",
     "text": [
      "Feature ranking:\n",
      "1. feature 18 (0.664718)\n",
      "2. feature 16 (0.136105)\n",
      "3. feature 17 (0.071672)\n",
      "4. feature 15 (0.038335)\n",
      "5. feature 9 (0.020166)\n",
      "6. feature 11 (0.015605)\n",
      "7. feature 0 (0.013928)\n",
      "8. feature 10 (0.009485)\n",
      "9. feature 1 (0.005793)\n",
      "10. feature 3 (0.005697)\n",
      "11. feature 7 (0.004449)\n",
      "12. feature 5 (0.004228)\n",
      "13. feature 13 (0.004149)\n",
      "14. feature 2 (0.002269)\n",
      "15. feature 12 (0.002095)\n",
      "16. feature 4 (0.000893)\n",
      "17. feature 8 (0.000413)\n",
      "18. feature 14 (0.000000)\n",
      "19. feature 6 (0.000000)\n"
     ]
    },
    {
     "data": {
      "image/png": "[encoded data removed]",
      "text/plain": [
       "<Figure size 864x432 with 1 Axes>"
      ]
     },
     "metadata": {},
     "output_type": "display_data"
    }
   ],
   "source": [
    "import numpy as np\n",
    "import matplotlib.pyplot as plt\n",
    "from sklearn import tree\n",
    "from sklearn.model_selection import train_test_split\n",
    "from sklearn.tree import DecisionTreeClassifier\n",
    "plt.style.use('seaborn-white')\n",
    "term_deposits=term_deposits.drop(columns=['duration'])\n",
    "# Convert the columns into categorical variables\n",
    "term_deposits['job'] = term_deposits['job'].astype('category').cat.codes\n",
    "term_deposits['marital'] = term_deposits['marital'].astype('category').cat.codes\n",
    "term_deposits['education'] = term_deposits['education'].astype('category').cat.codes\n",
    "term_deposits['contact'] = term_deposits['contact'].astype('category').cat.codes\n",
    "term_deposits['poutcome'] = term_deposits['poutcome'].astype('category').cat.codes\n",
    "term_deposits['month'] = term_deposits['month'].astype('category').cat.codes\n",
    "term_deposits['default'] = term_deposits['default'].astype('category').cat.codes\n",
    "term_deposits['loan'] = term_deposits['loan'].astype('category').cat.codes\n",
    "term_deposits['housing'] = term_deposits['housing'].astype('category').cat.codes\n",
    "term_deposits['day_of_week'] = term_deposits['day_of_week'].astype('category').cat.codes\n",
    "term_deposits['balance_status'] = term_deposits['balance_status'].astype('category').cat.codes\n",
    "\n",
    "# Let's create new splittings like before but now we modified the data so we need to do it one more time.\n",
    "# Create train and test splits\n",
    "target_name = 'y'\n",
    "X = term_deposits.drop('y', axis=1)\n",
    "\n",
    "\n",
    "label=term_deposits[target_name]\n",
    "\n",
    "X_train, X_test, y_train, y_test = train_test_split(X,label,test_size=0.2, random_state=42, stratify=label)\n",
    "\n",
    "# Build a classification task using 3 informative features\n",
    "tree = tree.DecisionTreeClassifier(\n",
    "    class_weight='balanced',\n",
    "    min_weight_fraction_leaf = 0.01\n",
    "    \n",
    ")\n",
    "\n",
    "\n",
    "\n",
    "tree = tree.fit(X_train, y_train)\n",
    "importances = tree.feature_importances_\n",
    "feature_names = term_deposits.drop('y', axis=1).columns\n",
    "indices = np.argsort(importances)[::-1]\n",
    "\n",
    "# Print the feature ranking\n",
    "print(\"Feature ranking:\")\n",
    "\n",
    "for f in range(X_train.shape[1]):\n",
    "    print(\"%d. feature %d (%f)\" % (f + 1, indices[f], importances[indices[f]]))\n",
    "\n",
    "# Plot the feature importances of the forest\n",
    "def feature_importance_graph(indices, importances, feature_names):\n",
    "    plt.figure(figsize=(12,6))\n",
    "    plt.title(\"Determining Feature importances \\n with DecisionTreeClassifier\", fontsize=18)\n",
    "    plt.barh(range(len(indices)), importances[indices], color='#31B173',  align=\"center\")\n",
    "    plt.yticks(range(len(indices)), feature_names[indices], rotation='horizontal',fontsize=14)\n",
    "    plt.ylim([-1, len(indices)])\n",
    "feature_importance_graph(indices, importances, feature_names)\n",
    "plt.show()"
   ]
  },
  {
   "cell_type": "code",
   "execution_count": 94,
   "metadata": {},
   "outputs": [
    {
     "data": {
      "text/plain": [
       "Index(['age', 'job', 'marital', 'education', 'default', 'housing', 'loan',\n",
       "       'contact', 'month', 'day_of_week', 'duration', 'campaign', 'pdays',\n",
       "       'previous', 'poutcome', 'emp.var.rate', 'cons.price.idx',\n",
       "       'cons.conf.idx', 'euribor3m', 'nr.employed', 'y', 'age_bins', 'balance',\n",
       "       'balance_status'],\n",
       "      dtype='object')"
      ]
     },
     "execution_count": 94,
     "metadata": {},
     "output_type": "execute_result"
    }
   ],
   "source": [
    "df.columns"
   ]
  },
  {
   "cell_type": "code",
   "execution_count": 95,
   "metadata": {},
   "outputs": [
    {
     "data": {
      "text/plain": [
       "age                  int64\n",
       "job                 object\n",
       "marital             object\n",
       "education           object\n",
       "default             object\n",
       "housing             object\n",
       "loan                object\n",
       "contact             object\n",
       "month               object\n",
       "day_of_week         object\n",
       "duration             int64\n",
       "campaign             int64\n",
       "pdays                int64\n",
       "previous             int64\n",
       "poutcome            object\n",
       "emp.var.rate       float64\n",
       "cons.price.idx     float64\n",
       "cons.conf.idx      float64\n",
       "euribor3m          float64\n",
       "nr.employed        float64\n",
       "y                   object\n",
       "age_bins          category\n",
       "balance            float64\n",
       "balance_status      object\n",
       "dtype: object"
      ]
     },
     "execution_count": 95,
     "metadata": {},
     "output_type": "execute_result"
    }
   ],
   "source": [
    "df.dtypes"
   ]
  },
  {
   "cell_type": "markdown",
   "metadata": {},
   "source": [
    "# 10.0 Final Model For Submission with the Top Feature"
   ]
  },
  {
   "cell_type": "markdown",
   "metadata": {},
   "source": [
    "Encoding"
   ]
  },
  {
   "cell_type": "code",
   "execution_count": 96,
   "metadata": {},
   "outputs": [],
   "source": [
    "from sklearn.preprocessing import LabelEncoder, OneHotEncoder"
   ]
  },
  {
   "cell_type": "code",
   "execution_count": 97,
   "metadata": {},
   "outputs": [],
   "source": [
    "education_dummies=pd.get_dummies(df.education,prefix = \"education\")"
   ]
  },
  {
   "cell_type": "code",
   "execution_count": 98,
   "metadata": {},
   "outputs": [],
   "source": [
    "df = pd.concat([df,education_dummies],axis = 1)"
   ]
  },
  {
   "cell_type": "code",
   "execution_count": 99,
   "metadata": {},
   "outputs": [],
   "source": [
    "job_dummies =pd.get_dummies(df.job,prefix='job')"
   ]
  },
  {
   "cell_type": "code",
   "execution_count": 100,
   "metadata": {},
   "outputs": [],
   "source": [
    "df =pd.concat([df,job_dummies],axis=1)"
   ]
  },
  {
   "cell_type": "code",
   "execution_count": 101,
   "metadata": {},
   "outputs": [],
   "source": [
    "week_day=pd.get_dummies(df.day_of_week,prefix='day')"
   ]
  },
  {
   "cell_type": "code",
   "execution_count": 102,
   "metadata": {},
   "outputs": [],
   "source": [
    "df =pd.concat([df,week_day],axis=1)"
   ]
  },
  {
   "cell_type": "code",
   "execution_count": 103,
   "metadata": {},
   "outputs": [],
   "source": [
    "agebins=pd.get_dummies(df.age_bins,prefix='age')"
   ]
  },
  {
   "cell_type": "code",
   "execution_count": 104,
   "metadata": {},
   "outputs": [],
   "source": [
    "df =pd.concat([df,agebins],axis=1)"
   ]
  },
  {
   "cell_type": "code",
   "execution_count": 105,
   "metadata": {},
   "outputs": [],
   "source": [
    "marital=pd.get_dummies(df.marital,prefix='marital')"
   ]
  },
  {
   "cell_type": "code",
   "execution_count": 106,
   "metadata": {},
   "outputs": [],
   "source": [
    "df =pd.concat([df,marital],axis=1)"
   ]
  },
  {
   "cell_type": "code",
   "execution_count": 107,
   "metadata": {},
   "outputs": [],
   "source": [
    "default=pd.get_dummies(df.default,prefix='default')"
   ]
  },
  {
   "cell_type": "code",
   "execution_count": 108,
   "metadata": {},
   "outputs": [],
   "source": [
    "df = pd.concat([df,default],axis=1)"
   ]
  },
  {
   "cell_type": "code",
   "execution_count": 109,
   "metadata": {},
   "outputs": [],
   "source": [
    "housing=pd.get_dummies(df.housing,prefix='housing')"
   ]
  },
  {
   "cell_type": "code",
   "execution_count": 110,
   "metadata": {},
   "outputs": [],
   "source": [
    "df=pd.concat([df,housing],axis=1)"
   ]
  },
  {
   "cell_type": "code",
   "execution_count": 111,
   "metadata": {},
   "outputs": [],
   "source": [
    "loan=pd.get_dummies(df.loan,prefix='loan')"
   ]
  },
  {
   "cell_type": "code",
   "execution_count": 112,
   "metadata": {},
   "outputs": [],
   "source": [
    "df=pd.concat([df,loan],axis=1)"
   ]
  },
  {
   "cell_type": "code",
   "execution_count": 113,
   "metadata": {},
   "outputs": [],
   "source": [
    "contact = pd.get_dummies(df.contact,prefix='contact')"
   ]
  },
  {
   "cell_type": "code",
   "execution_count": 114,
   "metadata": {},
   "outputs": [],
   "source": [
    "df=pd.concat([df,contact],axis=1)"
   ]
  },
  {
   "cell_type": "code",
   "execution_count": 115,
   "metadata": {},
   "outputs": [],
   "source": [
    "month=pd.get_dummies(df.month,prefix='month')"
   ]
  },
  {
   "cell_type": "code",
   "execution_count": 116,
   "metadata": {},
   "outputs": [],
   "source": [
    "df=pd.concat([df,month],axis=1)"
   ]
  },
  {
   "cell_type": "code",
   "execution_count": 117,
   "metadata": {},
   "outputs": [],
   "source": [
    "balancestatus=pd.get_dummies(df.balance_status,prefix='balance')"
   ]
  },
  {
   "cell_type": "code",
   "execution_count": 118,
   "metadata": {},
   "outputs": [],
   "source": [
    "df=pd.concat([df,balancestatus],axis=1)"
   ]
  },
  {
   "cell_type": "code",
   "execution_count": 119,
   "metadata": {},
   "outputs": [],
   "source": [
    "outcome=pd.get_dummies(df.poutcome,prefix='outcome')"
   ]
  },
  {
   "cell_type": "code",
   "execution_count": 120,
   "metadata": {},
   "outputs": [],
   "source": [
    "df=pd.concat([df,outcome],axis=1)"
   ]
  },
  {
   "cell_type": "code",
   "execution_count": 121,
   "metadata": {},
   "outputs": [],
   "source": [
    "df=df.drop(columns=['education','job','day_of_week'])"
   ]
  },
  {
   "cell_type": "code",
   "execution_count": 122,
   "metadata": {},
   "outputs": [],
   "source": [
    "df=df.drop(columns=['age','age_bins','marital','default','housing','loan','contact','month'])"
   ]
  },
  {
   "cell_type": "code",
   "execution_count": 123,
   "metadata": {},
   "outputs": [],
   "source": [
    "df=df.drop(columns=['balance_status','balance'])"
   ]
  },
  {
   "cell_type": "code",
   "execution_count": 124,
   "metadata": {},
   "outputs": [],
   "source": [
    "df=df.drop(columns=['poutcome'])"
   ]
  },
  {
   "cell_type": "code",
   "execution_count": 125,
   "metadata": {},
   "outputs": [],
   "source": [
    "df=df.drop(columns=['duration'])"
   ]
  },
  {
   "cell_type": "code",
   "execution_count": 126,
   "metadata": {},
   "outputs": [],
   "source": [
    "data_final_vars=df.columns.values.tolist()"
   ]
  },
  {
   "cell_type": "code",
   "execution_count": 127,
   "metadata": {},
   "outputs": [],
   "source": [
    "y=['y']\n",
    "X=[i for i in data_final_vars if i not in y]"
   ]
  },
  {
   "cell_type": "code",
   "execution_count": 128,
   "metadata": {},
   "outputs": [
    {
     "name": "stderr",
     "output_type": "stream",
     "text": [
      "C:\\Users\\Dell\\Anaconda3\\lib\\site-packages\\sklearn\\utils\\validation.py:724: DataConversionWarning:\n",
      "\n",
      "A column-vector y was passed when a 1d array was expected. Please change the shape of y to (n_samples, ), for example using ravel().\n",
      "\n",
      "C:\\Users\\Dell\\Anaconda3\\lib\\site-packages\\sklearn\\linear_model\\logistic.py:432: FutureWarning:\n",
      "\n",
      "Default solver will be changed to 'lbfgs' in 0.22. Specify a solver to silence this warning.\n",
      "\n",
      "C:\\Users\\Dell\\Anaconda3\\lib\\site-packages\\sklearn\\linear_model\\logistic.py:432: FutureWarning:\n",
      "\n",
      "Default solver will be changed to 'lbfgs' in 0.22. Specify a solver to silence this warning.\n",
      "\n",
      "C:\\Users\\Dell\\Anaconda3\\lib\\site-packages\\sklearn\\linear_model\\logistic.py:432: FutureWarning:\n",
      "\n",
      "Default solver will be changed to 'lbfgs' in 0.22. Specify a solver to silence this warning.\n",
      "\n",
      "C:\\Users\\Dell\\Anaconda3\\lib\\site-packages\\sklearn\\linear_model\\logistic.py:432: FutureWarning:\n",
      "\n",
      "Default solver will be changed to 'lbfgs' in 0.22. Specify a solver to silence this warning.\n",
      "\n",
      "C:\\Users\\Dell\\Anaconda3\\lib\\site-packages\\sklearn\\linear_model\\logistic.py:432: FutureWarning:\n",
      "\n",
      "Default solver will be changed to 'lbfgs' in 0.22. Specify a solver to silence this warning.\n",
      "\n",
      "C:\\Users\\Dell\\Anaconda3\\lib\\site-packages\\sklearn\\linear_model\\logistic.py:432: FutureWarning:\n",
      "\n",
      "Default solver will be changed to 'lbfgs' in 0.22. Specify a solver to silence this warning.\n",
      "\n",
      "C:\\Users\\Dell\\Anaconda3\\lib\\site-packages\\sklearn\\linear_model\\logistic.py:432: FutureWarning:\n",
      "\n",
      "Default solver will be changed to 'lbfgs' in 0.22. Specify a solver to silence this warning.\n",
      "\n",
      "C:\\Users\\Dell\\Anaconda3\\lib\\site-packages\\sklearn\\linear_model\\logistic.py:432: FutureWarning:\n",
      "\n",
      "Default solver will be changed to 'lbfgs' in 0.22. Specify a solver to silence this warning.\n",
      "\n",
      "C:\\Users\\Dell\\Anaconda3\\lib\\site-packages\\sklearn\\linear_model\\logistic.py:432: FutureWarning:\n",
      "\n",
      "Default solver will be changed to 'lbfgs' in 0.22. Specify a solver to silence this warning.\n",
      "\n",
      "C:\\Users\\Dell\\Anaconda3\\lib\\site-packages\\sklearn\\linear_model\\logistic.py:432: FutureWarning:\n",
      "\n",
      "Default solver will be changed to 'lbfgs' in 0.22. Specify a solver to silence this warning.\n",
      "\n",
      "C:\\Users\\Dell\\Anaconda3\\lib\\site-packages\\sklearn\\linear_model\\logistic.py:432: FutureWarning:\n",
      "\n",
      "Default solver will be changed to 'lbfgs' in 0.22. Specify a solver to silence this warning.\n",
      "\n",
      "C:\\Users\\Dell\\Anaconda3\\lib\\site-packages\\sklearn\\linear_model\\logistic.py:432: FutureWarning:\n",
      "\n",
      "Default solver will be changed to 'lbfgs' in 0.22. Specify a solver to silence this warning.\n",
      "\n",
      "C:\\Users\\Dell\\Anaconda3\\lib\\site-packages\\sklearn\\linear_model\\logistic.py:432: FutureWarning:\n",
      "\n",
      "Default solver will be changed to 'lbfgs' in 0.22. Specify a solver to silence this warning.\n",
      "\n",
      "C:\\Users\\Dell\\Anaconda3\\lib\\site-packages\\sklearn\\linear_model\\logistic.py:432: FutureWarning:\n",
      "\n",
      "Default solver will be changed to 'lbfgs' in 0.22. Specify a solver to silence this warning.\n",
      "\n",
      "C:\\Users\\Dell\\Anaconda3\\lib\\site-packages\\sklearn\\linear_model\\logistic.py:432: FutureWarning:\n",
      "\n",
      "Default solver will be changed to 'lbfgs' in 0.22. Specify a solver to silence this warning.\n",
      "\n",
      "C:\\Users\\Dell\\Anaconda3\\lib\\site-packages\\sklearn\\linear_model\\logistic.py:432: FutureWarning:\n",
      "\n",
      "Default solver will be changed to 'lbfgs' in 0.22. Specify a solver to silence this warning.\n",
      "\n",
      "C:\\Users\\Dell\\Anaconda3\\lib\\site-packages\\sklearn\\linear_model\\logistic.py:432: FutureWarning:\n",
      "\n",
      "Default solver will be changed to 'lbfgs' in 0.22. Specify a solver to silence this warning.\n",
      "\n",
      "C:\\Users\\Dell\\Anaconda3\\lib\\site-packages\\sklearn\\linear_model\\logistic.py:432: FutureWarning:\n",
      "\n",
      "Default solver will be changed to 'lbfgs' in 0.22. Specify a solver to silence this warning.\n",
      "\n",
      "C:\\Users\\Dell\\Anaconda3\\lib\\site-packages\\sklearn\\linear_model\\logistic.py:432: FutureWarning:\n",
      "\n",
      "Default solver will be changed to 'lbfgs' in 0.22. Specify a solver to silence this warning.\n",
      "\n",
      "C:\\Users\\Dell\\Anaconda3\\lib\\site-packages\\sklearn\\linear_model\\logistic.py:432: FutureWarning:\n",
      "\n",
      "Default solver will be changed to 'lbfgs' in 0.22. Specify a solver to silence this warning.\n",
      "\n",
      "C:\\Users\\Dell\\Anaconda3\\lib\\site-packages\\sklearn\\linear_model\\logistic.py:432: FutureWarning:\n",
      "\n",
      "Default solver will be changed to 'lbfgs' in 0.22. Specify a solver to silence this warning.\n",
      "\n",
      "C:\\Users\\Dell\\Anaconda3\\lib\\site-packages\\sklearn\\linear_model\\logistic.py:432: FutureWarning:\n",
      "\n",
      "Default solver will be changed to 'lbfgs' in 0.22. Specify a solver to silence this warning.\n",
      "\n",
      "C:\\Users\\Dell\\Anaconda3\\lib\\site-packages\\sklearn\\linear_model\\logistic.py:432: FutureWarning:\n",
      "\n",
      "Default solver will be changed to 'lbfgs' in 0.22. Specify a solver to silence this warning.\n",
      "\n",
      "C:\\Users\\Dell\\Anaconda3\\lib\\site-packages\\sklearn\\linear_model\\logistic.py:432: FutureWarning:\n",
      "\n",
      "Default solver will be changed to 'lbfgs' in 0.22. Specify a solver to silence this warning.\n",
      "\n",
      "C:\\Users\\Dell\\Anaconda3\\lib\\site-packages\\sklearn\\linear_model\\logistic.py:432: FutureWarning:\n",
      "\n",
      "Default solver will be changed to 'lbfgs' in 0.22. Specify a solver to silence this warning.\n",
      "\n",
      "C:\\Users\\Dell\\Anaconda3\\lib\\site-packages\\sklearn\\linear_model\\logistic.py:432: FutureWarning:\n",
      "\n",
      "Default solver will be changed to 'lbfgs' in 0.22. Specify a solver to silence this warning.\n",
      "\n",
      "C:\\Users\\Dell\\Anaconda3\\lib\\site-packages\\sklearn\\linear_model\\logistic.py:432: FutureWarning:\n",
      "\n",
      "Default solver will be changed to 'lbfgs' in 0.22. Specify a solver to silence this warning.\n",
      "\n",
      "C:\\Users\\Dell\\Anaconda3\\lib\\site-packages\\sklearn\\linear_model\\logistic.py:432: FutureWarning:\n",
      "\n",
      "Default solver will be changed to 'lbfgs' in 0.22. Specify a solver to silence this warning.\n",
      "\n",
      "C:\\Users\\Dell\\Anaconda3\\lib\\site-packages\\sklearn\\linear_model\\logistic.py:432: FutureWarning:\n",
      "\n",
      "Default solver will be changed to 'lbfgs' in 0.22. Specify a solver to silence this warning.\n",
      "\n",
      "C:\\Users\\Dell\\Anaconda3\\lib\\site-packages\\sklearn\\linear_model\\logistic.py:432: FutureWarning:\n",
      "\n",
      "Default solver will be changed to 'lbfgs' in 0.22. Specify a solver to silence this warning.\n",
      "\n",
      "C:\\Users\\Dell\\Anaconda3\\lib\\site-packages\\sklearn\\linear_model\\logistic.py:432: FutureWarning:\n",
      "\n",
      "Default solver will be changed to 'lbfgs' in 0.22. Specify a solver to silence this warning.\n",
      "\n",
      "C:\\Users\\Dell\\Anaconda3\\lib\\site-packages\\sklearn\\linear_model\\logistic.py:432: FutureWarning:\n",
      "\n",
      "Default solver will be changed to 'lbfgs' in 0.22. Specify a solver to silence this warning.\n",
      "\n",
      "C:\\Users\\Dell\\Anaconda3\\lib\\site-packages\\sklearn\\linear_model\\logistic.py:432: FutureWarning:\n",
      "\n",
      "Default solver will be changed to 'lbfgs' in 0.22. Specify a solver to silence this warning.\n",
      "\n",
      "C:\\Users\\Dell\\Anaconda3\\lib\\site-packages\\sklearn\\linear_model\\logistic.py:432: FutureWarning:\n",
      "\n",
      "Default solver will be changed to 'lbfgs' in 0.22. Specify a solver to silence this warning.\n",
      "\n",
      "C:\\Users\\Dell\\Anaconda3\\lib\\site-packages\\sklearn\\linear_model\\logistic.py:432: FutureWarning:\n",
      "\n",
      "Default solver will be changed to 'lbfgs' in 0.22. Specify a solver to silence this warning.\n",
      "\n",
      "C:\\Users\\Dell\\Anaconda3\\lib\\site-packages\\sklearn\\linear_model\\logistic.py:432: FutureWarning:\n",
      "\n",
      "Default solver will be changed to 'lbfgs' in 0.22. Specify a solver to silence this warning.\n",
      "\n",
      "C:\\Users\\Dell\\Anaconda3\\lib\\site-packages\\sklearn\\linear_model\\logistic.py:432: FutureWarning:\n",
      "\n",
      "Default solver will be changed to 'lbfgs' in 0.22. Specify a solver to silence this warning.\n",
      "\n",
      "C:\\Users\\Dell\\Anaconda3\\lib\\site-packages\\sklearn\\linear_model\\logistic.py:432: FutureWarning:\n",
      "\n",
      "Default solver will be changed to 'lbfgs' in 0.22. Specify a solver to silence this warning.\n",
      "\n",
      "C:\\Users\\Dell\\Anaconda3\\lib\\site-packages\\sklearn\\linear_model\\logistic.py:432: FutureWarning:\n",
      "\n",
      "Default solver will be changed to 'lbfgs' in 0.22. Specify a solver to silence this warning.\n",
      "\n",
      "C:\\Users\\Dell\\Anaconda3\\lib\\site-packages\\sklearn\\linear_model\\logistic.py:432: FutureWarning:\n",
      "\n",
      "Default solver will be changed to 'lbfgs' in 0.22. Specify a solver to silence this warning.\n",
      "\n",
      "C:\\Users\\Dell\\Anaconda3\\lib\\site-packages\\sklearn\\linear_model\\logistic.py:432: FutureWarning:\n",
      "\n",
      "Default solver will be changed to 'lbfgs' in 0.22. Specify a solver to silence this warning.\n",
      "\n",
      "C:\\Users\\Dell\\Anaconda3\\lib\\site-packages\\sklearn\\linear_model\\logistic.py:432: FutureWarning:\n",
      "\n",
      "Default solver will be changed to 'lbfgs' in 0.22. Specify a solver to silence this warning.\n",
      "\n"
     ]
    },
    {
     "name": "stderr",
     "output_type": "stream",
     "text": [
      "C:\\Users\\Dell\\Anaconda3\\lib\\site-packages\\sklearn\\linear_model\\logistic.py:432: FutureWarning:\n",
      "\n",
      "Default solver will be changed to 'lbfgs' in 0.22. Specify a solver to silence this warning.\n",
      "\n",
      "C:\\Users\\Dell\\Anaconda3\\lib\\site-packages\\sklearn\\linear_model\\logistic.py:432: FutureWarning:\n",
      "\n",
      "Default solver will be changed to 'lbfgs' in 0.22. Specify a solver to silence this warning.\n",
      "\n"
     ]
    },
    {
     "name": "stdout",
     "output_type": "stream",
     "text": [
      "[False False False False False False  True False False False  True  True\n",
      " False False False False False False False  True False False False False\n",
      " False False False False False False False  True  True False False False\n",
      " False False False False False False  True False False  True  True False\n",
      " False  True  True False  True False False  True  True  True  True  True\n",
      "  True]\n",
      "[18 39 12 33 34 25  1 36  2 41  1  1  9 31 38 17 13 44 10  1 26 30 14  3\n",
      " 28 27 11 42 32  7 29  1  1 15 21 35 37 43 16 23 24 22  1  6  5  1  1  4\n",
      " 20  1  1  8  1 40 19  1  1  1  1  1  1]\n"
     ]
    }
   ],
   "source": [
    "from sklearn.feature_selection import RFE\n",
    "from sklearn.linear_model import LogisticRegression\n",
    "logreg = LogisticRegression()\n",
    "rfe = RFE(logreg, 18)\n",
    "rfe = rfe.fit(df[X], df[y] )\n",
    "print(rfe.support_)\n",
    "print(rfe.ranking_)"
   ]
  },
  {
   "cell_type": "markdown",
   "metadata": {},
   "source": [
    "The Recursive Feature Elimination (RFE) has helped us select the following features: 'campaign', 'pdays', 'emp.var.rate', 'cons.price.idx', 'cons.conf.idx',  'euribor3m', 'nr.employed', 'balance', 'education_UG', 'education_basic4-9y', 'job_blue-collar', 'age_(18, 30]', 'age_(30, 49]', 'marital_single','contact_cellular','contact_telephone',\n",
    "'month_may', 'balance_middle'"
   ]
  },
  {
   "cell_type": "code",
   "execution_count": 131,
   "metadata": {},
   "outputs": [],
   "source": [
    "cols=[ 'campaign', 'pdays', 'emp.var.rate', 'cons.price.idx', \n",
    "      'cons.conf.idx', 'euribor3m', 'nr.employed',  \n",
    "      'education_UG', 'education_basic4-9y', 'job_blue-collar', \n",
    "      'age_(18, 30]', 'age_(30, 49]', 'marital_single','contact_cellular',\n",
    "      'contact_telephone', 'month_may', 'balance_middle'] \n",
    "X=df[cols]\n",
    "y=df['y']\n"
   ]
  },
  {
   "cell_type": "code",
   "execution_count": 1,
   "metadata": {},
   "outputs": [
    {
     "ename": "NameError",
     "evalue": "name 'train_test_split' is not defined",
     "output_type": "error",
     "traceback": [
      "\u001b[1;31m---------------------------------------------------------------------------\u001b[0m",
      "\u001b[1;31mNameError\u001b[0m                                 Traceback (most recent call last)",
      "\u001b[1;32m~\\AppData\\Local\\Temp\\2/ipykernel_21116/1338184890.py\u001b[0m in \u001b[0;36m<module>\u001b[1;34m\u001b[0m\n\u001b[1;32m----> 1\u001b[1;33m \u001b[0m_train\u001b[0m\u001b[1;33m,\u001b[0m \u001b[0my_test\u001b[0m \u001b[1;33m=\u001b[0m \u001b[0mtrain_test_split\u001b[0m\u001b[1;33m(\u001b[0m\u001b[0mX\u001b[0m\u001b[1;33m,\u001b[0m \u001b[0my\u001b[0m\u001b[1;33m,\u001b[0m \u001b[0mtest_size\u001b[0m\u001b[1;33m=\u001b[0m\u001b[1;36m0.3\u001b[0m\u001b[1;33m,\u001b[0m \u001b[0mrandom_state\u001b[0m\u001b[1;33m=\u001b[0m\u001b[1;36m0\u001b[0m\u001b[1;33m)\u001b[0m\u001b[1;33m\u001b[0m\u001b[1;33m\u001b[0m\u001b[0m\n\u001b[0m\u001b[0;32m      2\u001b[0m \u001b[1;32mfrom\u001b[0m \u001b[0msklearn\u001b[0m\u001b[1;33m.\u001b[0m\u001b[0mlinear_model\u001b[0m \u001b[1;32mimport\u001b[0m \u001b[0mLogisticRegression\u001b[0m\u001b[1;33m\u001b[0m\u001b[1;33m\u001b[0m\u001b[0m\n\u001b[0;32m      3\u001b[0m \u001b[1;32mfrom\u001b[0m \u001b[0msklearn\u001b[0m\u001b[1;33m.\u001b[0m\u001b[0mensemble\u001b[0m \u001b[1;32mimport\u001b[0m \u001b[0mGradientBoostingClassifier\u001b[0m\u001b[1;33m\u001b[0m\u001b[1;33m\u001b[0m\u001b[0m\n\u001b[0;32m      4\u001b[0m \u001b[1;32mfrom\u001b[0m \u001b[0msklearn\u001b[0m \u001b[1;32mimport\u001b[0m \u001b[0mmetrics\u001b[0m\u001b[1;33m\u001b[0m\u001b[1;33m\u001b[0m\u001b[0m\n\u001b[0;32m      5\u001b[0m \u001b[0mgrad_clf\u001b[0m \u001b[1;33m=\u001b[0m \u001b[0mGradientBoostinX_train\u001b[0m\u001b[1;33m,\u001b[0m \u001b[0mX_test\u001b[0m\u001b[1;33m,\u001b[0m \u001b[0mygClassifier\u001b[0m\u001b[1;33m(\u001b[0m\u001b[0mlearning_rate\u001b[0m\u001b[1;33m=\u001b[0m\u001b[1;36m0.08\u001b[0m\u001b[1;33m)\u001b[0m\u001b[1;33m\u001b[0m\u001b[1;33m\u001b[0m\u001b[0m\n",
      "\u001b[1;31mNameError\u001b[0m: name 'train_test_split' is not defined"
     ]
    }
   ],
   "source": [
    "_train, y_test = train_test_split(X, y, test_size=0.3, random_state=0)\n",
    "from sklearn.linear_model import LogisticRegression\n",
    "from sklearn.ensemble import GradientBoostingClassifier\n",
    "from sklearn import metrics\n",
    "grad_clf = GradientBoostinX_train, X_test, ygClassifier(learning_rate=0.08)\n",
    "grad_clf.fit(X_train, y_train)"
   ]
  },
  {
   "cell_type": "code",
   "execution_count": 133,
   "metadata": {},
   "outputs": [],
   "source": [
    "y_pred = grad_clf.predict(X_test)"
   ]
  },
  {
   "cell_type": "code",
   "execution_count": 139,
   "metadata": {},
   "outputs": [
    {
     "name": "stdout",
     "output_type": "stream",
     "text": [
      "Accuracy of Gradient boosting classifier on train set: 0.90\n"
     ]
    }
   ],
   "source": [
    "print('Accuracy of Gradient boosting classifier on train set: {:.2f}'.format(grad_clf.score(X_train, y_train)))"
   ]
  },
  {
   "cell_type": "code",
   "execution_count": 135,
   "metadata": {},
   "outputs": [
    {
     "name": "stdout",
     "output_type": "stream",
     "text": [
      "10-fold cross validation average accuracy: 0.900\n"
     ]
    }
   ],
   "source": [
    "from sklearn import model_selection\n",
    "from sklearn.model_selection import cross_val_score\n",
    "kfold = model_selection.KFold(n_splits=10, random_state=7)\n",
    "modelCV = GradientBoostingClassifier(learning_rate=0.08)\n",
    "scoring = 'accuracy'\n",
    "results = model_selection.cross_val_score(modelCV, X_train, y_train, cv=kfold, scoring=scoring)\n",
    "print(\"10-fold cross validation average accuracy: %.3f\" % (results.mean()))"
   ]
  },
  {
   "cell_type": "code",
   "execution_count": 136,
   "metadata": {},
   "outputs": [
    {
     "name": "stdout",
     "output_type": "stream",
     "text": [
      "[[10810   159]\n",
      " [ 1077   311]]\n"
     ]
    }
   ],
   "source": [
    "from sklearn.metrics import confusion_matrix\n",
    "confusion_matrix = confusion_matrix(y_test, y_pred)\n",
    "print(confusion_matrix)"
   ]
  },
  {
   "cell_type": "code",
   "execution_count": 141,
   "metadata": {},
   "outputs": [
    {
     "name": "stdout",
     "output_type": "stream",
     "text": [
      "Accuracy of Gradient boosting classifier on test set: 0.90\n"
     ]
    }
   ],
   "source": [
    "print('Accuracy of Gradient boosting classifier on test set: {:.2f}'.format(grad_clf.score(X_test, y_test)))"
   ]
  },
  {
   "cell_type": "code",
   "execution_count": 142,
   "metadata": {},
   "outputs": [
    {
     "name": "stdout",
     "output_type": "stream",
     "text": [
      "              precision    recall  f1-score   support\n",
      "\n",
      "          no       0.91      0.99      0.95     10969\n",
      "         yes       0.66      0.22      0.33      1388\n",
      "\n",
      "    accuracy                           0.90     12357\n",
      "   macro avg       0.79      0.60      0.64     12357\n",
      "weighted avg       0.88      0.90      0.88     12357\n",
      "\n"
     ]
    }
   ],
   "source": [
    "from sklearn.metrics import classification_report\n",
    "print(classification_report(y_test, y_pred))"
   ]
  },
  {
   "cell_type": "markdown",
   "metadata": {},
   "source": [
    "Interpretation:\n",
    "Of the entire test set, 88% of the promoted term deposit were the term deposit that the customers liked. Of the entire test set, 90% of the customer's preferred term deposit were promoted."
   ]
  },
  {
   "cell_type": "markdown",
   "metadata": {},
   "source": [
    "# 11.0 Conclusion"
   ]
  },
  {
   "cell_type": "markdown",
   "metadata": {},
   "source": [
    "1) Months of Marketing Activity: We saw that the month of highest level of marketing activity was the month of May. However, this was the month that potential clients tended to reject term deposits offers (Lowest effective rate: -34.49%). For the next marketing campaign, it will be wise for the bank to focus the marketing campaign during the months of March, September, October and December. (December should be under consideration because it was the month with the lowest marketing activity, there might be a reason why december is the lowest.)"
   ]
  },
  {
   "cell_type": "markdown",
   "metadata": {},
   "source": [
    "2) Seasonality: Potential clients opted to subscribe term deposits during the seasons of fall and winter. The next marketing campaign should focus its activity throughout these seasons."
   ]
  },
  {
   "cell_type": "markdown",
   "metadata": {},
   "source": [
    "3) Campaign Calls: A policy should be implemented that states that no more than 3 calls should be applied to the same potential client in order to save time and effort in getting new potential clients. Remember, the more we call the same potential client, the likely he or she will decline to open a term deposit."
   ]
  },
  {
   "cell_type": "markdown",
   "metadata": {},
   "source": [
    "4) Age Category: The next marketing campaign of the bank should target potential clients in their 20s or younger and 60s or older. The youngest category had a 60% chance of subscribing to a term deposit while the eldest category had a 76% chance of subscribing to a term deposit. It will be great if for the next campaign the bank addressed these two categories and therefore, increase the likelihood of more term deposits subscriptions."
   ]
  },
  {
   "cell_type": "markdown",
   "metadata": {},
   "source": [
    "5) Occupation: Not surprisingly, potential clients that were students or retired were the most likely to subscribe to a term deposit. Retired individuals, tend to have more term deposits in order to gain some cash through interest payments. Remember, term deposits are short-term loans in which the individual (in this case the retired person) agrees not to withdraw the cash from the bank until a certain date agreed between the individual and the financial institution. After that time the individual gets its capital back and its interest made on the loan. Retired individuals tend to not spend bigly its cash so they are more likely to put their cash to work by lending it to the financial institution. Students were the other group that used to subscribe term deposits."
   ]
  },
  {
   "cell_type": "markdown",
   "metadata": {},
   "source": [
    "6) House Loans and Balances: Potential clients in the low balance and no balance category were more likely to have a house loan than people in the average and high balance category. What does it mean to have a house loan? This means that the potential client has financial compromises to pay back its house loan and thus, there is no cash for he or she to subscribe to a term deposit account. However, we see that potential clients in the average and high balances are less likely to have a house loan and therefore, more likely to open a term deposit. Lastly, the next marketing campaign should focus on individuals of average and high balances in order to increase the likelihood of subscribing to a term deposit."
   ]
  },
  {
   "cell_type": "markdown",
   "metadata": {},
   "source": [
    "7) Develop a Questionnaire during the Calls: Since duration of the call is the feature that most positively correlates with whether a potential client will open a term deposit or not, by providing an interesting questionnaire for potential clients during the calls the conversation length might increase. Of course, this does not assure us that the potential client will subscribe to a term deposit! Nevertheless, we don't loose anything by implementing a strategy that will increase the level of engagement of the potential client leading to an increase probability of subscribing to a term deposit, and therefore an increase in effectiveness for the next marketing campaign the bank will execute."
   ]
  },
  {
   "cell_type": "markdown",
   "metadata": {},
   "source": [
    "8) Target individuals with a higher duration (above 375): Target the target group that is above average in duration, there is a highly likelihood that this target group would open a term deposit account. The likelihood that this group would open a term deposit account is at 78% which is pretty high. This would allow that the success rate of the next marketing campaign would be highly successful."
   ]
  },
  {
   "cell_type": "markdown",
   "metadata": {},
   "source": [
    "By combining all these strategies and simplifying the market audience the next campaign should address, it is likely that the next marketing campaign of the bank will be more effective than the current one.\n"
   ]
  }
 ],
 "metadata": {
  "kernelspec": {
   "display_name": "Python 3 (ipykernel)",
   "language": "python",
   "name": "python3"
  },
  "language_info": {
   "codemirror_mode": {
    "name": "ipython",
    "version": 3
   },
   "file_extension": ".py",
   "mimetype": "text/x-python",
   "name": "python",
   "nbconvert_exporter": "python",
   "pygments_lexer": "ipython3",
   "version": "3.8.8"
  },
  "toc": {
   "base_numbering": "",
   "nav_menu": {},
   "number_sections": false,
   "sideBar": true,
   "skip_h1_title": false,
   "title_cell": "Table of Contents",
   "title_sidebar": "Contents",
   "toc_cell": true,
   "toc_position": {
    "height": "477px",
    "left": "67px",
    "top": "110px",
    "width": "286.188px"
   },
   "toc_section_display": true,
   "toc_window_display": true
  },
  "varInspector": {
   "cols": {
    "lenName": 16,
    "lenType": 16,
    "lenVar": 40
   },
   "kernels_config": {
    "python": {
     "delete_cmd_postfix": "",
     "delete_cmd_prefix": "del ",
     "library": "var_list.py",
     "varRefreshCmd": "print(var_dic_list())"
    },
    "r": {
     "delete_cmd_postfix": ") ",
     "delete_cmd_prefix": "rm(",
     "library": "var_list.r",
     "varRefreshCmd": "cat(var_dic_list()) "
    }
   },
   "types_to_exclude": [
    "module",
    "function",
    "builtin_function_or_method",
    "instance",
    "_Feature"
   ],
   "window_display": false
  }
 },
 "nbformat": 4,
 "nbformat_minor": 2
}
